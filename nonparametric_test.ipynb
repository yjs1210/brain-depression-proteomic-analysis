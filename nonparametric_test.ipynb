{
 "cells": [
  {
   "cell_type": "code",
   "execution_count": 1,
   "metadata": {},
   "outputs": [],
   "source": [
    "import pandas as pd\n",
    "import numpy as np\n",
    "from sklearn.decomposition import PCA\n",
    "import matplotlib.pyplot as plt\n",
    "import seaborn as sns\n"
   ]
  },
  {
   "cell_type": "code",
   "execution_count": 2,
   "metadata": {},
   "outputs": [],
   "source": [
    "df = pd.read_excel('data/Report_21_050718_3.xls')"
   ]
  },
  {
   "cell_type": "code",
   "execution_count": 3,
   "metadata": {},
   "outputs": [],
   "source": [
    "df_demographics = pd.read_excel('data/Proteomics-Subjects_Wcodes.xlsx')"
   ]
  },
  {
   "cell_type": "code",
   "execution_count": 4,
   "metadata": {},
   "outputs": [],
   "source": [
    "df_detailed_demographics = pd.read_excel('data/demographics_detailed.xlsx')"
   ]
  },
  {
   "cell_type": "code",
   "execution_count": 5,
   "metadata": {},
   "outputs": [
    {
     "data": {
      "text/html": [
       "<div>\n",
       "<style scoped>\n",
       "    .dataframe tbody tr th:only-of-type {\n",
       "        vertical-align: middle;\n",
       "    }\n",
       "\n",
       "    .dataframe tbody tr th {\n",
       "        vertical-align: top;\n",
       "    }\n",
       "\n",
       "    .dataframe thead th {\n",
       "        text-align: right;\n",
       "    }\n",
       "</style>\n",
       "<table border=\"1\" class=\"dataframe\">\n",
       "  <thead>\n",
       "    <tr style=\"text-align: right;\">\n",
       "      <th></th>\n",
       "      <th>ID</th>\n",
       "      <th>GROUP</th>\n",
       "      <th>SEX</th>\n",
       "      <th>AGE</th>\n",
       "      <th>SUICIDE</th>\n",
       "      <th>MODE OF DEATH</th>\n",
       "      <th>TOXICOLOGY</th>\n",
       "      <th>PMI</th>\n",
       "      <th>BRAIN PH</th>\n",
       "      <th>GAS</th>\n",
       "      <th>Duration MDD</th>\n",
       "      <th>MDD Onset</th>\n",
       "      <th>MDD Epi</th>\n",
       "      <th>ETHNICITY</th>\n",
       "      <th>SMOKER</th>\n",
       "    </tr>\n",
       "  </thead>\n",
       "  <tbody>\n",
       "    <tr>\n",
       "      <th>0</th>\n",
       "      <td>1043</td>\n",
       "      <td>Control</td>\n",
       "      <td>F</td>\n",
       "      <td>14</td>\n",
       "      <td>NonSuicide</td>\n",
       "      <td>Traffic Accident-Pedestrian (Accident)</td>\n",
       "      <td>NONE</td>\n",
       "      <td>17.0</td>\n",
       "      <td>Pending</td>\n",
       "      <td>100</td>\n",
       "      <td>NaN</td>\n",
       "      <td>NaN</td>\n",
       "      <td>NaN</td>\n",
       "      <td>Caucasian</td>\n",
       "      <td>Light Smoker</td>\n",
       "    </tr>\n",
       "    <tr>\n",
       "      <th>1</th>\n",
       "      <td>428</td>\n",
       "      <td>Control</td>\n",
       "      <td>M</td>\n",
       "      <td>19</td>\n",
       "      <td>NonSuicide</td>\n",
       "      <td>Cardiovascular (Natural)</td>\n",
       "      <td>NONE</td>\n",
       "      <td>13.0</td>\n",
       "      <td>6.84</td>\n",
       "      <td>90</td>\n",
       "      <td>NaN</td>\n",
       "      <td>NaN</td>\n",
       "      <td>NaN</td>\n",
       "      <td>African-American</td>\n",
       "      <td>Nonsmoker</td>\n",
       "    </tr>\n",
       "    <tr>\n",
       "      <th>2</th>\n",
       "      <td>178</td>\n",
       "      <td>Control</td>\n",
       "      <td>M</td>\n",
       "      <td>25</td>\n",
       "      <td>NonSuicide</td>\n",
       "      <td>Stabbing (Accident)</td>\n",
       "      <td>NONE</td>\n",
       "      <td>9.5</td>\n",
       "      <td>6.87</td>\n",
       "      <td>76</td>\n",
       "      <td>NaN</td>\n",
       "      <td>NaN</td>\n",
       "      <td>NaN</td>\n",
       "      <td>Caucasian</td>\n",
       "      <td>Nonsmoker</td>\n",
       "    </tr>\n",
       "    <tr>\n",
       "      <th>3</th>\n",
       "      <td>771</td>\n",
       "      <td>Control</td>\n",
       "      <td>M</td>\n",
       "      <td>31</td>\n",
       "      <td>NonSuicide</td>\n",
       "      <td>Traffic Accident-Driver (Accident)</td>\n",
       "      <td>NONE</td>\n",
       "      <td>10.0</td>\n",
       "      <td>6.24</td>\n",
       "      <td>82</td>\n",
       "      <td>NaN</td>\n",
       "      <td>NaN</td>\n",
       "      <td>NaN</td>\n",
       "      <td>Caucasian</td>\n",
       "      <td>Moderate Smoker</td>\n",
       "    </tr>\n",
       "    <tr>\n",
       "      <th>4</th>\n",
       "      <td>398</td>\n",
       "      <td>Control</td>\n",
       "      <td>M</td>\n",
       "      <td>37</td>\n",
       "      <td>NonSuicide</td>\n",
       "      <td>Cardiovascular (Natural)</td>\n",
       "      <td>NONE</td>\n",
       "      <td>15.0</td>\n",
       "      <td>6.75</td>\n",
       "      <td>60</td>\n",
       "      <td>NaN</td>\n",
       "      <td>NaN</td>\n",
       "      <td>NaN</td>\n",
       "      <td>African-American</td>\n",
       "      <td>Nonsmoker</td>\n",
       "    </tr>\n",
       "    <tr>\n",
       "      <th>5</th>\n",
       "      <td>342</td>\n",
       "      <td>Control</td>\n",
       "      <td>M</td>\n",
       "      <td>39</td>\n",
       "      <td>NonSuicide</td>\n",
       "      <td>Cardiovascular (Natural)</td>\n",
       "      <td>NONE</td>\n",
       "      <td>14.0</td>\n",
       "      <td>6.79</td>\n",
       "      <td>90</td>\n",
       "      <td>NaN</td>\n",
       "      <td>NaN</td>\n",
       "      <td>NaN</td>\n",
       "      <td>Caucasian</td>\n",
       "      <td>Nonsmoker</td>\n",
       "    </tr>\n",
       "    <tr>\n",
       "      <th>6</th>\n",
       "      <td>892</td>\n",
       "      <td>Control</td>\n",
       "      <td>F</td>\n",
       "      <td>50</td>\n",
       "      <td>NonSuicide</td>\n",
       "      <td>Peritonitis (Natural)</td>\n",
       "      <td>NONE</td>\n",
       "      <td>22.0</td>\n",
       "      <td>6.1</td>\n",
       "      <td>70</td>\n",
       "      <td>NaN</td>\n",
       "      <td>NaN</td>\n",
       "      <td>NaN</td>\n",
       "      <td>Caucasian</td>\n",
       "      <td>Moderate Smoker</td>\n",
       "    </tr>\n",
       "    <tr>\n",
       "      <th>7</th>\n",
       "      <td>542</td>\n",
       "      <td>Control</td>\n",
       "      <td>M</td>\n",
       "      <td>53</td>\n",
       "      <td>NonSuicide</td>\n",
       "      <td>Stabbing (Homicide)</td>\n",
       "      <td>NONE</td>\n",
       "      <td>16.0</td>\n",
       "      <td>6.24</td>\n",
       "      <td>80</td>\n",
       "      <td>NaN</td>\n",
       "      <td>NaN</td>\n",
       "      <td>NaN</td>\n",
       "      <td>Caucasian</td>\n",
       "      <td>Moderate Smoker</td>\n",
       "    </tr>\n",
       "    <tr>\n",
       "      <th>8</th>\n",
       "      <td>766</td>\n",
       "      <td>Control</td>\n",
       "      <td>F</td>\n",
       "      <td>56</td>\n",
       "      <td>NonSuicide</td>\n",
       "      <td>Traffic Accident-Pedestrian (Accident)</td>\n",
       "      <td>NONE</td>\n",
       "      <td>19.0</td>\n",
       "      <td>6.08</td>\n",
       "      <td>86</td>\n",
       "      <td>NaN</td>\n",
       "      <td>NaN</td>\n",
       "      <td>NaN</td>\n",
       "      <td>Caucasian</td>\n",
       "      <td>Nonsmoker</td>\n",
       "    </tr>\n",
       "    <tr>\n",
       "      <th>9</th>\n",
       "      <td>432</td>\n",
       "      <td>Control</td>\n",
       "      <td>M</td>\n",
       "      <td>58</td>\n",
       "      <td>NonSuicide</td>\n",
       "      <td>Cardiovascular (Natural)</td>\n",
       "      <td>NONE</td>\n",
       "      <td>22.0</td>\n",
       "      <td>6.44</td>\n",
       "      <td>85</td>\n",
       "      <td>NaN</td>\n",
       "      <td>NaN</td>\n",
       "      <td>NaN</td>\n",
       "      <td>Caucasian</td>\n",
       "      <td>Nonsmoker</td>\n",
       "    </tr>\n",
       "    <tr>\n",
       "      <th>10</th>\n",
       "      <td>113</td>\n",
       "      <td>Control</td>\n",
       "      <td>M</td>\n",
       "      <td>66</td>\n",
       "      <td>NonSuicide</td>\n",
       "      <td>Cardiovascular (Natural)</td>\n",
       "      <td>NONE</td>\n",
       "      <td>8.0</td>\n",
       "      <td>6.56</td>\n",
       "      <td>90</td>\n",
       "      <td>NaN</td>\n",
       "      <td>NaN</td>\n",
       "      <td>NaN</td>\n",
       "      <td>Caucasian</td>\n",
       "      <td>Nonsmoker</td>\n",
       "    </tr>\n",
       "    <tr>\n",
       "      <th>11</th>\n",
       "      <td>811</td>\n",
       "      <td>Control</td>\n",
       "      <td>F</td>\n",
       "      <td>72</td>\n",
       "      <td>NonSuicide</td>\n",
       "      <td>Cardiovascular (Natural)</td>\n",
       "      <td>NONE</td>\n",
       "      <td>18.0</td>\n",
       "      <td>6.23</td>\n",
       "      <td>85</td>\n",
       "      <td>NaN</td>\n",
       "      <td>NaN</td>\n",
       "      <td>NaN</td>\n",
       "      <td>Caucasian</td>\n",
       "      <td>Nonsmoker</td>\n",
       "    </tr>\n",
       "    <tr>\n",
       "      <th>12</th>\n",
       "      <td>683</td>\n",
       "      <td>MDD</td>\n",
       "      <td>M</td>\n",
       "      <td>17</td>\n",
       "      <td>Suicide</td>\n",
       "      <td>Hanging (Suicide)</td>\n",
       "      <td>NONE</td>\n",
       "      <td>16.0</td>\n",
       "      <td>6.5</td>\n",
       "      <td>60</td>\n",
       "      <td>0.5</td>\n",
       "      <td>17</td>\n",
       "      <td>1.0</td>\n",
       "      <td>Caucasian</td>\n",
       "      <td>Moderate Smoker</td>\n",
       "    </tr>\n",
       "    <tr>\n",
       "      <th>13</th>\n",
       "      <td>1018</td>\n",
       "      <td>MDD</td>\n",
       "      <td>M</td>\n",
       "      <td>26</td>\n",
       "      <td>Suicide</td>\n",
       "      <td>Fall From Height (Suicide)</td>\n",
       "      <td>NONE</td>\n",
       "      <td>4.0</td>\n",
       "      <td>Pending</td>\n",
       "      <td>61</td>\n",
       "      <td>2</td>\n",
       "      <td>24</td>\n",
       "      <td>1.0</td>\n",
       "      <td>Caucasian</td>\n",
       "      <td>Moderate Smoker</td>\n",
       "    </tr>\n",
       "    <tr>\n",
       "      <th>14</th>\n",
       "      <td>482</td>\n",
       "      <td>MDD</td>\n",
       "      <td>M</td>\n",
       "      <td>29</td>\n",
       "      <td>NonSuicide</td>\n",
       "      <td>Respiratory Failure (Natural)</td>\n",
       "      <td>NONE</td>\n",
       "      <td>22.0</td>\n",
       "      <td>6.34</td>\n",
       "      <td>51</td>\n",
       "      <td>0.3</td>\n",
       "      <td>29</td>\n",
       "      <td>1.0</td>\n",
       "      <td>Hispanic</td>\n",
       "      <td>Nonsmoker</td>\n",
       "    </tr>\n",
       "    <tr>\n",
       "      <th>15</th>\n",
       "      <td>364</td>\n",
       "      <td>MDD</td>\n",
       "      <td>M</td>\n",
       "      <td>29</td>\n",
       "      <td>Suicide</td>\n",
       "      <td>Hanging (Suicide)</td>\n",
       "      <td>NONE</td>\n",
       "      <td>15.0</td>\n",
       "      <td>6.73</td>\n",
       "      <td>1</td>\n",
       "      <td>10</td>\n",
       "      <td>19</td>\n",
       "      <td>5.0</td>\n",
       "      <td>Caucasian</td>\n",
       "      <td>Nonsmoker</td>\n",
       "    </tr>\n",
       "    <tr>\n",
       "      <th>16</th>\n",
       "      <td>574</td>\n",
       "      <td>MDD</td>\n",
       "      <td>F</td>\n",
       "      <td>41</td>\n",
       "      <td>Suicide</td>\n",
       "      <td>Hanging (Suicide)</td>\n",
       "      <td>NONE</td>\n",
       "      <td>3.0</td>\n",
       "      <td>6.79</td>\n",
       "      <td>45</td>\n",
       "      <td>11</td>\n",
       "      <td>30</td>\n",
       "      <td>1.0</td>\n",
       "      <td>Caucasian</td>\n",
       "      <td>Pending</td>\n",
       "    </tr>\n",
       "    <tr>\n",
       "      <th>17</th>\n",
       "      <td>840</td>\n",
       "      <td>MDD</td>\n",
       "      <td>F</td>\n",
       "      <td>51</td>\n",
       "      <td>Suicide</td>\n",
       "      <td>Acid Ingestion (Suicide)</td>\n",
       "      <td>NONE</td>\n",
       "      <td>12.0</td>\n",
       "      <td>6</td>\n",
       "      <td>55</td>\n",
       "      <td>20</td>\n",
       "      <td>31</td>\n",
       "      <td>4.0</td>\n",
       "      <td>Caucasian</td>\n",
       "      <td>Moderate Smoker</td>\n",
       "    </tr>\n",
       "    <tr>\n",
       "      <th>18</th>\n",
       "      <td>507</td>\n",
       "      <td>MDD</td>\n",
       "      <td>M</td>\n",
       "      <td>56</td>\n",
       "      <td>Suicide</td>\n",
       "      <td>Hanging (Suicide)</td>\n",
       "      <td>NONE</td>\n",
       "      <td>21.0</td>\n",
       "      <td>6.56</td>\n",
       "      <td>15</td>\n",
       "      <td>3</td>\n",
       "      <td>53</td>\n",
       "      <td>1.0</td>\n",
       "      <td>Hispanic</td>\n",
       "      <td>Light Smoker</td>\n",
       "    </tr>\n",
       "    <tr>\n",
       "      <th>19</th>\n",
       "      <td>1005</td>\n",
       "      <td>MDD</td>\n",
       "      <td>F</td>\n",
       "      <td>57</td>\n",
       "      <td>NonSuicide</td>\n",
       "      <td>Hemorrhagic Pancreatitis (Natural)</td>\n",
       "      <td>NONE</td>\n",
       "      <td>9.0</td>\n",
       "      <td>6</td>\n",
       "      <td>61</td>\n",
       "      <td>0.3</td>\n",
       "      <td>57</td>\n",
       "      <td>1.0</td>\n",
       "      <td>Caucasian</td>\n",
       "      <td>Nonsmoker</td>\n",
       "    </tr>\n",
       "    <tr>\n",
       "      <th>20</th>\n",
       "      <td>406</td>\n",
       "      <td>MDD</td>\n",
       "      <td>M</td>\n",
       "      <td>62</td>\n",
       "      <td>Suicide</td>\n",
       "      <td>Drowning (Suicide)</td>\n",
       "      <td>NONE</td>\n",
       "      <td>21.0</td>\n",
       "      <td>6.37</td>\n",
       "      <td>55</td>\n",
       "      <td>4</td>\n",
       "      <td>58</td>\n",
       "      <td>2.0</td>\n",
       "      <td>Caucasian</td>\n",
       "      <td>Nonsmoker</td>\n",
       "    </tr>\n",
       "    <tr>\n",
       "      <th>21</th>\n",
       "      <td>285</td>\n",
       "      <td>MDD</td>\n",
       "      <td>M</td>\n",
       "      <td>64</td>\n",
       "      <td>Suicide</td>\n",
       "      <td>Gun Shot Wound (Suicide)</td>\n",
       "      <td>NONE</td>\n",
       "      <td>19.5</td>\n",
       "      <td>6.38</td>\n",
       "      <td>45</td>\n",
       "      <td>0.5</td>\n",
       "      <td>64</td>\n",
       "      <td>1.0</td>\n",
       "      <td>Caucasian</td>\n",
       "      <td>Pending</td>\n",
       "    </tr>\n",
       "    <tr>\n",
       "      <th>22</th>\n",
       "      <td>893</td>\n",
       "      <td>MDD</td>\n",
       "      <td>F</td>\n",
       "      <td>71</td>\n",
       "      <td>Suicide</td>\n",
       "      <td>Drowning (Suicide)</td>\n",
       "      <td>NONE</td>\n",
       "      <td>7.0</td>\n",
       "      <td>6.3</td>\n",
       "      <td>30</td>\n",
       "      <td>3</td>\n",
       "      <td>68</td>\n",
       "      <td>2.0</td>\n",
       "      <td>Caucasian</td>\n",
       "      <td>Nonsmoker</td>\n",
       "    </tr>\n",
       "    <tr>\n",
       "      <th>23</th>\n",
       "      <td>330</td>\n",
       "      <td>MDD</td>\n",
       "      <td>M</td>\n",
       "      <td>76</td>\n",
       "      <td>NonSuicide</td>\n",
       "      <td>Traffic Accident-Driver (Accident)</td>\n",
       "      <td>NONE</td>\n",
       "      <td>24.0</td>\n",
       "      <td>6.09</td>\n",
       "      <td>85</td>\n",
       "      <td>12</td>\n",
       "      <td>64</td>\n",
       "      <td>1.0</td>\n",
       "      <td>African-American</td>\n",
       "      <td>Nonsmoker</td>\n",
       "    </tr>\n",
       "    <tr>\n",
       "      <th>24</th>\n",
       "      <td>371</td>\n",
       "      <td>MDD*ADT</td>\n",
       "      <td>F</td>\n",
       "      <td>24</td>\n",
       "      <td>Suicide</td>\n",
       "      <td>Fall From Height (Suicide)</td>\n",
       "      <td>Fluoxetine, Sertraline, Trazodone, Bupropion, ...</td>\n",
       "      <td>14.0</td>\n",
       "      <td>6.42</td>\n",
       "      <td>1</td>\n",
       "      <td>7</td>\n",
       "      <td>17</td>\n",
       "      <td>2.0</td>\n",
       "      <td>Caucasian</td>\n",
       "      <td>Nonsmoker</td>\n",
       "    </tr>\n",
       "    <tr>\n",
       "      <th>25</th>\n",
       "      <td>190</td>\n",
       "      <td>MDD*ADT</td>\n",
       "      <td>F</td>\n",
       "      <td>28</td>\n",
       "      <td>Suicide</td>\n",
       "      <td>Fall From Height (Suicide)</td>\n",
       "      <td>Nortriptyline, Clonazepam</td>\n",
       "      <td>19.0</td>\n",
       "      <td>6.32</td>\n",
       "      <td>37</td>\n",
       "      <td>9</td>\n",
       "      <td>19</td>\n",
       "      <td>2.0</td>\n",
       "      <td>Caucasian</td>\n",
       "      <td>Nonsmoker</td>\n",
       "    </tr>\n",
       "    <tr>\n",
       "      <th>26</th>\n",
       "      <td>210</td>\n",
       "      <td>MDD*ADT</td>\n",
       "      <td>M</td>\n",
       "      <td>31</td>\n",
       "      <td>Suicide</td>\n",
       "      <td>Gun Shot Wound (Suicide)</td>\n",
       "      <td>Fluoxetine, Amitriptyline</td>\n",
       "      <td>6.0</td>\n",
       "      <td>6.61</td>\n",
       "      <td>60</td>\n",
       "      <td>10</td>\n",
       "      <td>21</td>\n",
       "      <td>2.0</td>\n",
       "      <td>Caucasian</td>\n",
       "      <td>Nonsmoker</td>\n",
       "    </tr>\n",
       "    <tr>\n",
       "      <th>27</th>\n",
       "      <td>118</td>\n",
       "      <td>MDD*ADT</td>\n",
       "      <td>F</td>\n",
       "      <td>31</td>\n",
       "      <td>Suicide</td>\n",
       "      <td>Overdose (Suicide)</td>\n",
       "      <td>Fluoxetine, Trazodone, Nortiptyline, Lorazepam</td>\n",
       "      <td>7.5</td>\n",
       "      <td>6.47</td>\n",
       "      <td>37</td>\n",
       "      <td>Pending</td>\n",
       "      <td>Pending</td>\n",
       "      <td>2.0</td>\n",
       "      <td>Caucasian</td>\n",
       "      <td>Nonsmoker</td>\n",
       "    </tr>\n",
       "    <tr>\n",
       "      <th>28</th>\n",
       "      <td>302</td>\n",
       "      <td>MDD*ADT</td>\n",
       "      <td>M</td>\n",
       "      <td>33</td>\n",
       "      <td>Suicide</td>\n",
       "      <td>Hanging (Suicide)</td>\n",
       "      <td>Paroxetine, Bupropion, Lorazepam</td>\n",
       "      <td>18.0</td>\n",
       "      <td>6.4</td>\n",
       "      <td>50</td>\n",
       "      <td>0.3</td>\n",
       "      <td>33</td>\n",
       "      <td>2.0</td>\n",
       "      <td>Caucasian</td>\n",
       "      <td>Nonsmoker</td>\n",
       "    </tr>\n",
       "    <tr>\n",
       "      <th>29</th>\n",
       "      <td>438</td>\n",
       "      <td>MDD*ADT</td>\n",
       "      <td>F</td>\n",
       "      <td>34</td>\n",
       "      <td>Suicide</td>\n",
       "      <td>Overdose (Suicide)</td>\n",
       "      <td>Sertraline, Nortriptyline, Lorazepam</td>\n",
       "      <td>39.0</td>\n",
       "      <td>6.08</td>\n",
       "      <td>5</td>\n",
       "      <td>Pending</td>\n",
       "      <td>Pending</td>\n",
       "      <td>4.0</td>\n",
       "      <td>Caucasian</td>\n",
       "      <td>Nonsmoker</td>\n",
       "    </tr>\n",
       "    <tr>\n",
       "      <th>30</th>\n",
       "      <td>422</td>\n",
       "      <td>MDD*ADT</td>\n",
       "      <td>F</td>\n",
       "      <td>40</td>\n",
       "      <td>Suicide</td>\n",
       "      <td>Fall From Height (Suicide)</td>\n",
       "      <td>Paroxetine, Trazodone, Lithium, Velafaxine</td>\n",
       "      <td>18.0</td>\n",
       "      <td>7.03</td>\n",
       "      <td>1</td>\n",
       "      <td>0.3</td>\n",
       "      <td>40</td>\n",
       "      <td>1.0</td>\n",
       "      <td>Hispanic</td>\n",
       "      <td>Light Smoker</td>\n",
       "    </tr>\n",
       "    <tr>\n",
       "      <th>31</th>\n",
       "      <td>372</td>\n",
       "      <td>MDD*ADT</td>\n",
       "      <td>M</td>\n",
       "      <td>44</td>\n",
       "      <td>NonSuicide</td>\n",
       "      <td>Overdose (Suicide)</td>\n",
       "      <td>Fluoxetine, Lithium</td>\n",
       "      <td>13.0</td>\n",
       "      <td>6.96</td>\n",
       "      <td>41</td>\n",
       "      <td>Pending</td>\n",
       "      <td>Pending</td>\n",
       "      <td>4.0</td>\n",
       "      <td>Caucasian</td>\n",
       "      <td>Moderate Smoker</td>\n",
       "    </tr>\n",
       "    <tr>\n",
       "      <th>32</th>\n",
       "      <td>320</td>\n",
       "      <td>MDD*ADT</td>\n",
       "      <td>F</td>\n",
       "      <td>50</td>\n",
       "      <td>NonSuicide</td>\n",
       "      <td>Respiratory Failure (Natural)</td>\n",
       "      <td>Sertraline</td>\n",
       "      <td>24.0</td>\n",
       "      <td>5.9</td>\n",
       "      <td>51</td>\n",
       "      <td>27</td>\n",
       "      <td>23</td>\n",
       "      <td>5.0</td>\n",
       "      <td>Caucasian</td>\n",
       "      <td>Nonsmoker</td>\n",
       "    </tr>\n",
       "    <tr>\n",
       "      <th>33</th>\n",
       "      <td>397</td>\n",
       "      <td>MDD*ADT</td>\n",
       "      <td>M</td>\n",
       "      <td>61</td>\n",
       "      <td>Suicide</td>\n",
       "      <td>Fall From Height (Suicide)</td>\n",
       "      <td>Fluoxetine, Sertraline</td>\n",
       "      <td>24.0</td>\n",
       "      <td>7.14</td>\n",
       "      <td>10</td>\n",
       "      <td>0.3</td>\n",
       "      <td>61</td>\n",
       "      <td>1.0</td>\n",
       "      <td>Caucasian</td>\n",
       "      <td>Nonsmoker</td>\n",
       "    </tr>\n",
       "    <tr>\n",
       "      <th>34</th>\n",
       "      <td>360</td>\n",
       "      <td>MDD*ADT</td>\n",
       "      <td>M</td>\n",
       "      <td>61</td>\n",
       "      <td>Suicide</td>\n",
       "      <td>Fall From Height (Suicide)</td>\n",
       "      <td>Sertraline, Nortriptyline, Velafaxine</td>\n",
       "      <td>12.0</td>\n",
       "      <td>6.76</td>\n",
       "      <td>1</td>\n",
       "      <td>0.3</td>\n",
       "      <td>61</td>\n",
       "      <td>1.0</td>\n",
       "      <td>Caucasian</td>\n",
       "      <td>Pending</td>\n",
       "    </tr>\n",
       "    <tr>\n",
       "      <th>35</th>\n",
       "      <td>373</td>\n",
       "      <td>MDD*ADT</td>\n",
       "      <td>M</td>\n",
       "      <td>84</td>\n",
       "      <td>Suicide</td>\n",
       "      <td>Fall From Height (Suicide)</td>\n",
       "      <td>Paroxetine, Trazodone</td>\n",
       "      <td>9.0</td>\n",
       "      <td>6.48</td>\n",
       "      <td>1</td>\n",
       "      <td>0.3</td>\n",
       "      <td>84</td>\n",
       "      <td>1.0</td>\n",
       "      <td>Caucasian</td>\n",
       "      <td>Nonsmoker</td>\n",
       "    </tr>\n",
       "  </tbody>\n",
       "</table>\n",
       "</div>"
      ],
      "text/plain": [
       "      ID    GROUP SEX  AGE     SUICIDE  \\\n",
       "0   1043  Control   F   14  NonSuicide   \n",
       "1    428  Control   M   19  NonSuicide   \n",
       "2    178  Control   M   25  NonSuicide   \n",
       "3    771  Control   M   31  NonSuicide   \n",
       "4    398  Control   M   37  NonSuicide   \n",
       "5    342  Control   M   39  NonSuicide   \n",
       "6    892  Control   F   50  NonSuicide   \n",
       "7    542  Control   M   53  NonSuicide   \n",
       "8    766  Control   F   56  NonSuicide   \n",
       "9    432  Control   M   58  NonSuicide   \n",
       "10   113  Control   M   66  NonSuicide   \n",
       "11   811  Control   F   72  NonSuicide   \n",
       "12   683      MDD   M   17     Suicide   \n",
       "13  1018      MDD   M   26     Suicide   \n",
       "14   482      MDD   M   29  NonSuicide   \n",
       "15   364      MDD   M   29     Suicide   \n",
       "16   574      MDD   F   41     Suicide   \n",
       "17   840      MDD   F   51     Suicide   \n",
       "18   507      MDD   M   56     Suicide   \n",
       "19  1005      MDD   F   57  NonSuicide   \n",
       "20   406      MDD   M   62     Suicide   \n",
       "21   285      MDD   M   64     Suicide   \n",
       "22   893      MDD   F   71     Suicide   \n",
       "23   330      MDD   M   76  NonSuicide   \n",
       "24   371  MDD*ADT   F   24     Suicide   \n",
       "25   190  MDD*ADT   F   28     Suicide   \n",
       "26   210  MDD*ADT   M   31     Suicide   \n",
       "27   118  MDD*ADT   F   31     Suicide   \n",
       "28   302  MDD*ADT   M   33     Suicide   \n",
       "29   438  MDD*ADT   F   34     Suicide   \n",
       "30   422  MDD*ADT   F   40     Suicide   \n",
       "31   372  MDD*ADT   M   44  NonSuicide   \n",
       "32   320  MDD*ADT   F   50  NonSuicide   \n",
       "33   397  MDD*ADT   M   61     Suicide   \n",
       "34   360  MDD*ADT   M   61     Suicide   \n",
       "35   373  MDD*ADT   M   84     Suicide   \n",
       "\n",
       "                             MODE OF DEATH  \\\n",
       "0   Traffic Accident-Pedestrian (Accident)   \n",
       "1                 Cardiovascular (Natural)   \n",
       "2                      Stabbing (Accident)   \n",
       "3       Traffic Accident-Driver (Accident)   \n",
       "4                 Cardiovascular (Natural)   \n",
       "5                 Cardiovascular (Natural)   \n",
       "6                    Peritonitis (Natural)   \n",
       "7                      Stabbing (Homicide)   \n",
       "8   Traffic Accident-Pedestrian (Accident)   \n",
       "9                 Cardiovascular (Natural)   \n",
       "10                Cardiovascular (Natural)   \n",
       "11                Cardiovascular (Natural)   \n",
       "12                       Hanging (Suicide)   \n",
       "13              Fall From Height (Suicide)   \n",
       "14           Respiratory Failure (Natural)   \n",
       "15                       Hanging (Suicide)   \n",
       "16                       Hanging (Suicide)   \n",
       "17                Acid Ingestion (Suicide)   \n",
       "18                       Hanging (Suicide)   \n",
       "19      Hemorrhagic Pancreatitis (Natural)   \n",
       "20                      Drowning (Suicide)   \n",
       "21                Gun Shot Wound (Suicide)   \n",
       "22                      Drowning (Suicide)   \n",
       "23      Traffic Accident-Driver (Accident)   \n",
       "24              Fall From Height (Suicide)   \n",
       "25              Fall From Height (Suicide)   \n",
       "26                Gun Shot Wound (Suicide)   \n",
       "27                      Overdose (Suicide)   \n",
       "28                       Hanging (Suicide)   \n",
       "29                      Overdose (Suicide)   \n",
       "30              Fall From Height (Suicide)   \n",
       "31                      Overdose (Suicide)   \n",
       "32           Respiratory Failure (Natural)   \n",
       "33              Fall From Height (Suicide)   \n",
       "34              Fall From Height (Suicide)   \n",
       "35              Fall From Height (Suicide)   \n",
       "\n",
       "                                           TOXICOLOGY   PMI BRAIN PH  GAS  \\\n",
       "0                                                NONE  17.0  Pending  100   \n",
       "1                                                NONE  13.0     6.84   90   \n",
       "2                                                NONE   9.5     6.87   76   \n",
       "3                                                NONE  10.0     6.24   82   \n",
       "4                                                NONE  15.0     6.75   60   \n",
       "5                                                NONE  14.0     6.79   90   \n",
       "6                                                NONE  22.0      6.1   70   \n",
       "7                                                NONE  16.0     6.24   80   \n",
       "8                                                NONE  19.0     6.08   86   \n",
       "9                                                NONE  22.0     6.44   85   \n",
       "10                                               NONE   8.0     6.56   90   \n",
       "11                                               NONE  18.0     6.23   85   \n",
       "12                                               NONE  16.0      6.5   60   \n",
       "13                                               NONE   4.0  Pending   61   \n",
       "14                                               NONE  22.0     6.34   51   \n",
       "15                                               NONE  15.0     6.73    1   \n",
       "16                                               NONE   3.0     6.79   45   \n",
       "17                                               NONE  12.0        6   55   \n",
       "18                                               NONE  21.0     6.56   15   \n",
       "19                                               NONE   9.0        6   61   \n",
       "20                                               NONE  21.0     6.37   55   \n",
       "21                                               NONE  19.5     6.38   45   \n",
       "22                                               NONE   7.0      6.3   30   \n",
       "23                                               NONE  24.0     6.09   85   \n",
       "24  Fluoxetine, Sertraline, Trazodone, Bupropion, ...  14.0     6.42    1   \n",
       "25                          Nortriptyline, Clonazepam  19.0     6.32   37   \n",
       "26                          Fluoxetine, Amitriptyline   6.0     6.61   60   \n",
       "27     Fluoxetine, Trazodone, Nortiptyline, Lorazepam   7.5     6.47   37   \n",
       "28                   Paroxetine, Bupropion, Lorazepam  18.0      6.4   50   \n",
       "29               Sertraline, Nortriptyline, Lorazepam  39.0     6.08    5   \n",
       "30         Paroxetine, Trazodone, Lithium, Velafaxine  18.0     7.03    1   \n",
       "31                                Fluoxetine, Lithium  13.0     6.96   41   \n",
       "32                                         Sertraline  24.0      5.9   51   \n",
       "33                            Fluoxetine, Sertraline   24.0     7.14   10   \n",
       "34              Sertraline, Nortriptyline, Velafaxine  12.0     6.76    1   \n",
       "35                              Paroxetine, Trazodone   9.0     6.48    1   \n",
       "\n",
       "   Duration MDD MDD Onset  MDD Epi         ETHNICITY           SMOKER  \n",
       "0           NaN       NaN      NaN         Caucasian     Light Smoker  \n",
       "1           NaN       NaN      NaN  African-American        Nonsmoker  \n",
       "2           NaN       NaN      NaN         Caucasian        Nonsmoker  \n",
       "3           NaN       NaN      NaN         Caucasian  Moderate Smoker  \n",
       "4           NaN       NaN      NaN  African-American        Nonsmoker  \n",
       "5           NaN       NaN      NaN         Caucasian        Nonsmoker  \n",
       "6           NaN       NaN      NaN         Caucasian  Moderate Smoker  \n",
       "7           NaN       NaN      NaN         Caucasian  Moderate Smoker  \n",
       "8           NaN       NaN      NaN         Caucasian        Nonsmoker  \n",
       "9           NaN       NaN      NaN         Caucasian        Nonsmoker  \n",
       "10          NaN       NaN      NaN         Caucasian        Nonsmoker  \n",
       "11          NaN       NaN      NaN         Caucasian        Nonsmoker  \n",
       "12          0.5        17      1.0         Caucasian  Moderate Smoker  \n",
       "13            2        24      1.0         Caucasian  Moderate Smoker  \n",
       "14          0.3        29      1.0          Hispanic        Nonsmoker  \n",
       "15           10        19      5.0         Caucasian        Nonsmoker  \n",
       "16           11        30      1.0         Caucasian          Pending  \n",
       "17           20        31      4.0         Caucasian  Moderate Smoker  \n",
       "18            3        53      1.0          Hispanic     Light Smoker  \n",
       "19          0.3        57      1.0         Caucasian        Nonsmoker  \n",
       "20            4        58      2.0         Caucasian        Nonsmoker  \n",
       "21          0.5        64      1.0         Caucasian          Pending  \n",
       "22            3        68      2.0         Caucasian        Nonsmoker  \n",
       "23           12        64      1.0  African-American        Nonsmoker  \n",
       "24            7        17      2.0         Caucasian        Nonsmoker  \n",
       "25            9        19      2.0         Caucasian        Nonsmoker  \n",
       "26           10        21      2.0         Caucasian        Nonsmoker  \n",
       "27      Pending   Pending      2.0         Caucasian        Nonsmoker  \n",
       "28          0.3        33      2.0         Caucasian        Nonsmoker  \n",
       "29      Pending   Pending      4.0         Caucasian        Nonsmoker  \n",
       "30          0.3        40      1.0          Hispanic     Light Smoker  \n",
       "31      Pending   Pending      4.0         Caucasian  Moderate Smoker  \n",
       "32           27        23      5.0         Caucasian        Nonsmoker  \n",
       "33          0.3        61      1.0         Caucasian        Nonsmoker  \n",
       "34          0.3        61      1.0         Caucasian          Pending  \n",
       "35          0.3        84      1.0         Caucasian        Nonsmoker  "
      ]
     },
     "execution_count": 5,
     "metadata": {},
     "output_type": "execute_result"
    }
   ],
   "source": [
    "df_detailed_demographics"
   ]
  },
  {
   "cell_type": "code",
   "execution_count": 6,
   "metadata": {},
   "outputs": [],
   "source": [
    "df.columns = df.columns.str.replace(' ','_').str.lower()\n",
    "df_demographics.columns = df_demographics.columns.str.replace(' ','_').str.lower()"
   ]
  },
  {
   "cell_type": "code",
   "execution_count": 5,
   "metadata": {},
   "outputs": [],
   "source": [
    "'''\n",
    "Converting long data to wide data\n",
    "There are 12 subjects per group with 2 different dosages and total of 3 groups for 72 rows. \n",
    "We first identify the 72 columns, iterate through them and create one row per that item using pivot.\n",
    "'''\n",
    "out = pd.DataFrame()\n",
    "for i in list(df.columns[((df.columns.str.endswith('_1') | df.columns.str.endswith('_2')))]):\n",
    "    pat_info = i.split('_')\n",
    "    df['pat_id'] = pat_info[0][1:]\n",
    "    row = df.pivot(index='pat_id', columns='uniprot_id', values=i)\n",
    "    row['dt_start'] = pat_info[1]\n",
    "    row['dt_end'] = pat_info[2]\n",
    "    row['dose']  = pat_info[3][:-2]\n",
    "    row['group']  = pat_info[0][0]\n",
    "    out = out.append(row)\n",
    "out = out.replace(np.nan,0)"
   ]
  },
  {
   "cell_type": "markdown",
   "metadata": {},
   "source": [
    "##### Fix Types"
   ]
  },
  {
   "cell_type": "code",
   "execution_count": 6,
   "metadata": {},
   "outputs": [],
   "source": [
    "out['dose'] = out['dose'].astype('int64', copy=False)"
   ]
  },
  {
   "cell_type": "code",
   "execution_count": 7,
   "metadata": {},
   "outputs": [],
   "source": [
    "out = out.replace(0,np.nan)"
   ]
  },
  {
   "cell_type": "code",
   "execution_count": 8,
   "metadata": {},
   "outputs": [],
   "source": [
    "out.index = out.index.astype('int64')\n",
    "df_demographics.set_index('id',inplace=True)\n",
    "out = out.join(df_demographics)"
   ]
  },
  {
   "cell_type": "code",
   "execution_count": 9,
   "metadata": {},
   "outputs": [],
   "source": [
    "numeric_cols = out.loc[:,out.dtypes =='float64']\n",
    "numeric_cols = np.log(numeric_cols)\n",
    "non_numeric_cols = out.loc[:,~(out.dtypes =='float64')]\n",
    "out = pd.concat([numeric_cols,non_numeric_cols], axis=1)"
   ]
  },
  {
   "cell_type": "code",
   "execution_count": 10,
   "metadata": {},
   "outputs": [],
   "source": [
    "data = out"
   ]
  },
  {
   "cell_type": "code",
   "execution_count": 11,
   "metadata": {},
   "outputs": [],
   "source": [
    "data = data.drop(['group','gr','sex'], axis=1)"
   ]
  },
  {
   "cell_type": "code",
   "execution_count": 12,
   "metadata": {},
   "outputs": [],
   "source": [
    "data.suicide.replace(to_replace=['Non-Suic', 'Suicide'], value=[0, 1], inplace=True)\n",
    "data_y = data['suicide']\n",
    "data_x = data.drop(['suicide','dt_start','dt_end'], axis = 1)"
   ]
  },
  {
   "cell_type": "markdown",
   "metadata": {},
   "source": [
    "# Use random forest to identify important features"
   ]
  },
  {
   "cell_type": "code",
   "execution_count": 17,
   "metadata": {},
   "outputs": [],
   "source": [
    "import warnings\n",
    "from xgboost import XGBClassifier\n",
    "\n",
    "with warnings.catch_warnings():\n",
    "    warnings.simplefilter(\"ignore\")\n",
    "    xgb = XGBClassifier(n_estimators=100,max_depth = 5 , class_weight=\"balanced\", random_state=100)\n",
    "    xgb.fit(data_x,data_y)"
   ]
  },
  {
   "cell_type": "code",
   "execution_count": 18,
   "metadata": {},
   "outputs": [],
   "source": [
    "importances = xgb.feature_importances_"
   ]
  },
  {
   "cell_type": "code",
   "execution_count": 19,
   "metadata": {},
   "outputs": [],
   "source": [
    "indices = np.argsort(importances)[::-1]\n",
    "\n",
    "df_list = []\n",
    "\n",
    "for f in range(data_x.shape[1]):\n",
    "    df_list.append([list(data_x.columns)[indices[f]], importances[indices[f]]])\n",
    "    \n",
    "feature_rank = pd.DataFrame(df_list)\n",
    "feature_rank = feature_rank.rename(columns={0:'feature',1:'importance'})"
   ]
  },
  {
   "cell_type": "code",
   "execution_count": 20,
   "metadata": {},
   "outputs": [
    {
     "data": {
      "text/plain": [
       "<matplotlib.axes._subplots.AxesSubplot at 0x267d537b278>"
      ]
     },
     "execution_count": 20,
     "metadata": {},
     "output_type": "execute_result"
    },
    {
     "data": {
      "image/png": "[encoded data removed]",
      "text/plain": [
       "<Figure size 432x288 with 1 Axes>"
      ]
     },
     "metadata": {
      "needs_background": "light"
     },
     "output_type": "display_data"
    }
   ],
   "source": [
    "feature_rank[feature_rank['importance']>0].plot.bar(x='feature', y='importance', rot=90)"
   ]
  },
  {
   "cell_type": "markdown",
   "metadata": {},
   "source": [
    "# Visualize the distribution of the most important feature identified by Random Forest"
   ]
  },
  {
   "cell_type": "code",
   "execution_count": null,
   "metadata": {},
   "outputs": [],
   "source": [
    "nonsuicide depressed, suicdie depressed, controls "
   ]
  },
  {
   "cell_type": "code",
   "execution_count": 19,
   "metadata": {},
   "outputs": [
    {
     "name": "stdout",
     "output_type": "stream",
     "text": [
      "PRS8_HUMAN\n"
     ]
    },
    {
     "name": "stderr",
     "output_type": "stream",
     "text": [
      "C:\\Users\\James\\Anaconda3\\lib\\site-packages\\scipy\\stats\\stats.py:1713: FutureWarning: Using a non-tuple sequence for multidimensional indexing is deprecated; use `arr[tuple(seq)]` instead of `arr[seq]`. In the future this will be interpreted as an array index, `arr[np.array(seq)]`, which will result either in an error or a different result.\n",
      "  return np.add.reduce(sorted[indexer] * weights, axis=axis) / sumval\n"
     ]
    },
    {
     "data": {
      "text/plain": [
       "<matplotlib.axes._subplots.AxesSubplot at 0x25b5d1daac8>"
      ]
     },
     "execution_count": 19,
     "metadata": {},
     "output_type": "execute_result"
    },
    {
     "data": {
      "image/png": "[encoded data removed]",
      "text/plain": [
       "<Figure size 432x288 with 1 Axes>"
      ]
     },
     "metadata": {
      "needs_background": "light"
     },
     "output_type": "display_data"
    }
   ],
   "source": [
    "feature1 = feature_rank.iloc[0]['feature']\n",
    "print(feature1)\n",
    "sns.kdeplot(data[(data['suicide']==0)]['FGF9_HUMAN'],label='non-suicide')\n",
    "sns.kdeplot(data[(data['suicide']==1)]['FGF9_HUMAN'],label='suicide')"
   ]
  },
  {
   "cell_type": "markdown",
   "metadata": {},
   "source": [
    "# Run t-test to see which features are statistically significant between two groups"
   ]
  },
  {
   "cell_type": "code",
   "execution_count": 20,
   "metadata": {},
   "outputs": [],
   "source": [
    "import scipy "
   ]
  },
  {
   "cell_type": "code",
   "execution_count": 21,
   "metadata": {},
   "outputs": [],
   "source": [
    "from scipy import stats\n",
    "\n",
    "pvalues = []\n",
    "for index,row in feature_rank[feature_rank['importance']>0].iterrows():\n",
    "    if index > 100:\n",
    "        break\n",
    "    feature = row['feature']\n",
    "    if feature != 'dt_end':\n",
    "        p = scipy.stats.mannwhitneyu(data[data['suicide']==0][feature], data[data['suicide']==1][feature], use_continuity=True, alternative=None)[1]\n",
    "        pvalues.append([feature,p])\n",
    "\n",
    "pvalues = pd.DataFrame(pvalues)\n",
    "pvalues = pvalues.rename(columns={0:'feature',1:'pvalues'})"
   ]
  },
  {
   "cell_type": "code",
   "execution_count": 22,
   "metadata": {},
   "outputs": [
    {
     "data": {
      "text/plain": [
       "MannwhitneyuResult(statistic=431.0, pvalue=0.007770977240719859)"
      ]
     },
     "execution_count": 22,
     "metadata": {},
     "output_type": "execute_result"
    }
   ],
   "source": [
    "scipy.stats.mannwhitneyu(data[data['suicide']==0][feature], data[data['suicide']==1][feature], use_continuity=True, alternative=None)"
   ]
  },
  {
   "cell_type": "markdown",
   "metadata": {},
   "source": [
    "### Using Boneferroni adjustments"
   ]
  },
  {
   "cell_type": "code",
   "execution_count": 23,
   "metadata": {},
   "outputs": [
    {
     "data": {
      "text/html": [
       "<div>\n",
       "<style scoped>\n",
       "    .dataframe tbody tr th:only-of-type {\n",
       "        vertical-align: middle;\n",
       "    }\n",
       "\n",
       "    .dataframe tbody tr th {\n",
       "        vertical-align: top;\n",
       "    }\n",
       "\n",
       "    .dataframe thead th {\n",
       "        text-align: right;\n",
       "    }\n",
       "</style>\n",
       "<table border=\"1\" class=\"dataframe\">\n",
       "  <thead>\n",
       "    <tr style=\"text-align: right;\">\n",
       "      <th></th>\n",
       "      <th>feature</th>\n",
       "      <th>pvalues</th>\n",
       "    </tr>\n",
       "  </thead>\n",
       "  <tbody>\n",
       "    <tr>\n",
       "      <th>0</th>\n",
       "      <td>PRS8_HUMAN</td>\n",
       "      <td>0.000273</td>\n",
       "    </tr>\n",
       "    <tr>\n",
       "      <th>16</th>\n",
       "      <td>ATD3A_HUMAN</td>\n",
       "      <td>0.000067</td>\n",
       "    </tr>\n",
       "    <tr>\n",
       "      <th>17</th>\n",
       "      <td>CPNE1_HUMAN</td>\n",
       "      <td>0.000380</td>\n",
       "    </tr>\n",
       "  </tbody>\n",
       "</table>\n",
       "</div>"
      ],
      "text/plain": [
       "        feature   pvalues\n",
       "0    PRS8_HUMAN  0.000273\n",
       "16  ATD3A_HUMAN  0.000067\n",
       "17  CPNE1_HUMAN  0.000380"
      ]
     },
     "execution_count": 23,
     "metadata": {},
     "output_type": "execute_result"
    }
   ],
   "source": [
    "pvalues[pvalues['pvalues']<0.05/100]"
   ]
  },
  {
   "cell_type": "markdown",
   "metadata": {},
   "source": [
    "### Using Benjamini–Hochberg procedure, with 5% false positive rate"
   ]
  },
  {
   "cell_type": "code",
   "execution_count": 24,
   "metadata": {},
   "outputs": [],
   "source": [
    "pvalues['rank'] = np.argsort(pvalues.pvalues).argsort()+1"
   ]
  },
  {
   "cell_type": "code",
   "execution_count": 25,
   "metadata": {
    "scrolled": false
   },
   "outputs": [
    {
     "data": {
      "text/html": [
       "<div>\n",
       "<style scoped>\n",
       "    .dataframe tbody tr th:only-of-type {\n",
       "        vertical-align: middle;\n",
       "    }\n",
       "\n",
       "    .dataframe tbody tr th {\n",
       "        vertical-align: top;\n",
       "    }\n",
       "\n",
       "    .dataframe thead th {\n",
       "        text-align: right;\n",
       "    }\n",
       "</style>\n",
       "<table border=\"1\" class=\"dataframe\">\n",
       "  <thead>\n",
       "    <tr style=\"text-align: right;\">\n",
       "      <th></th>\n",
       "      <th>feature</th>\n",
       "      <th>pvalues</th>\n",
       "      <th>rank</th>\n",
       "    </tr>\n",
       "  </thead>\n",
       "  <tbody>\n",
       "    <tr>\n",
       "      <th>0</th>\n",
       "      <td>PRS8_HUMAN</td>\n",
       "      <td>0.000273</td>\n",
       "      <td>2</td>\n",
       "    </tr>\n",
       "    <tr>\n",
       "      <th>6</th>\n",
       "      <td>TBA4B_HUMAN</td>\n",
       "      <td>0.003570</td>\n",
       "      <td>11</td>\n",
       "    </tr>\n",
       "    <tr>\n",
       "      <th>11</th>\n",
       "      <td>PGK2_HUMAN</td>\n",
       "      <td>0.002714</td>\n",
       "      <td>10</td>\n",
       "    </tr>\n",
       "    <tr>\n",
       "      <th>16</th>\n",
       "      <td>ATD3A_HUMAN</td>\n",
       "      <td>0.000067</td>\n",
       "      <td>1</td>\n",
       "    </tr>\n",
       "    <tr>\n",
       "      <th>17</th>\n",
       "      <td>CPNE1_HUMAN</td>\n",
       "      <td>0.000380</td>\n",
       "      <td>3</td>\n",
       "    </tr>\n",
       "    <tr>\n",
       "      <th>22</th>\n",
       "      <td>KAD3_HUMAN</td>\n",
       "      <td>0.000841</td>\n",
       "      <td>5</td>\n",
       "    </tr>\n",
       "    <tr>\n",
       "      <th>30</th>\n",
       "      <td>SBDS_HUMAN</td>\n",
       "      <td>0.001373</td>\n",
       "      <td>7</td>\n",
       "    </tr>\n",
       "    <tr>\n",
       "      <th>49</th>\n",
       "      <td>CDK13_HUMAN</td>\n",
       "      <td>0.001976</td>\n",
       "      <td>8</td>\n",
       "    </tr>\n",
       "    <tr>\n",
       "      <th>51</th>\n",
       "      <td>ZNF76_HUMAN</td>\n",
       "      <td>0.000980</td>\n",
       "      <td>6</td>\n",
       "    </tr>\n",
       "    <tr>\n",
       "      <th>73</th>\n",
       "      <td>ENPL_HUMAN</td>\n",
       "      <td>0.000640</td>\n",
       "      <td>4</td>\n",
       "    </tr>\n",
       "    <tr>\n",
       "      <th>85</th>\n",
       "      <td>SNTA1_HUMAN</td>\n",
       "      <td>0.002278</td>\n",
       "      <td>9</td>\n",
       "    </tr>\n",
       "  </tbody>\n",
       "</table>\n",
       "</div>"
      ],
      "text/plain": [
       "        feature   pvalues  rank\n",
       "0    PRS8_HUMAN  0.000273     2\n",
       "6   TBA4B_HUMAN  0.003570    11\n",
       "11   PGK2_HUMAN  0.002714    10\n",
       "16  ATD3A_HUMAN  0.000067     1\n",
       "17  CPNE1_HUMAN  0.000380     3\n",
       "22   KAD3_HUMAN  0.000841     5\n",
       "30   SBDS_HUMAN  0.001373     7\n",
       "49  CDK13_HUMAN  0.001976     8\n",
       "51  ZNF76_HUMAN  0.000980     6\n",
       "73   ENPL_HUMAN  0.000640     4\n",
       "85  SNTA1_HUMAN  0.002278     9"
      ]
     },
     "execution_count": 25,
     "metadata": {},
     "output_type": "execute_result"
    }
   ],
   "source": [
    "pvalues[pvalues['pvalues'] < pvalues['rank']/100*.05]"
   ]
  },
  {
   "cell_type": "markdown",
   "metadata": {},
   "source": [
    "### Effect Size Comparisons between Depressed vs Suicide and Nondepressed vs Suicide"
   ]
  },
  {
   "cell_type": "markdown",
   "metadata": {},
   "source": [
    "### Depressed vs Suicide"
   ]
  },
  {
   "cell_type": "code",
   "execution_count": 26,
   "metadata": {},
   "outputs": [],
   "source": [
    "data = out\n",
    "data.suicide.replace(to_replace=['Non-Suic', 'Suicide'], value=[0, 1], inplace=True)"
   ]
  },
  {
   "cell_type": "code",
   "execution_count": 27,
   "metadata": {},
   "outputs": [],
   "source": [
    "def cohend(d1, d2):\n",
    "\t# calculate the size of samples\n",
    "\tn1, n2 = len(d1), len(d2)\n",
    "\t# calculate the variance of the samples\n",
    "\ts1, s2 = np.var(d1, ddof=1), np.var(d2, ddof=1)\n",
    "\t# calculate the pooled standard deviation\n",
    "\ts = np.sqrt(((n1 - 1) * s1 + (n2 - 1) * s2) / (n1 + n2 - 2))\n",
    "\t# calculate the means of the samples\n",
    "\tu1, u2 = np.mean(d1), np.mean(d2)\n",
    "\t# calculate the effect size\n",
    "\treturn (u1 - u2) / s"
   ]
  },
  {
   "cell_type": "code",
   "execution_count": 28,
   "metadata": {},
   "outputs": [],
   "source": [
    "cohen_dvs = []\n",
    "data = out \n",
    "for index,row in feature_rank[feature_rank['importance']>0].iterrows():\n",
    "    if index > 100:\n",
    "        break\n",
    "    feature = row['feature']\n",
    "    if feature != 'dt_end':\n",
    "        res = cohend(data[data['group']=='c'][feature], data[data['suicide']==1][feature])\n",
    "        cohen_dvs.append([feature,res])\n",
    "\n",
    "cohen_dvs = pd.DataFrame(cohen_dvs)\n",
    "cohen_dvs = cohen_dvs.rename(columns={0:'feature',1:'cohend'})"
   ]
  },
  {
   "cell_type": "code",
   "execution_count": 29,
   "metadata": {},
   "outputs": [],
   "source": [
    "cohen_dvns = []\n",
    "data = out \n",
    "for index,row in feature_rank[feature_rank['importance']>0].iterrows():\n",
    "    if index > 100:\n",
    "        break\n",
    "    feature = row['feature']\n",
    "    if feature != 'dt_end':\n",
    "        res = cohend(data[data['group']!='c'][feature], data[data['suicide']==1][feature])\n",
    "        cohen_dvns.append([feature,res])\n",
    "\n",
    "cohen_dvns = pd.DataFrame(cohen_dvns)\n",
    "cohen_dvns = cohen_dvns.rename(columns={0:'feature',1:'cohend'})"
   ]
  },
  {
   "cell_type": "markdown",
   "metadata": {},
   "source": [
    "### Largest Differences by Cohen's D"
   ]
  },
  {
   "cell_type": "code",
   "execution_count": 33,
   "metadata": {
    "scrolled": false
   },
   "outputs": [
    {
     "data": {
      "text/plain": [
       "49    CDK13_HUMAN\n",
       "36     GNAL_HUMAN\n",
       "63    CPNE8_HUMAN\n",
       "16    ATD3A_HUMAN\n",
       "0      PRS8_HUMAN\n",
       "Name: feature, dtype: object"
      ]
     },
     "execution_count": 33,
     "metadata": {},
     "output_type": "execute_result"
    }
   ],
   "source": [
    "cohen_dvns['feature'][np.argsort(-(np.abs(cohen_dvs['cohend'] - cohen_dvns['cohend'])))][0:5]"
   ]
  },
  {
   "cell_type": "markdown",
   "metadata": {},
   "source": [
    "### Control vs Depressed"
   ]
  },
  {
   "cell_type": "code",
   "execution_count": 39,
   "metadata": {},
   "outputs": [],
   "source": [
    "cohen_dvs = []\n",
    "data = out \n",
    "for index,row in feature_rank[feature_rank['importance']>0].iterrows():\n",
    "    if index > 100:\n",
    "        break\n",
    "    feature = row['feature']\n",
    "    if feature != 'dt_end':\n",
    "        res = cohend(data[data['group']=='c'][feature], data[data['group']=='m'][feature])\n",
    "        cohen_dvs.append([feature,res])\n",
    "\n",
    "cohen_dvs = pd.DataFrame(cohen_dvs)\n",
    "cohen_dvs = cohen_dvs.rename(columns={0:'feature',1:'cohend'})"
   ]
  },
  {
   "cell_type": "code",
   "execution_count": 38,
   "metadata": {},
   "outputs": [],
   "source": [
    "cohen_dvns = []\n",
    "data = out \n",
    "for index,row in feature_rank[feature_rank['importance']>0].iterrows():\n",
    "    if index > 100:\n",
    "        break\n",
    "    feature = row['feature']\n",
    "    if feature != 'dt_end':\n",
    "        res = cohend(data[data['group']!='c'][feature], data[data['group']=='a'][feature])\n",
    "        cohen_dvns.append([feature,res])\n",
    "\n",
    "cohen_dvns = pd.DataFrame(cohen_dvns)\n",
    "cohen_dvns = cohen_dvns.rename(columns={0:'feature',1:'cohend'})"
   ]
  },
  {
   "cell_type": "markdown",
   "metadata": {},
   "source": [
    "Go through the overlaps in these "
   ]
  },
  {
   "cell_type": "code",
   "execution_count": 40,
   "metadata": {},
   "outputs": [
    {
     "data": {
      "text/plain": [
       "63    CPNE8_HUMAN\n",
       "68     ITA6_HUMAN\n",
       "34    DBLOH_HUMAN\n",
       "49    CDK13_HUMAN\n",
       "36     GNAL_HUMAN\n",
       "Name: feature, dtype: object"
      ]
     },
     "execution_count": 40,
     "metadata": {},
     "output_type": "execute_result"
    }
   ],
   "source": [
    "cohen_dvns['feature'][np.argsort(-(np.abs(cohen_dvs['cohend'] - cohen_dvns['cohend'])))][0:5]"
   ]
  },
  {
   "cell_type": "markdown",
   "metadata": {},
   "source": [
    "### Summary\n",
    "Log adjustment to data\n",
    "fill 0s by group, sex\n",
    "nonparametric test - mann whiteney u. Can only be used for ordinal data(larger is significant) For each observation in one set, count the number of times this first value wins over any observation.\n",
    "Boneferroni correction since we are making lots of tests. Picked 100 most important features.\n",
    "4 were significant\n",
    "ATD3A_HUMAN\t0.000067\n",
    "CPNE1_HUMAN\t0.000380\n",
    "PRS8_HUMAN\t0.000273\n",
    "SYFA_HUMAN\t0.000084"
   ]
  },
  {
   "cell_type": "markdown",
   "metadata": {},
   "source": [
    "### Demographics"
   ]
  },
  {
   "cell_type": "code",
   "execution_count": 33,
   "metadata": {},
   "outputs": [],
   "source": [
    "data = pd.read_csv('data/final.csv')"
   ]
  },
  {
   "cell_type": "code",
   "execution_count": null,
   "metadata": {},
   "outputs": [],
   "source": [
    "data = data.drop('Unnamed: 0', axis =1)"
   ]
  },
  {
   "cell_type": "code",
   "execution_count": 46,
   "metadata": {},
   "outputs": [],
   "source": [
    "demo_df = pd.read_excel('data/demographics_cell_numbers.xlsx')"
   ]
  },
  {
   "cell_type": "code",
   "execution_count": 49,
   "metadata": {},
   "outputs": [],
   "source": [
    "demo_df = demo_df[['ID','ETHNICITY','SMOKER']]"
   ]
  },
  {
   "cell_type": "code",
   "execution_count": 51,
   "metadata": {},
   "outputs": [],
   "source": [
    "demo_df.columns = ['patient_id','ethnicity','smoker']"
   ]
  },
  {
   "cell_type": "code",
   "execution_count": 64,
   "metadata": {},
   "outputs": [],
   "source": [
    "data = data.merge(demo_df,on ='patient_id')"
   ]
  },
  {
   "cell_type": "code",
   "execution_count": 66,
   "metadata": {},
   "outputs": [],
   "source": [
    "import scipy "
   ]
  },
  {
   "cell_type": "code",
   "execution_count": 71,
   "metadata": {},
   "outputs": [
    {
     "data": {
      "text/plain": [
       "Index(['patient_id', '1433B_HUMAN', '1433E_HUMAN', '1433F_HUMAN',\n",
       "       '1433G_HUMAN', '1433S_HUMAN', '1433T_HUMAN', '1433Z_HUMAN',\n",
       "       '2AAA_HUMAN', '2ABA_HUMAN',\n",
       "       ...\n",
       "       'ZN346_HUMAN', 'ZNF76_HUMAN', 'dose', 'group', 'age', 'sex', 'gr',\n",
       "       'suicide', 'ethnicity', 'smoker'],\n",
       "      dtype='object', length=1140)"
      ]
     },
     "execution_count": 71,
     "metadata": {},
     "output_type": "execute_result"
    }
   ],
   "source": [
    "data.columns"
   ]
  },
  {
   "cell_type": "code",
   "execution_count": 86,
   "metadata": {},
   "outputs": [],
   "source": [
    "from scipy import stats\n",
    "\n",
    "pvalues = []\n",
    "for index,row in feature_rank[feature_rank['importance']>0].iterrows():\n",
    "    if index > 100:\n",
    "        break\n",
    "    feature = row['feature']\n",
    "    if feature != 'dt_end':\n",
    "        p = scipy.stats.mannwhitneyu(data[data['ethnicity']=='Caucasian'][feature], data[data['ethnicity']!='Caucasian'][feature], use_continuity=True, alternative=None)[1]\n",
    "        pvalues.append([feature,p])\n",
    "\n",
    "pvalues = pd.DataFrame(pvalues)\n",
    "pvalues = pvalues.rename(columns={0:'feature',1:'pvalues'})"
   ]
  },
  {
   "cell_type": "code",
   "execution_count": 81,
   "metadata": {},
   "outputs": [
    {
     "data": {
      "text/plain": [
       "array(['Nonsmoker', 'Pending', 'Moderate Smoker', 'Light Smoker'],\n",
       "      dtype=object)"
      ]
     },
     "execution_count": 81,
     "metadata": {},
     "output_type": "execute_result"
    }
   ],
   "source": [
    "data.smoker.unique()"
   ]
  },
  {
   "cell_type": "code",
   "execution_count": 83,
   "metadata": {},
   "outputs": [],
   "source": [
    "from scipy import stats\n",
    "\n",
    "pvalues = []\n",
    "for index,row in feature_rank[feature_rank['importance']>0].iterrows():\n",
    "    if index > 100:\n",
    "        break\n",
    "    feature = row['feature']\n",
    "    if feature != 'dt_end':\n",
    "        p = scipy.stats.mannwhitneyu(data[(data['smoker']=='Nonsmoker')&(data['smoker']!='Pending')][feature], data[(data['smoker']!='Nonsmoker')&(data['smoker']!='Pending')][feature], use_continuity=True, alternative=None)[1]\n",
    "        pvalues.append([feature,p])\n",
    "\n",
    "pvalues_cig = pd.DataFrame(pvalues)\n",
    "pvalues_cig = pvalues_cig.rename(columns={0:'feature',1:'pvalues'})"
   ]
  },
  {
   "cell_type": "markdown",
   "metadata": {},
   "source": [
    "### Using Boneferroni adjustments"
   ]
  },
  {
   "cell_type": "markdown",
   "metadata": {},
   "source": [
    "no significance for caucasian vs non-caucasian and cig vs noncig"
   ]
  },
  {
   "cell_type": "code",
   "execution_count": 78,
   "metadata": {},
   "outputs": [
    {
     "data": {
      "text/html": [
       "<div>\n",
       "<style scoped>\n",
       "    .dataframe tbody tr th:only-of-type {\n",
       "        vertical-align: middle;\n",
       "    }\n",
       "\n",
       "    .dataframe tbody tr th {\n",
       "        vertical-align: top;\n",
       "    }\n",
       "\n",
       "    .dataframe thead th {\n",
       "        text-align: right;\n",
       "    }\n",
       "</style>\n",
       "<table border=\"1\" class=\"dataframe\">\n",
       "  <thead>\n",
       "    <tr style=\"text-align: right;\">\n",
       "      <th></th>\n",
       "      <th>feature</th>\n",
       "      <th>pvalues</th>\n",
       "    </tr>\n",
       "  </thead>\n",
       "  <tbody>\n",
       "  </tbody>\n",
       "</table>\n",
       "</div>"
      ],
      "text/plain": [
       "Empty DataFrame\n",
       "Columns: [feature, pvalues]\n",
       "Index: []"
      ]
     },
     "execution_count": 78,
     "metadata": {},
     "output_type": "execute_result"
    }
   ],
   "source": [
    "pvalues[pvalues['pvalues']<0.05/100]"
   ]
  },
  {
   "cell_type": "code",
   "execution_count": 84,
   "metadata": {},
   "outputs": [
    {
     "data": {
      "text/html": [
       "<div>\n",
       "<style scoped>\n",
       "    .dataframe tbody tr th:only-of-type {\n",
       "        vertical-align: middle;\n",
       "    }\n",
       "\n",
       "    .dataframe tbody tr th {\n",
       "        vertical-align: top;\n",
       "    }\n",
       "\n",
       "    .dataframe thead th {\n",
       "        text-align: right;\n",
       "    }\n",
       "</style>\n",
       "<table border=\"1\" class=\"dataframe\">\n",
       "  <thead>\n",
       "    <tr style=\"text-align: right;\">\n",
       "      <th></th>\n",
       "      <th>feature</th>\n",
       "      <th>pvalues</th>\n",
       "    </tr>\n",
       "  </thead>\n",
       "  <tbody>\n",
       "  </tbody>\n",
       "</table>\n",
       "</div>"
      ],
      "text/plain": [
       "Empty DataFrame\n",
       "Columns: [feature, pvalues]\n",
       "Index: []"
      ]
     },
     "execution_count": 84,
     "metadata": {},
     "output_type": "execute_result"
    }
   ],
   "source": [
    "pvalues_cig[pvalues_cig['pvalues']<0.05/100]"
   ]
  },
  {
   "cell_type": "markdown",
   "metadata": {},
   "source": [
    "Union of importances suicide vs non, treated vs nontreated"
   ]
  },
  {
   "cell_type": "markdown",
   "metadata": {},
   "source": [
    "### Using Benjamini–Hochberg procedure, with 5% false positive rate"
   ]
  },
  {
   "cell_type": "code",
   "execution_count": 87,
   "metadata": {},
   "outputs": [],
   "source": [
    "pvalues['rank'] = np.argsort(pvalues.pvalues).argsort()+1"
   ]
  },
  {
   "cell_type": "code",
   "execution_count": 88,
   "metadata": {
    "scrolled": false
   },
   "outputs": [
    {
     "data": {
      "text/html": [
       "<div>\n",
       "<style scoped>\n",
       "    .dataframe tbody tr th:only-of-type {\n",
       "        vertical-align: middle;\n",
       "    }\n",
       "\n",
       "    .dataframe tbody tr th {\n",
       "        vertical-align: top;\n",
       "    }\n",
       "\n",
       "    .dataframe thead th {\n",
       "        text-align: right;\n",
       "    }\n",
       "</style>\n",
       "<table border=\"1\" class=\"dataframe\">\n",
       "  <thead>\n",
       "    <tr style=\"text-align: right;\">\n",
       "      <th></th>\n",
       "      <th>feature</th>\n",
       "      <th>pvalues</th>\n",
       "      <th>rank</th>\n",
       "    </tr>\n",
       "  </thead>\n",
       "  <tbody>\n",
       "  </tbody>\n",
       "</table>\n",
       "</div>"
      ],
      "text/plain": [
       "Empty DataFrame\n",
       "Columns: [feature, pvalues, rank]\n",
       "Index: []"
      ]
     },
     "execution_count": 88,
     "metadata": {},
     "output_type": "execute_result"
    }
   ],
   "source": [
    "pvalues[pvalues['pvalues'] < pvalues['rank']/100*.05]"
   ]
  },
  {
   "cell_type": "code",
   "execution_count": 89,
   "metadata": {},
   "outputs": [],
   "source": [
    "pvalues_cig['rank'] = np.argsort(pvalues.pvalues).argsort()+1"
   ]
  },
  {
   "cell_type": "code",
   "execution_count": 90,
   "metadata": {},
   "outputs": [
    {
     "data": {
      "text/html": [
       "<div>\n",
       "<style scoped>\n",
       "    .dataframe tbody tr th:only-of-type {\n",
       "        vertical-align: middle;\n",
       "    }\n",
       "\n",
       "    .dataframe tbody tr th {\n",
       "        vertical-align: top;\n",
       "    }\n",
       "\n",
       "    .dataframe thead th {\n",
       "        text-align: right;\n",
       "    }\n",
       "</style>\n",
       "<table border=\"1\" class=\"dataframe\">\n",
       "  <thead>\n",
       "    <tr style=\"text-align: right;\">\n",
       "      <th></th>\n",
       "      <th>feature</th>\n",
       "      <th>pvalues</th>\n",
       "      <th>rank</th>\n",
       "    </tr>\n",
       "  </thead>\n",
       "  <tbody>\n",
       "  </tbody>\n",
       "</table>\n",
       "</div>"
      ],
      "text/plain": [
       "Empty DataFrame\n",
       "Columns: [feature, pvalues, rank]\n",
       "Index: []"
      ]
     },
     "execution_count": 90,
     "metadata": {},
     "output_type": "execute_result"
    }
   ],
   "source": [
    "pvalues_cig[pvalues_cig['pvalues'] < pvalues_cig['rank']/100*.05]"
   ]
  },
  {
   "cell_type": "markdown",
   "metadata": {},
   "source": [
    "### Cell Counts"
   ]
  },
  {
   "cell_type": "code",
   "execution_count": 7,
   "metadata": {},
   "outputs": [],
   "source": [
    "demo_df = pd.read_excel('data/demographics_cell_numbers.xlsx')"
   ]
  },
  {
   "cell_type": "code",
   "execution_count": 8,
   "metadata": {},
   "outputs": [],
   "source": [
    "cell_cols_features = list(demo_df.columns[17:])"
   ]
  },
  {
   "cell_type": "code",
   "execution_count": 9,
   "metadata": {},
   "outputs": [],
   "source": [
    "cell_cols =  cell_cols_features+(['ID','SUICIDE'])"
   ]
  },
  {
   "cell_type": "code",
   "execution_count": 10,
   "metadata": {},
   "outputs": [],
   "source": [
    "data = demo_df[cell_cols]"
   ]
  },
  {
   "cell_type": "code",
   "execution_count": 12,
   "metadata": {},
   "outputs": [],
   "source": [
    "from scipy import stats\n",
    "import scipy\n",
    "\n",
    "pvalues = []\n",
    "for feature in cell_cols_features:\n",
    "    p = scipy.stats.mannwhitneyu(data[(data['SUICIDE']=='Suicide')][feature], data[(data['SUICIDE']!='Suicide')][feature], use_continuity=True, alternative=None)[1]\n",
    "    pvalues.append([feature,p])\n",
    "\n",
    "pvalues = pd.DataFrame(pvalues)\n",
    "pvalues = pvalues.rename(columns={0:'feature',1:'pvalues'})"
   ]
  },
  {
   "cell_type": "code",
   "execution_count": 13,
   "metadata": {},
   "outputs": [
    {
     "data": {
      "text/html": [
       "<div>\n",
       "<style scoped>\n",
       "    .dataframe tbody tr th:only-of-type {\n",
       "        vertical-align: middle;\n",
       "    }\n",
       "\n",
       "    .dataframe tbody tr th {\n",
       "        vertical-align: top;\n",
       "    }\n",
       "\n",
       "    .dataframe thead th {\n",
       "        text-align: right;\n",
       "    }\n",
       "</style>\n",
       "<table border=\"1\" class=\"dataframe\">\n",
       "  <thead>\n",
       "    <tr style=\"text-align: right;\">\n",
       "      <th></th>\n",
       "      <th>feature</th>\n",
       "      <th>pvalues</th>\n",
       "    </tr>\n",
       "  </thead>\n",
       "  <tbody>\n",
       "  </tbody>\n",
       "</table>\n",
       "</div>"
      ],
      "text/plain": [
       "Empty DataFrame\n",
       "Columns: [feature, pvalues]\n",
       "Index: []"
      ]
     },
     "execution_count": 13,
     "metadata": {},
     "output_type": "execute_result"
    }
   ],
   "source": [
    "pvalues[pvalues['pvalues']<0.05/13]"
   ]
  },
  {
   "cell_type": "code",
   "execution_count": 14,
   "metadata": {},
   "outputs": [],
   "source": [
    "pvalues['rank'] = np.argsort(pvalues.pvalues).argsort()+1"
   ]
  },
  {
   "cell_type": "code",
   "execution_count": 15,
   "metadata": {
    "scrolled": false
   },
   "outputs": [
    {
     "data": {
      "text/html": [
       "<div>\n",
       "<style scoped>\n",
       "    .dataframe tbody tr th:only-of-type {\n",
       "        vertical-align: middle;\n",
       "    }\n",
       "\n",
       "    .dataframe tbody tr th {\n",
       "        vertical-align: top;\n",
       "    }\n",
       "\n",
       "    .dataframe thead th {\n",
       "        text-align: right;\n",
       "    }\n",
       "</style>\n",
       "<table border=\"1\" class=\"dataframe\">\n",
       "  <thead>\n",
       "    <tr style=\"text-align: right;\">\n",
       "      <th></th>\n",
       "      <th>feature</th>\n",
       "      <th>pvalues</th>\n",
       "      <th>rank</th>\n",
       "    </tr>\n",
       "  </thead>\n",
       "  <tbody>\n",
       "  </tbody>\n",
       "</table>\n",
       "</div>"
      ],
      "text/plain": [
       "Empty DataFrame\n",
       "Columns: [feature, pvalues, rank]\n",
       "Index: []"
      ]
     },
     "execution_count": 15,
     "metadata": {},
     "output_type": "execute_result"
    }
   ],
   "source": [
    "pvalues[pvalues['pvalues'] < pvalues['rank']/13*.05]"
   ]
  },
  {
   "cell_type": "code",
   "execution_count": 16,
   "metadata": {},
   "outputs": [
    {
     "ename": "KeyError",
     "evalue": "'ethnicity'",
     "output_type": "error",
     "traceback": [
      "\u001b[1;31m---------------------------------------------------------------------------\u001b[0m",
      "\u001b[1;31mKeyError\u001b[0m                                  Traceback (most recent call last)",
      "\u001b[1;32m~\\Anaconda3\\lib\\site-packages\\pandas\\core\\indexes\\base.py\u001b[0m in \u001b[0;36mget_loc\u001b[1;34m(self, key, method, tolerance)\u001b[0m\n\u001b[0;32m   3077\u001b[0m             \u001b[1;32mtry\u001b[0m\u001b[1;33m:\u001b[0m\u001b[1;33m\u001b[0m\u001b[1;33m\u001b[0m\u001b[0m\n\u001b[1;32m-> 3078\u001b[1;33m                 \u001b[1;32mreturn\u001b[0m \u001b[0mself\u001b[0m\u001b[1;33m.\u001b[0m\u001b[0m_engine\u001b[0m\u001b[1;33m.\u001b[0m\u001b[0mget_loc\u001b[0m\u001b[1;33m(\u001b[0m\u001b[0mkey\u001b[0m\u001b[1;33m)\u001b[0m\u001b[1;33m\u001b[0m\u001b[1;33m\u001b[0m\u001b[0m\n\u001b[0m\u001b[0;32m   3079\u001b[0m             \u001b[1;32mexcept\u001b[0m \u001b[0mKeyError\u001b[0m\u001b[1;33m:\u001b[0m\u001b[1;33m\u001b[0m\u001b[1;33m\u001b[0m\u001b[0m\n",
      "\u001b[1;32mpandas\\_libs\\index.pyx\u001b[0m in \u001b[0;36mpandas._libs.index.IndexEngine.get_loc\u001b[1;34m()\u001b[0m\n",
      "\u001b[1;32mpandas\\_libs\\index.pyx\u001b[0m in \u001b[0;36mpandas._libs.index.IndexEngine.get_loc\u001b[1;34m()\u001b[0m\n",
      "\u001b[1;32mpandas\\_libs\\hashtable_class_helper.pxi\u001b[0m in \u001b[0;36mpandas._libs.hashtable.PyObjectHashTable.get_item\u001b[1;34m()\u001b[0m\n",
      "\u001b[1;32mpandas\\_libs\\hashtable_class_helper.pxi\u001b[0m in \u001b[0;36mpandas._libs.hashtable.PyObjectHashTable.get_item\u001b[1;34m()\u001b[0m\n",
      "\u001b[1;31mKeyError\u001b[0m: 'ethnicity'",
      "\nDuring handling of the above exception, another exception occurred:\n",
      "\u001b[1;31mKeyError\u001b[0m                                  Traceback (most recent call last)",
      "\u001b[1;32m<ipython-input-16-1d01c1c6d29c>\u001b[0m in \u001b[0;36m<module>\u001b[1;34m\u001b[0m\n\u001b[0;32m      4\u001b[0m \u001b[0mpvalues\u001b[0m \u001b[1;33m=\u001b[0m \u001b[1;33m[\u001b[0m\u001b[1;33m]\u001b[0m\u001b[1;33m\u001b[0m\u001b[1;33m\u001b[0m\u001b[0m\n\u001b[0;32m      5\u001b[0m \u001b[1;32mfor\u001b[0m \u001b[0mfeature\u001b[0m \u001b[1;32min\u001b[0m \u001b[0mcell_cols_features\u001b[0m\u001b[1;33m:\u001b[0m\u001b[1;33m\u001b[0m\u001b[1;33m\u001b[0m\u001b[0m\n\u001b[1;32m----> 6\u001b[1;33m     \u001b[0mp\u001b[0m \u001b[1;33m=\u001b[0m \u001b[0mscipy\u001b[0m\u001b[1;33m.\u001b[0m\u001b[0mstats\u001b[0m\u001b[1;33m.\u001b[0m\u001b[0mmannwhitneyu\u001b[0m\u001b[1;33m(\u001b[0m\u001b[0mdata\u001b[0m\u001b[1;33m[\u001b[0m\u001b[0mdata\u001b[0m\u001b[1;33m[\u001b[0m\u001b[1;34m'ethnicity'\u001b[0m\u001b[1;33m]\u001b[0m\u001b[1;33m==\u001b[0m\u001b[1;34m'Caucasian'\u001b[0m\u001b[1;33m]\u001b[0m\u001b[1;33m[\u001b[0m\u001b[0mfeature\u001b[0m\u001b[1;33m]\u001b[0m\u001b[1;33m,\u001b[0m \u001b[0mdata\u001b[0m\u001b[1;33m[\u001b[0m\u001b[0mdata\u001b[0m\u001b[1;33m[\u001b[0m\u001b[1;34m'ethnicity'\u001b[0m\u001b[1;33m]\u001b[0m\u001b[1;33m!=\u001b[0m\u001b[1;34m'Caucasian'\u001b[0m\u001b[1;33m]\u001b[0m\u001b[1;33m[\u001b[0m\u001b[0mfeature\u001b[0m\u001b[1;33m]\u001b[0m\u001b[1;33m,\u001b[0m \u001b[0muse_continuity\u001b[0m\u001b[1;33m=\u001b[0m\u001b[1;32mTrue\u001b[0m\u001b[1;33m,\u001b[0m \u001b[0malternative\u001b[0m\u001b[1;33m=\u001b[0m\u001b[1;32mNone\u001b[0m\u001b[1;33m)\u001b[0m\u001b[1;33m[\u001b[0m\u001b[1;36m1\u001b[0m\u001b[1;33m]\u001b[0m\u001b[1;33m\u001b[0m\u001b[1;33m\u001b[0m\u001b[0m\n\u001b[0m\u001b[0;32m      7\u001b[0m     \u001b[0mpvalues\u001b[0m\u001b[1;33m.\u001b[0m\u001b[0mappend\u001b[0m\u001b[1;33m(\u001b[0m\u001b[1;33m[\u001b[0m\u001b[0mfeature\u001b[0m\u001b[1;33m,\u001b[0m\u001b[0mp\u001b[0m\u001b[1;33m]\u001b[0m\u001b[1;33m)\u001b[0m\u001b[1;33m\u001b[0m\u001b[1;33m\u001b[0m\u001b[0m\n\u001b[0;32m      8\u001b[0m \u001b[1;33m\u001b[0m\u001b[0m\n",
      "\u001b[1;32m~\\Anaconda3\\lib\\site-packages\\pandas\\core\\frame.py\u001b[0m in \u001b[0;36m__getitem__\u001b[1;34m(self, key)\u001b[0m\n\u001b[0;32m   2686\u001b[0m             \u001b[1;32mreturn\u001b[0m \u001b[0mself\u001b[0m\u001b[1;33m.\u001b[0m\u001b[0m_getitem_multilevel\u001b[0m\u001b[1;33m(\u001b[0m\u001b[0mkey\u001b[0m\u001b[1;33m)\u001b[0m\u001b[1;33m\u001b[0m\u001b[1;33m\u001b[0m\u001b[0m\n\u001b[0;32m   2687\u001b[0m         \u001b[1;32melse\u001b[0m\u001b[1;33m:\u001b[0m\u001b[1;33m\u001b[0m\u001b[1;33m\u001b[0m\u001b[0m\n\u001b[1;32m-> 2688\u001b[1;33m             \u001b[1;32mreturn\u001b[0m \u001b[0mself\u001b[0m\u001b[1;33m.\u001b[0m\u001b[0m_getitem_column\u001b[0m\u001b[1;33m(\u001b[0m\u001b[0mkey\u001b[0m\u001b[1;33m)\u001b[0m\u001b[1;33m\u001b[0m\u001b[1;33m\u001b[0m\u001b[0m\n\u001b[0m\u001b[0;32m   2689\u001b[0m \u001b[1;33m\u001b[0m\u001b[0m\n\u001b[0;32m   2690\u001b[0m     \u001b[1;32mdef\u001b[0m \u001b[0m_getitem_column\u001b[0m\u001b[1;33m(\u001b[0m\u001b[0mself\u001b[0m\u001b[1;33m,\u001b[0m \u001b[0mkey\u001b[0m\u001b[1;33m)\u001b[0m\u001b[1;33m:\u001b[0m\u001b[1;33m\u001b[0m\u001b[1;33m\u001b[0m\u001b[0m\n",
      "\u001b[1;32m~\\Anaconda3\\lib\\site-packages\\pandas\\core\\frame.py\u001b[0m in \u001b[0;36m_getitem_column\u001b[1;34m(self, key)\u001b[0m\n\u001b[0;32m   2693\u001b[0m         \u001b[1;31m# get column\u001b[0m\u001b[1;33m\u001b[0m\u001b[1;33m\u001b[0m\u001b[1;33m\u001b[0m\u001b[0m\n\u001b[0;32m   2694\u001b[0m         \u001b[1;32mif\u001b[0m \u001b[0mself\u001b[0m\u001b[1;33m.\u001b[0m\u001b[0mcolumns\u001b[0m\u001b[1;33m.\u001b[0m\u001b[0mis_unique\u001b[0m\u001b[1;33m:\u001b[0m\u001b[1;33m\u001b[0m\u001b[1;33m\u001b[0m\u001b[0m\n\u001b[1;32m-> 2695\u001b[1;33m             \u001b[1;32mreturn\u001b[0m \u001b[0mself\u001b[0m\u001b[1;33m.\u001b[0m\u001b[0m_get_item_cache\u001b[0m\u001b[1;33m(\u001b[0m\u001b[0mkey\u001b[0m\u001b[1;33m)\u001b[0m\u001b[1;33m\u001b[0m\u001b[1;33m\u001b[0m\u001b[0m\n\u001b[0m\u001b[0;32m   2696\u001b[0m \u001b[1;33m\u001b[0m\u001b[0m\n\u001b[0;32m   2697\u001b[0m         \u001b[1;31m# duplicate columns & possible reduce dimensionality\u001b[0m\u001b[1;33m\u001b[0m\u001b[1;33m\u001b[0m\u001b[1;33m\u001b[0m\u001b[0m\n",
      "\u001b[1;32m~\\Anaconda3\\lib\\site-packages\\pandas\\core\\generic.py\u001b[0m in \u001b[0;36m_get_item_cache\u001b[1;34m(self, item)\u001b[0m\n\u001b[0;32m   2487\u001b[0m         \u001b[0mres\u001b[0m \u001b[1;33m=\u001b[0m \u001b[0mcache\u001b[0m\u001b[1;33m.\u001b[0m\u001b[0mget\u001b[0m\u001b[1;33m(\u001b[0m\u001b[0mitem\u001b[0m\u001b[1;33m)\u001b[0m\u001b[1;33m\u001b[0m\u001b[1;33m\u001b[0m\u001b[0m\n\u001b[0;32m   2488\u001b[0m         \u001b[1;32mif\u001b[0m \u001b[0mres\u001b[0m \u001b[1;32mis\u001b[0m \u001b[1;32mNone\u001b[0m\u001b[1;33m:\u001b[0m\u001b[1;33m\u001b[0m\u001b[1;33m\u001b[0m\u001b[0m\n\u001b[1;32m-> 2489\u001b[1;33m             \u001b[0mvalues\u001b[0m \u001b[1;33m=\u001b[0m \u001b[0mself\u001b[0m\u001b[1;33m.\u001b[0m\u001b[0m_data\u001b[0m\u001b[1;33m.\u001b[0m\u001b[0mget\u001b[0m\u001b[1;33m(\u001b[0m\u001b[0mitem\u001b[0m\u001b[1;33m)\u001b[0m\u001b[1;33m\u001b[0m\u001b[1;33m\u001b[0m\u001b[0m\n\u001b[0m\u001b[0;32m   2490\u001b[0m             \u001b[0mres\u001b[0m \u001b[1;33m=\u001b[0m \u001b[0mself\u001b[0m\u001b[1;33m.\u001b[0m\u001b[0m_box_item_values\u001b[0m\u001b[1;33m(\u001b[0m\u001b[0mitem\u001b[0m\u001b[1;33m,\u001b[0m \u001b[0mvalues\u001b[0m\u001b[1;33m)\u001b[0m\u001b[1;33m\u001b[0m\u001b[1;33m\u001b[0m\u001b[0m\n\u001b[0;32m   2491\u001b[0m             \u001b[0mcache\u001b[0m\u001b[1;33m[\u001b[0m\u001b[0mitem\u001b[0m\u001b[1;33m]\u001b[0m \u001b[1;33m=\u001b[0m \u001b[0mres\u001b[0m\u001b[1;33m\u001b[0m\u001b[1;33m\u001b[0m\u001b[0m\n",
      "\u001b[1;32m~\\Anaconda3\\lib\\site-packages\\pandas\\core\\internals.py\u001b[0m in \u001b[0;36mget\u001b[1;34m(self, item, fastpath)\u001b[0m\n\u001b[0;32m   4113\u001b[0m \u001b[1;33m\u001b[0m\u001b[0m\n\u001b[0;32m   4114\u001b[0m             \u001b[1;32mif\u001b[0m \u001b[1;32mnot\u001b[0m \u001b[0misna\u001b[0m\u001b[1;33m(\u001b[0m\u001b[0mitem\u001b[0m\u001b[1;33m)\u001b[0m\u001b[1;33m:\u001b[0m\u001b[1;33m\u001b[0m\u001b[1;33m\u001b[0m\u001b[0m\n\u001b[1;32m-> 4115\u001b[1;33m                 \u001b[0mloc\u001b[0m \u001b[1;33m=\u001b[0m \u001b[0mself\u001b[0m\u001b[1;33m.\u001b[0m\u001b[0mitems\u001b[0m\u001b[1;33m.\u001b[0m\u001b[0mget_loc\u001b[0m\u001b[1;33m(\u001b[0m\u001b[0mitem\u001b[0m\u001b[1;33m)\u001b[0m\u001b[1;33m\u001b[0m\u001b[1;33m\u001b[0m\u001b[0m\n\u001b[0m\u001b[0;32m   4116\u001b[0m             \u001b[1;32melse\u001b[0m\u001b[1;33m:\u001b[0m\u001b[1;33m\u001b[0m\u001b[1;33m\u001b[0m\u001b[0m\n\u001b[0;32m   4117\u001b[0m                 \u001b[0mindexer\u001b[0m \u001b[1;33m=\u001b[0m \u001b[0mnp\u001b[0m\u001b[1;33m.\u001b[0m\u001b[0marange\u001b[0m\u001b[1;33m(\u001b[0m\u001b[0mlen\u001b[0m\u001b[1;33m(\u001b[0m\u001b[0mself\u001b[0m\u001b[1;33m.\u001b[0m\u001b[0mitems\u001b[0m\u001b[1;33m)\u001b[0m\u001b[1;33m)\u001b[0m\u001b[1;33m[\u001b[0m\u001b[0misna\u001b[0m\u001b[1;33m(\u001b[0m\u001b[0mself\u001b[0m\u001b[1;33m.\u001b[0m\u001b[0mitems\u001b[0m\u001b[1;33m)\u001b[0m\u001b[1;33m]\u001b[0m\u001b[1;33m\u001b[0m\u001b[1;33m\u001b[0m\u001b[0m\n",
      "\u001b[1;32m~\\Anaconda3\\lib\\site-packages\\pandas\\core\\indexes\\base.py\u001b[0m in \u001b[0;36mget_loc\u001b[1;34m(self, key, method, tolerance)\u001b[0m\n\u001b[0;32m   3078\u001b[0m                 \u001b[1;32mreturn\u001b[0m \u001b[0mself\u001b[0m\u001b[1;33m.\u001b[0m\u001b[0m_engine\u001b[0m\u001b[1;33m.\u001b[0m\u001b[0mget_loc\u001b[0m\u001b[1;33m(\u001b[0m\u001b[0mkey\u001b[0m\u001b[1;33m)\u001b[0m\u001b[1;33m\u001b[0m\u001b[1;33m\u001b[0m\u001b[0m\n\u001b[0;32m   3079\u001b[0m             \u001b[1;32mexcept\u001b[0m \u001b[0mKeyError\u001b[0m\u001b[1;33m:\u001b[0m\u001b[1;33m\u001b[0m\u001b[1;33m\u001b[0m\u001b[0m\n\u001b[1;32m-> 3080\u001b[1;33m                 \u001b[1;32mreturn\u001b[0m \u001b[0mself\u001b[0m\u001b[1;33m.\u001b[0m\u001b[0m_engine\u001b[0m\u001b[1;33m.\u001b[0m\u001b[0mget_loc\u001b[0m\u001b[1;33m(\u001b[0m\u001b[0mself\u001b[0m\u001b[1;33m.\u001b[0m\u001b[0m_maybe_cast_indexer\u001b[0m\u001b[1;33m(\u001b[0m\u001b[0mkey\u001b[0m\u001b[1;33m)\u001b[0m\u001b[1;33m)\u001b[0m\u001b[1;33m\u001b[0m\u001b[1;33m\u001b[0m\u001b[0m\n\u001b[0m\u001b[0;32m   3081\u001b[0m \u001b[1;33m\u001b[0m\u001b[0m\n\u001b[0;32m   3082\u001b[0m         \u001b[0mindexer\u001b[0m \u001b[1;33m=\u001b[0m \u001b[0mself\u001b[0m\u001b[1;33m.\u001b[0m\u001b[0mget_indexer\u001b[0m\u001b[1;33m(\u001b[0m\u001b[1;33m[\u001b[0m\u001b[0mkey\u001b[0m\u001b[1;33m]\u001b[0m\u001b[1;33m,\u001b[0m \u001b[0mmethod\u001b[0m\u001b[1;33m=\u001b[0m\u001b[0mmethod\u001b[0m\u001b[1;33m,\u001b[0m \u001b[0mtolerance\u001b[0m\u001b[1;33m=\u001b[0m\u001b[0mtolerance\u001b[0m\u001b[1;33m)\u001b[0m\u001b[1;33m\u001b[0m\u001b[1;33m\u001b[0m\u001b[0m\n",
      "\u001b[1;32mpandas\\_libs\\index.pyx\u001b[0m in \u001b[0;36mpandas._libs.index.IndexEngine.get_loc\u001b[1;34m()\u001b[0m\n",
      "\u001b[1;32mpandas\\_libs\\index.pyx\u001b[0m in \u001b[0;36mpandas._libs.index.IndexEngine.get_loc\u001b[1;34m()\u001b[0m\n",
      "\u001b[1;32mpandas\\_libs\\hashtable_class_helper.pxi\u001b[0m in \u001b[0;36mpandas._libs.hashtable.PyObjectHashTable.get_item\u001b[1;34m()\u001b[0m\n",
      "\u001b[1;32mpandas\\_libs\\hashtable_class_helper.pxi\u001b[0m in \u001b[0;36mpandas._libs.hashtable.PyObjectHashTable.get_item\u001b[1;34m()\u001b[0m\n",
      "\u001b[1;31mKeyError\u001b[0m: 'ethnicity'"
     ]
    }
   ],
   "source": [
    "from scipy import stats\n",
    "import scipy\n",
    "\n",
    "pvalues = []\n",
    "for feature in cell_cols_features:\n",
    "    p = scipy.stats.mannwhitneyu(data[data['ethnicity']=='Caucasian'][feature], data[data['ethnicity']!='Caucasian'][feature], use_continuity=True, alternative=None)[1]\n",
    "    pvalues.append([feature,p])\n",
    "\n",
    "pvalues = pd.DataFrame(pvalues)\n",
    "pvalues = pvalues.rename(columns={0:'feature',1:'pvalues'})"
   ]
  },
  {
   "cell_type": "code",
   "execution_count": null,
   "metadata": {},
   "outputs": [],
   "source": []
  }
 ],
 "metadata": {
  "kernelspec": {
   "display_name": "Python 3",
   "language": "python",
   "name": "python3"
  },
  "language_info": {
   "codemirror_mode": {
    "name": "ipython",
    "version": 3
   },
   "file_extension": ".py",
   "mimetype": "text/x-python",
   "name": "python",
   "nbconvert_exporter": "python",
   "pygments_lexer": "ipython3",
   "version": "3.7.1"
  }
 },
 "nbformat": 4,
 "nbformat_minor": 2
}
