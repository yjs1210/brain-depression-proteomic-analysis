{
 "cells": [
  {
   "cell_type": "markdown",
   "metadata": {},
   "source": [
    "# Read in data\n"
   ]
  },
  {
   "cell_type": "code",
   "execution_count": 1,
   "metadata": {},
   "outputs": [],
   "source": [
    "import pandas as pd\n",
    "import numpy as np\n",
    "from sklearn.decomposition import PCA\n",
    "import matplotlib.pyplot as plt\n",
    "%matplotlib inline"
   ]
  },
  {
   "cell_type": "code",
   "execution_count": 3,
   "metadata": {},
   "outputs": [
    {
     "data": {
      "text/html": [
       "<div>\n",
       "<style scoped>\n",
       "    .dataframe tbody tr th:only-of-type {\n",
       "        vertical-align: middle;\n",
       "    }\n",
       "\n",
       "    .dataframe tbody tr th {\n",
       "        vertical-align: top;\n",
       "    }\n",
       "\n",
       "    .dataframe thead th {\n",
       "        text-align: right;\n",
       "    }\n",
       "</style>\n",
       "<table border=\"1\" class=\"dataframe\">\n",
       "  <thead>\n",
       "    <tr style=\"text-align: right;\">\n",
       "      <th></th>\n",
       "      <th>Unnamed: 0</th>\n",
       "      <th>1433B_HUMAN</th>\n",
       "      <th>1433E_HUMAN</th>\n",
       "      <th>1433F_HUMAN</th>\n",
       "      <th>1433G_HUMAN</th>\n",
       "      <th>1433S_HUMAN</th>\n",
       "      <th>1433T_HUMAN</th>\n",
       "      <th>1433Z_HUMAN</th>\n",
       "      <th>2AAA_HUMAN</th>\n",
       "      <th>2ABA_HUMAN</th>\n",
       "      <th>...</th>\n",
       "      <th>ZN346_HUMAN</th>\n",
       "      <th>ZNF76_HUMAN</th>\n",
       "      <th>dt_start</th>\n",
       "      <th>dt_end</th>\n",
       "      <th>dose</th>\n",
       "      <th>group</th>\n",
       "      <th>age</th>\n",
       "      <th>sex</th>\n",
       "      <th>gr</th>\n",
       "      <th>suicide</th>\n",
       "    </tr>\n",
       "  </thead>\n",
       "  <tbody>\n",
       "    <tr>\n",
       "      <th>0</th>\n",
       "      <td>113</td>\n",
       "      <td>-0.482358</td>\n",
       "      <td>-0.377167</td>\n",
       "      <td>0.408312</td>\n",
       "      <td>0.114755</td>\n",
       "      <td>-0.221734</td>\n",
       "      <td>-0.094979</td>\n",
       "      <td>-0.594402</td>\n",
       "      <td>-0.062665</td>\n",
       "      <td>0.075711</td>\n",
       "      <td>...</td>\n",
       "      <td>-0.506843</td>\n",
       "      <td>-0.233866</td>\n",
       "      <td>80515</td>\n",
       "      <td>82115</td>\n",
       "      <td>2</td>\n",
       "      <td>c</td>\n",
       "      <td>66</td>\n",
       "      <td>Male</td>\n",
       "      <td>C</td>\n",
       "      <td>Non-Suic</td>\n",
       "    </tr>\n",
       "    <tr>\n",
       "      <th>1</th>\n",
       "      <td>113</td>\n",
       "      <td>0.096314</td>\n",
       "      <td>-0.390258</td>\n",
       "      <td>-0.416978</td>\n",
       "      <td>0.361850</td>\n",
       "      <td>0.423957</td>\n",
       "      <td>0.183221</td>\n",
       "      <td>-0.161553</td>\n",
       "      <td>0.100186</td>\n",
       "      <td>0.614246</td>\n",
       "      <td>...</td>\n",
       "      <td>0.445916</td>\n",
       "      <td>0.029326</td>\n",
       "      <td>80515</td>\n",
       "      <td>83115</td>\n",
       "      <td>4</td>\n",
       "      <td>c</td>\n",
       "      <td>66</td>\n",
       "      <td>Male</td>\n",
       "      <td>C</td>\n",
       "      <td>Non-Suic</td>\n",
       "    </tr>\n",
       "    <tr>\n",
       "      <th>2</th>\n",
       "      <td>118</td>\n",
       "      <td>-0.127514</td>\n",
       "      <td>-0.350314</td>\n",
       "      <td>-0.907252</td>\n",
       "      <td>-0.798618</td>\n",
       "      <td>0.550538</td>\n",
       "      <td>-0.218804</td>\n",
       "      <td>-0.341688</td>\n",
       "      <td>-0.062510</td>\n",
       "      <td>-0.507460</td>\n",
       "      <td>...</td>\n",
       "      <td>1.198785</td>\n",
       "      <td>-0.748341</td>\n",
       "      <td>80515</td>\n",
       "      <td>90215</td>\n",
       "      <td>5</td>\n",
       "      <td>a</td>\n",
       "      <td>31</td>\n",
       "      <td>Female</td>\n",
       "      <td>MDD*SSRI</td>\n",
       "      <td>Suicide</td>\n",
       "    </tr>\n",
       "    <tr>\n",
       "      <th>3</th>\n",
       "      <td>118</td>\n",
       "      <td>-0.152157</td>\n",
       "      <td>-0.371558</td>\n",
       "      <td>-0.563748</td>\n",
       "      <td>-0.657674</td>\n",
       "      <td>0.321579</td>\n",
       "      <td>0.207347</td>\n",
       "      <td>-0.543700</td>\n",
       "      <td>-0.262971</td>\n",
       "      <td>-0.448623</td>\n",
       "      <td>...</td>\n",
       "      <td>1.111894</td>\n",
       "      <td>-0.128839</td>\n",
       "      <td>80515</td>\n",
       "      <td>91515</td>\n",
       "      <td>5</td>\n",
       "      <td>a</td>\n",
       "      <td>31</td>\n",
       "      <td>Female</td>\n",
       "      <td>MDD*SSRI</td>\n",
       "      <td>Suicide</td>\n",
       "    </tr>\n",
       "    <tr>\n",
       "      <th>4</th>\n",
       "      <td>178</td>\n",
       "      <td>-1.060055</td>\n",
       "      <td>-0.727050</td>\n",
       "      <td>-0.939338</td>\n",
       "      <td>-0.886080</td>\n",
       "      <td>-1.450801</td>\n",
       "      <td>-0.603545</td>\n",
       "      <td>-1.155046</td>\n",
       "      <td>-0.872522</td>\n",
       "      <td>-1.008205</td>\n",
       "      <td>...</td>\n",
       "      <td>-0.319368</td>\n",
       "      <td>-0.137329</td>\n",
       "      <td>80515</td>\n",
       "      <td>82115</td>\n",
       "      <td>2</td>\n",
       "      <td>c</td>\n",
       "      <td>25</td>\n",
       "      <td>Male</td>\n",
       "      <td>C</td>\n",
       "      <td>Non-Suic</td>\n",
       "    </tr>\n",
       "  </tbody>\n",
       "</table>\n",
       "<p>5 rows × 1140 columns</p>\n",
       "</div>"
      ],
      "text/plain": [
       "   Unnamed: 0  1433B_HUMAN  1433E_HUMAN  1433F_HUMAN  1433G_HUMAN  \\\n",
       "0         113    -0.482358    -0.377167     0.408312     0.114755   \n",
       "1         113     0.096314    -0.390258    -0.416978     0.361850   \n",
       "2         118    -0.127514    -0.350314    -0.907252    -0.798618   \n",
       "3         118    -0.152157    -0.371558    -0.563748    -0.657674   \n",
       "4         178    -1.060055    -0.727050    -0.939338    -0.886080   \n",
       "\n",
       "   1433S_HUMAN  1433T_HUMAN  1433Z_HUMAN  2AAA_HUMAN  2ABA_HUMAN    ...     \\\n",
       "0    -0.221734    -0.094979    -0.594402   -0.062665    0.075711    ...      \n",
       "1     0.423957     0.183221    -0.161553    0.100186    0.614246    ...      \n",
       "2     0.550538    -0.218804    -0.341688   -0.062510   -0.507460    ...      \n",
       "3     0.321579     0.207347    -0.543700   -0.262971   -0.448623    ...      \n",
       "4    -1.450801    -0.603545    -1.155046   -0.872522   -1.008205    ...      \n",
       "\n",
       "   ZN346_HUMAN  ZNF76_HUMAN  dt_start  dt_end  dose  group  age     sex  \\\n",
       "0    -0.506843    -0.233866     80515   82115     2      c   66    Male   \n",
       "1     0.445916     0.029326     80515   83115     4      c   66    Male   \n",
       "2     1.198785    -0.748341     80515   90215     5      a   31  Female   \n",
       "3     1.111894    -0.128839     80515   91515     5      a   31  Female   \n",
       "4    -0.319368    -0.137329     80515   82115     2      c   25    Male   \n",
       "\n",
       "         gr   suicide  \n",
       "0         C  Non-Suic  \n",
       "1         C  Non-Suic  \n",
       "2  MDD*SSRI   Suicide  \n",
       "3  MDD*SSRI   Suicide  \n",
       "4         C  Non-Suic  \n",
       "\n",
       "[5 rows x 1140 columns]"
      ]
     },
     "execution_count": 3,
     "metadata": {},
     "output_type": "execute_result"
    }
   ],
   "source": [
    "out = pd.read_csv('output_clean.csv')\n",
    "out.head()"
   ]
  },
  {
   "cell_type": "code",
   "execution_count": 4,
   "metadata": {},
   "outputs": [
    {
     "data": {
      "text/plain": [
       "Series([], dtype: float64)"
      ]
     },
     "execution_count": 4,
     "metadata": {},
     "output_type": "execute_result"
    }
   ],
   "source": [
    "# Check for Missing data (none)\n",
    "missing_percentage = out.isnull().sum() * 100 / len(out)\n",
    "missing_percentage[missing_percentage != 0]"
   ]
  },
  {
   "cell_type": "code",
   "execution_count": 5,
   "metadata": {},
   "outputs": [
    {
     "data": {
      "text/plain": [
       "<matplotlib.axes._subplots.AxesSubplot at 0x1c9f45b82e8>"
      ]
     },
     "execution_count": 5,
     "metadata": {},
     "output_type": "execute_result"
    },
    {
     "data": {
      "image/png": "[encoded data removed]",
      "text/plain": [
       "<Figure size 432x288 with 1 Axes>"
      ]
     },
     "metadata": {
      "needs_background": "light"
     },
     "output_type": "display_data"
    }
   ],
   "source": [
    "import seaborn as sns\n",
    "import numpy as np\n",
    "import matplotlib.pyplot as plt\n",
    "\n",
    "# Count of suicide/non-suicide\n",
    "out.suicide.value_counts().plot(kind = 'bar', title = 'Frequency of Outcomes')"
   ]
  },
  {
   "cell_type": "code",
   "execution_count": 6,
   "metadata": {},
   "outputs": [
    {
     "data": {
      "image/png": "[encoded data removed]",
      "text/plain": [
       "<Figure size 432x288 with 1 Axes>"
      ]
     },
     "metadata": {
      "needs_background": "light"
     },
     "output_type": "display_data"
    }
   ],
   "source": [
    "# Suicide/non-suicide broken down by gender\n",
    "\n",
    "ax = sns.countplot(x=\"suicide\", hue=\"sex\", data=out, palette = ['lightblue', 'pink'])"
   ]
  },
  {
   "cell_type": "code",
   "execution_count": 7,
   "metadata": {},
   "outputs": [
    {
     "data": {
      "text/plain": [
       "Text(0.5,0,'Age')"
      ]
     },
     "execution_count": 7,
     "metadata": {},
     "output_type": "execute_result"
    },
    {
     "data": {
      "image/png": "[encoded data removed]",
      "text/plain": [
       "<Figure size 432x288 with 1 Axes>"
      ]
     },
     "metadata": {
      "needs_background": "light"
     },
     "output_type": "display_data"
    }
   ],
   "source": [
    "# distribution of ages\n",
    "\n",
    "ax = sns.distplot(out['age'])\n",
    "ax.set_title('Distribution of Ages')\n",
    "ax.set_ylabel('Density')\n",
    "ax.set_xlabel('Age')"
   ]
  },
  {
   "cell_type": "code",
   "execution_count": 8,
   "metadata": {},
   "outputs": [
    {
     "data": {
      "text/plain": [
       "Text(0.5,1,'Gender Frequency across Treatments')"
      ]
     },
     "execution_count": 8,
     "metadata": {},
     "output_type": "execute_result"
    },
    {
     "data": {
      "image/png": "[encoded data removed]",
      "text/plain": [
       "<Figure size 432x288 with 1 Axes>"
      ]
     },
     "metadata": {
      "needs_background": "light"
     },
     "output_type": "display_data"
    }
   ],
   "source": [
    "# Gender freq across treatments \n",
    "\n",
    "ct = pd.crosstab(out.gr,out.sex)\n",
    "ax = ct.plot.bar()\n",
    "ax.set_xlabel('Frequency')\n",
    "ax.set_ylabel('Treatment')\n",
    "ax.set_title('Gender Frequency across Treatments')"
   ]
  },
  {
   "cell_type": "code",
   "execution_count": 9,
   "metadata": {},
   "outputs": [
    {
     "data": {
      "text/plain": [
       "<matplotlib.legend.Legend at 0x1c9f49285c0>"
      ]
     },
     "execution_count": 9,
     "metadata": {},
     "output_type": "execute_result"
    },
    {
     "data": {
      "image/png": "[encoded data removed]",
      "text/plain": [
       "<Figure size 432x288 with 1 Axes>"
      ]
     },
     "metadata": {
      "needs_background": "light"
     },
     "output_type": "display_data"
    }
   ],
   "source": [
    "ct = pd.crosstab(out.gr,[out.sex, out.suicide])\n",
    "ax = ct.plot.bar(stacked = True, color = ['pink', 'red', 'lightblue', 'blue'])\n",
    "ax.set_ylabel('Frequency')\n",
    "ax.set_xlabel('Treatment')\n",
    "ax.set_title('Gender Frequency across Treatments')\n",
    "ax.legend(loc='center left', bbox_to_anchor=(1, 0.5))"
   ]
  },
  {
   "cell_type": "code",
   "execution_count": 10,
   "metadata": {},
   "outputs": [],
   "source": [
    "#Two sample T-test between groups A, B\n",
    "# Ho: No diff between protein concentrations amongst control and mdd\n",
    "# Ha: Diff in protein concentrations\n",
    "\n",
    "from scipy import stats\n",
    "\n",
    "group1 = 'C'\n",
    "group2 = 'MDD'\n",
    "\n",
    "def ttest_all_proteins(group1, group2):\n",
    "    print('Running 2 sample t-test for ' + group1 + ' and ' + group2 + ' ...')\n",
    "    d = {}\n",
    "    stat_sig_proteins = []\n",
    "    for col in out.columns[0:-8]: # iterate through all protein columns (non-demographic)\n",
    "        control = out[out['gr'] == group1][col]\n",
    "        mdd = out[out['gr'] == group2][col]\n",
    "        p_val = stats.ttest_ind(control,mdd)[1]\n",
    "        if p_val < 0.05:\n",
    "            stat_sig_proteins.append(col)\n",
    "        d[col] = p_val\n",
    "    return d, stat_sig_proteins"
   ]
  },
  {
   "cell_type": "code",
   "execution_count": 11,
   "metadata": {},
   "outputs": [
    {
     "name": "stdout",
     "output_type": "stream",
     "text": [
      "Running 2 sample t-test for C and MDD ...\n"
     ]
    },
    {
     "data": {
      "text/plain": [
       "1132"
      ]
     },
     "execution_count": 11,
     "metadata": {},
     "output_type": "execute_result"
    }
   ],
   "source": [
    "# Grabs the len of first output => len of dictionary filled with p-value results of ttest for each protein\n",
    "len(ttest_all_proteins(group1, group2)[0])"
   ]
  },
  {
   "cell_type": "code",
   "execution_count": 12,
   "metadata": {},
   "outputs": [
    {
     "name": "stdout",
     "output_type": "stream",
     "text": [
      "Running 2 sample t-test for C and MDD ...\n"
     ]
    },
    {
     "data": {
      "text/plain": [
       "48"
      ]
     },
     "execution_count": 12,
     "metadata": {},
     "output_type": "execute_result"
    }
   ],
   "source": [
    "# Return len of the second output => the groups have stat sig diff prot. concentrations for these proteins\n",
    "len(ttest_all_proteins(group1, group2)[1])"
   ]
  },
  {
   "cell_type": "code",
   "execution_count": 13,
   "metadata": {},
   "outputs": [
    {
     "name": "stdout",
     "output_type": "stream",
     "text": [
      "Running Anova test for C, MDD, and MDD*SSRI ...\n"
     ]
    }
   ],
   "source": [
    "# We can also do an ANOVA across three groups to see if there is a stat sig diff in means of the prot concentrations\n",
    "\n",
    "group1 = 'C'\n",
    "group2 = 'MDD'\n",
    "group3 = 'MDD*SSRI'\n",
    "\n",
    "print('Running Anova test for ' + group1 + ', ' + group2 + ', and ' + group3 + ' ...')\n",
    "d_anova = {}\n",
    "stat_sig_proteins_anova = []\n",
    "for col in out.columns[0:-8]:\n",
    "    control = out[out['gr'] == group1][col]\n",
    "    mdd = out[out['gr'] == group2][col]\n",
    "    mdd_ssri = out[out['gr'] == group3][col]\n",
    "    \n",
    "    p_val = stats.f_oneway(control,mdd, mdd_ssri)[1]\n",
    "    if p_val < 0.05:\n",
    "        stat_sig_proteins_anova.append(col)\n",
    "    d_anova[col] = p_val\n"
   ]
  },
  {
   "cell_type": "code",
   "execution_count": 14,
   "metadata": {},
   "outputs": [
    {
     "data": {
      "text/plain": [
       "153"
      ]
     },
     "execution_count": 14,
     "metadata": {},
     "output_type": "execute_result"
    }
   ],
   "source": [
    "# stat_sig_proteins_anova contains list of proteins that has stat sig diff in concentrations btw 2 groups\n",
    "\n",
    "len(stat_sig_proteins_anova)"
   ]
  },
  {
   "cell_type": "code",
   "execution_count": 15,
   "metadata": {},
   "outputs": [],
   "source": [
    "# More analysis: remove dates\n",
    "\n",
    "out_no_dates = out.drop(columns=['dt_start', 'dt_end', 'group'])"
   ]
  },
  {
   "cell_type": "code",
   "execution_count": 16,
   "metadata": {},
   "outputs": [],
   "source": [
    "# One hot encoding and drop original columns\n",
    "\n",
    "cat_cols = ['dose', 'sex', 'gr']\n",
    "out_tmp = pd.concat([out_no_dates,pd.get_dummies(out_no_dates[cat_cols])],axis=1)\n",
    "out_new = out_tmp.drop(['dose', 'sex', 'gr'], axis = 1)"
   ]
  },
  {
   "cell_type": "code",
   "execution_count": 17,
   "metadata": {},
   "outputs": [
    {
     "name": "stderr",
     "output_type": "stream",
     "text": [
      "C:\\Users\\Michelle Chen\\Anaconda2\\envs\\coms007\\lib\\site-packages\\pandas\\core\\indexing.py:543: SettingWithCopyWarning: \n",
      "A value is trying to be set on a copy of a slice from a DataFrame.\n",
      "Try using .loc[row_indexer,col_indexer] = value instead\n",
      "\n",
      "See the caveats in the documentation: http://pandas.pydata.org/pandas-docs/stable/indexing.html#indexing-view-versus-copy\n",
      "  self.obj[item] = s\n"
     ]
    },
    {
     "data": {
      "text/plain": [
       "0    0\n",
       "1    0\n",
       "2    1\n",
       "3    1\n",
       "4    0\n",
       "Name: suicide, dtype: int64"
      ]
     },
     "execution_count": 17,
     "metadata": {},
     "output_type": "execute_result"
    }
   ],
   "source": [
    "# Change suicide column to 0,1s\n",
    "out_new.loc[out_new['suicide'] == 'Non-Suic','suicide'] = 0\n",
    "out_new.loc[out_new['suicide'] == 'Suicide','suicide'] = 1\n",
    "\n",
    "# Check one-hot encoding in suicide column\n",
    "out_new['suicide'][0:5]"
   ]
  },
  {
   "cell_type": "code",
   "execution_count": 18,
   "metadata": {},
   "outputs": [
    {
     "name": "stderr",
     "output_type": "stream",
     "text": [
      "C:\\Users\\Michelle Chen\\Anaconda2\\envs\\coms007\\lib\\site-packages\\ipykernel_launcher.py:2: SettingWithCopyWarning: \n",
      "A value is trying to be set on a copy of a slice from a DataFrame.\n",
      "Try using .loc[row_indexer,col_indexer] = value instead\n",
      "\n",
      "See the caveats in the documentation: http://pandas.pydata.org/pandas-docs/stable/indexing.html#indexing-view-versus-copy\n",
      "  \n"
     ]
    }
   ],
   "source": [
    "df1 = out_new.pop('suicide') # remove column suicide and store it in df1\n",
    "out_new['suicide']=df1 # add suicide series as a 'new' column."
   ]
  },
  {
   "cell_type": "code",
   "execution_count": 19,
   "metadata": {},
   "outputs": [
    {
     "data": {
      "text/plain": [
       "1138"
      ]
     },
     "execution_count": 19,
     "metadata": {},
     "output_type": "execute_result"
    }
   ],
   "source": [
    "list(out_new.columns).index('suicide')"
   ]
  },
  {
   "cell_type": "code",
   "execution_count": 20,
   "metadata": {},
   "outputs": [],
   "source": [
    "# Feature importances using Extra Trees Classifier\n",
    "\n",
    "from sklearn.ensemble import ExtraTreesClassifier\n",
    "\n",
    "model = ExtraTreesClassifier(n_estimators=100)\n",
    "model.fit(out_new.iloc[:,0:-1], out_new.suicide)\n",
    "df = pd.DataFrame(model.feature_importances_)\n",
    "df.index = out_new.columns[:-1]\n",
    "df.columns = ['Feature_importance']\n",
    "d_f = df.sort_values(['Feature_importance'], ascending = False)\n",
    "top_ten = d_f.head(10)"
   ]
  },
  {
   "cell_type": "code",
   "execution_count": 21,
   "metadata": {},
   "outputs": [
    {
     "data": {
      "text/html": [
       "<div>\n",
       "<style scoped>\n",
       "    .dataframe tbody tr th:only-of-type {\n",
       "        vertical-align: middle;\n",
       "    }\n",
       "\n",
       "    .dataframe tbody tr th {\n",
       "        vertical-align: top;\n",
       "    }\n",
       "\n",
       "    .dataframe thead th {\n",
       "        text-align: right;\n",
       "    }\n",
       "</style>\n",
       "<table border=\"1\" class=\"dataframe\">\n",
       "  <thead>\n",
       "    <tr style=\"text-align: right;\">\n",
       "      <th></th>\n",
       "      <th>Feature_importance</th>\n",
       "    </tr>\n",
       "  </thead>\n",
       "  <tbody>\n",
       "    <tr>\n",
       "      <th>gr_C</th>\n",
       "      <td>0.025586</td>\n",
       "    </tr>\n",
       "    <tr>\n",
       "      <th>gr_MDD*SSRI</th>\n",
       "      <td>0.011956</td>\n",
       "    </tr>\n",
       "    <tr>\n",
       "      <th>gr_MDD</th>\n",
       "      <td>0.010907</td>\n",
       "    </tr>\n",
       "    <tr>\n",
       "      <th>MA2A1_HUMAN</th>\n",
       "      <td>0.005254</td>\n",
       "    </tr>\n",
       "    <tr>\n",
       "      <th>SBDS_HUMAN</th>\n",
       "      <td>0.005002</td>\n",
       "    </tr>\n",
       "    <tr>\n",
       "      <th>FGF9_HUMAN</th>\n",
       "      <td>0.004955</td>\n",
       "    </tr>\n",
       "    <tr>\n",
       "      <th>RB6I2_HUMAN</th>\n",
       "      <td>0.004770</td>\n",
       "    </tr>\n",
       "    <tr>\n",
       "      <th>PRS8_HUMAN</th>\n",
       "      <td>0.004714</td>\n",
       "    </tr>\n",
       "    <tr>\n",
       "      <th>HPT_HUMAN</th>\n",
       "      <td>0.004617</td>\n",
       "    </tr>\n",
       "    <tr>\n",
       "      <th>RB11A_HUMAN</th>\n",
       "      <td>0.004525</td>\n",
       "    </tr>\n",
       "  </tbody>\n",
       "</table>\n",
       "</div>"
      ],
      "text/plain": [
       "             Feature_importance\n",
       "gr_C                   0.025586\n",
       "gr_MDD*SSRI            0.011956\n",
       "gr_MDD                 0.010907\n",
       "MA2A1_HUMAN            0.005254\n",
       "SBDS_HUMAN             0.005002\n",
       "FGF9_HUMAN             0.004955\n",
       "RB6I2_HUMAN            0.004770\n",
       "PRS8_HUMAN             0.004714\n",
       "HPT_HUMAN              0.004617\n",
       "RB11A_HUMAN            0.004525"
      ]
     },
     "execution_count": 21,
     "metadata": {},
     "output_type": "execute_result"
    }
   ],
   "source": [
    "top_ten"
   ]
  },
  {
   "cell_type": "code",
   "execution_count": 22,
   "metadata": {},
   "outputs": [
    {
     "data": {
      "text/plain": [
       "Text(0.5,1,'Top 10 Feature Importances')"
      ]
     },
     "execution_count": 22,
     "metadata": {},
     "output_type": "execute_result"
    },
    {
     "data": {
      "image/png": "[encoded data removed]",
      "text/plain": [
       "<Figure size 432x288 with 1 Axes>"
      ]
     },
     "metadata": {
      "needs_background": "light"
     },
     "output_type": "display_data"
    }
   ],
   "source": [
    "plt.figure()\n",
    "plt.bar(top_ten.index, top_ten['Feature_importance'])\n",
    "plt.xticks(rotation = 'vertical')\n",
    "plt.title('Top 10 Feature Importances')"
   ]
  }
 ],
 "metadata": {
  "kernelspec": {
   "display_name": "Python 3",
   "language": "python",
   "name": "python3"
  },
  "language_info": {
   "codemirror_mode": {
    "name": "ipython",
    "version": 3
   },
   "file_extension": ".py",
   "mimetype": "text/x-python",
   "name": "python",
   "nbconvert_exporter": "python",
   "pygments_lexer": "ipython3",
   "version": "3.6.5"
  }
 },
 "nbformat": 4,
 "nbformat_minor": 2
}
