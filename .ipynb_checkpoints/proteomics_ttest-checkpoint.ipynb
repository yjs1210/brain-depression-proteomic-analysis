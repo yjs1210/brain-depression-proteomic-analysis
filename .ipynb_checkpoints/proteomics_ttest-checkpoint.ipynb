{
 "cells": [
  {
   "cell_type": "code",
   "execution_count": 21,
   "metadata": {},
   "outputs": [],
   "source": [
    "import pandas as pd\n",
    "import numpy as np\n",
    "from sklearn.decomposition import PCA\n",
    "import matplotlib.pyplot as plt\n",
    "import seaborn as sns"
   ]
  },
  {
   "cell_type": "code",
   "execution_count": 4,
   "metadata": {},
   "outputs": [],
   "source": [
    "df = pd.read_excel('Report_21_050718_3.xls')"
   ]
  },
  {
   "cell_type": "code",
   "execution_count": 5,
   "metadata": {},
   "outputs": [],
   "source": [
    "df_demographics = pd.read_excel('Proteomics-Subjects_Wcodes.xlsx')"
   ]
  },
  {
   "cell_type": "code",
   "execution_count": 6,
   "metadata": {},
   "outputs": [],
   "source": [
    "df.columns = df.columns.str.replace(' ','_').str.lower()\n",
    "df_demographics.columns = df_demographics.columns.str.replace(' ','_').str.lower()"
   ]
  },
  {
   "cell_type": "code",
   "execution_count": 7,
   "metadata": {},
   "outputs": [],
   "source": [
    "'''\n",
    "Converting long data to wide data\n",
    "There are 12 subjects per group with 2 different dosages and total of 3 groups for 72 rows. \n",
    "We first identify the 72 columns, iterate through them and create one row per that item using pivot.\n",
    "'''\n",
    "out = pd.DataFrame()\n",
    "for i in list(df.columns[((df.columns.str.endswith('_1') | df.columns.str.endswith('_2')))]):\n",
    "    pat_info = i.split('_')\n",
    "    df['pat_id'] = pat_info[0][1:]\n",
    "    row = df.pivot(index='pat_id', columns='uniprot_id', values=i)\n",
    "    row['dt_start'] = pat_info[1]\n",
    "    row['dt_end'] = pat_info[2]\n",
    "    row['dose']  = pat_info[3][:-2]\n",
    "    row['group']  = pat_info[0][0]\n",
    "    out = out.append(row)"
   ]
  },
  {
   "cell_type": "code",
   "execution_count": 8,
   "metadata": {},
   "outputs": [],
   "source": [
    "out.index = out.index.astype('int64')\n",
    "df_demographics.set_index('id',inplace=True)\n",
    "out = out.join(df_demographics)"
   ]
  },
  {
   "cell_type": "code",
   "execution_count": 9,
   "metadata": {},
   "outputs": [
    {
     "name": "stdout",
     "output_type": "stream",
     "text": [
      "<class 'pandas.core.frame.DataFrame'>\n",
      "Int64Index: 72 entries, 113 to 1043\n",
      "Columns: 1139 entries, 1433B_HUMAN to suicide\n",
      "dtypes: float64(1131), int64(1), object(7)\n",
      "memory usage: 641.2+ KB\n"
     ]
    }
   ],
   "source": [
    "out.info()"
   ]
  },
  {
   "cell_type": "code",
   "execution_count": 17,
   "metadata": {},
   "outputs": [
    {
     "data": {
      "text/plain": [
       "Suicide     38\n",
       "Non-Suic    34\n",
       "Name: suicide, dtype: int64"
      ]
     },
     "execution_count": 17,
     "metadata": {},
     "output_type": "execute_result"
    }
   ],
   "source": [
    "out.suicide.value_counts()"
   ]
  },
  {
   "cell_type": "code",
   "execution_count": 18,
   "metadata": {},
   "outputs": [
    {
     "data": {
      "text/html": [
       "<div>\n",
       "<style scoped>\n",
       "    .dataframe tbody tr th:only-of-type {\n",
       "        vertical-align: middle;\n",
       "    }\n",
       "\n",
       "    .dataframe tbody tr th {\n",
       "        vertical-align: top;\n",
       "    }\n",
       "\n",
       "    .dataframe thead th {\n",
       "        text-align: right;\n",
       "    }\n",
       "</style>\n",
       "<table border=\"1\" class=\"dataframe\">\n",
       "  <thead>\n",
       "    <tr style=\"text-align: right;\">\n",
       "      <th></th>\n",
       "      <th>1433B_HUMAN</th>\n",
       "      <th>1433E_HUMAN</th>\n",
       "      <th>1433F_HUMAN</th>\n",
       "      <th>1433G_HUMAN</th>\n",
       "      <th>1433S_HUMAN</th>\n",
       "      <th>1433T_HUMAN</th>\n",
       "      <th>1433Z_HUMAN</th>\n",
       "      <th>2AAA_HUMAN</th>\n",
       "      <th>2ABA_HUMAN</th>\n",
       "      <th>2ABD_HUMAN</th>\n",
       "      <th>...</th>\n",
       "      <th>ZN346_HUMAN</th>\n",
       "      <th>ZNF76_HUMAN</th>\n",
       "      <th>dt_start</th>\n",
       "      <th>dt_end</th>\n",
       "      <th>dose</th>\n",
       "      <th>group</th>\n",
       "      <th>age</th>\n",
       "      <th>sex</th>\n",
       "      <th>gr</th>\n",
       "      <th>suicide</th>\n",
       "    </tr>\n",
       "  </thead>\n",
       "  <tbody>\n",
       "    <tr>\n",
       "      <td>113</td>\n",
       "      <td>810919.625</td>\n",
       "      <td>1834369.625</td>\n",
       "      <td>1392117.625</td>\n",
       "      <td>1956605.875</td>\n",
       "      <td>70254.930</td>\n",
       "      <td>474045.375</td>\n",
       "      <td>6620744.0</td>\n",
       "      <td>1291516.250</td>\n",
       "      <td>461692.156</td>\n",
       "      <td>529325.312</td>\n",
       "      <td>...</td>\n",
       "      <td>58731.387</td>\n",
       "      <td>36183.840</td>\n",
       "      <td>080515</td>\n",
       "      <td>082115</td>\n",
       "      <td>2</td>\n",
       "      <td>c</td>\n",
       "      <td>66</td>\n",
       "      <td>Male</td>\n",
       "      <td>C</td>\n",
       "      <td>Non-Suic</td>\n",
       "    </tr>\n",
       "    <tr>\n",
       "      <td>113</td>\n",
       "      <td>979915.312</td>\n",
       "      <td>1824592.875</td>\n",
       "      <td>1120456.625</td>\n",
       "      <td>2091506.750</td>\n",
       "      <td>89526.766</td>\n",
       "      <td>511258.094</td>\n",
       "      <td>7785243.5</td>\n",
       "      <td>1354807.375</td>\n",
       "      <td>520214.781</td>\n",
       "      <td>589599.125</td>\n",
       "      <td>...</td>\n",
       "      <td>75773.492</td>\n",
       "      <td>39117.086</td>\n",
       "      <td>080515</td>\n",
       "      <td>083115</td>\n",
       "      <td>4</td>\n",
       "      <td>c</td>\n",
       "      <td>66</td>\n",
       "      <td>Male</td>\n",
       "      <td>C</td>\n",
       "      <td>Non-Suic</td>\n",
       "    </tr>\n",
       "    <tr>\n",
       "      <td>118</td>\n",
       "      <td>914548.438</td>\n",
       "      <td>1854424.500</td>\n",
       "      <td>959073.062</td>\n",
       "      <td>1457951.625</td>\n",
       "      <td>93304.797</td>\n",
       "      <td>457482.219</td>\n",
       "      <td>7300623.5</td>\n",
       "      <td>1291576.500</td>\n",
       "      <td>398318.875</td>\n",
       "      <td>527421.375</td>\n",
       "      <td>...</td>\n",
       "      <td>89240.133</td>\n",
       "      <td>30450.059</td>\n",
       "      <td>080515</td>\n",
       "      <td>090215</td>\n",
       "      <td>5</td>\n",
       "      <td>a</td>\n",
       "      <td>31</td>\n",
       "      <td>Female</td>\n",
       "      <td>MDD*SSRI</td>\n",
       "      <td>Suicide</td>\n",
       "    </tr>\n",
       "    <tr>\n",
       "      <td>118</td>\n",
       "      <td>907351.750</td>\n",
       "      <td>1838558.750</td>\n",
       "      <td>1072144.375</td>\n",
       "      <td>1534899.750</td>\n",
       "      <td>86471.102</td>\n",
       "      <td>514485.250</td>\n",
       "      <td>6757149.0</td>\n",
       "      <td>1213667.875</td>\n",
       "      <td>404712.719</td>\n",
       "      <td>444648.688</td>\n",
       "      <td>...</td>\n",
       "      <td>87685.891</td>\n",
       "      <td>37354.352</td>\n",
       "      <td>080515</td>\n",
       "      <td>091515</td>\n",
       "      <td>5</td>\n",
       "      <td>a</td>\n",
       "      <td>31</td>\n",
       "      <td>Female</td>\n",
       "      <td>MDD*SSRI</td>\n",
       "      <td>Suicide</td>\n",
       "    </tr>\n",
       "    <tr>\n",
       "      <td>178</td>\n",
       "      <td>642208.750</td>\n",
       "      <td>1573063.250</td>\n",
       "      <td>948511.250</td>\n",
       "      <td>1410201.750</td>\n",
       "      <td>33571.168</td>\n",
       "      <td>406018.250</td>\n",
       "      <td>5112435.0</td>\n",
       "      <td>976768.875</td>\n",
       "      <td>343902.938</td>\n",
       "      <td>480558.625</td>\n",
       "      <td>...</td>\n",
       "      <td>62084.770</td>\n",
       "      <td>37259.727</td>\n",
       "      <td>080515</td>\n",
       "      <td>082115</td>\n",
       "      <td>2</td>\n",
       "      <td>c</td>\n",
       "      <td>25</td>\n",
       "      <td>Male</td>\n",
       "      <td>C</td>\n",
       "      <td>Non-Suic</td>\n",
       "    </tr>\n",
       "  </tbody>\n",
       "</table>\n",
       "<p>5 rows × 1139 columns</p>\n",
       "</div>"
      ],
      "text/plain": [
       "     1433B_HUMAN  1433E_HUMAN  1433F_HUMAN  1433G_HUMAN  1433S_HUMAN  \\\n",
       "113   810919.625  1834369.625  1392117.625  1956605.875    70254.930   \n",
       "113   979915.312  1824592.875  1120456.625  2091506.750    89526.766   \n",
       "118   914548.438  1854424.500   959073.062  1457951.625    93304.797   \n",
       "118   907351.750  1838558.750  1072144.375  1534899.750    86471.102   \n",
       "178   642208.750  1573063.250   948511.250  1410201.750    33571.168   \n",
       "\n",
       "     1433T_HUMAN  1433Z_HUMAN   2AAA_HUMAN  2ABA_HUMAN  2ABD_HUMAN  ...  \\\n",
       "113   474045.375    6620744.0  1291516.250  461692.156  529325.312  ...   \n",
       "113   511258.094    7785243.5  1354807.375  520214.781  589599.125  ...   \n",
       "118   457482.219    7300623.5  1291576.500  398318.875  527421.375  ...   \n",
       "118   514485.250    6757149.0  1213667.875  404712.719  444648.688  ...   \n",
       "178   406018.250    5112435.0   976768.875  343902.938  480558.625  ...   \n",
       "\n",
       "     ZN346_HUMAN  ZNF76_HUMAN  dt_start  dt_end  dose  group  age     sex  \\\n",
       "113    58731.387    36183.840    080515  082115     2      c   66    Male   \n",
       "113    75773.492    39117.086    080515  083115     4      c   66    Male   \n",
       "118    89240.133    30450.059    080515  090215     5      a   31  Female   \n",
       "118    87685.891    37354.352    080515  091515     5      a   31  Female   \n",
       "178    62084.770    37259.727    080515  082115     2      c   25    Male   \n",
       "\n",
       "           gr   suicide  \n",
       "113         C  Non-Suic  \n",
       "113         C  Non-Suic  \n",
       "118  MDD*SSRI   Suicide  \n",
       "118  MDD*SSRI   Suicide  \n",
       "178         C  Non-Suic  \n",
       "\n",
       "[5 rows x 1139 columns]"
      ]
     },
     "execution_count": 18,
     "metadata": {},
     "output_type": "execute_result"
    }
   ],
   "source": [
    "out.head()"
   ]
  },
  {
   "cell_type": "code",
   "execution_count": 77,
   "metadata": {},
   "outputs": [],
   "source": [
    "data = out"
   ]
  },
  {
   "cell_type": "markdown",
   "metadata": {},
   "source": [
    "# Visualize gender impact on suicide"
   ]
  },
  {
   "cell_type": "markdown",
   "metadata": {},
   "source": [
    "We see that gender does not have an impact here. As in, the data has equal number of males and females in both categories."
   ]
  },
  {
   "cell_type": "code",
   "execution_count": 22,
   "metadata": {},
   "outputs": [
    {
     "data": {
      "image/png": "[encoded data removed]",
      "text/plain": [
       "<Figure size 432x288 with 1 Axes>"
      ]
     },
     "metadata": {
      "needs_background": "light"
     },
     "output_type": "display_data"
    }
   ],
   "source": [
    "ax = sns.countplot(x=\"suicide\", hue=\"sex\", data=data)"
   ]
  },
  {
   "cell_type": "code",
   "execution_count": 78,
   "metadata": {},
   "outputs": [],
   "source": [
    "data = data.drop(['group','gr','sex'], axis=1)"
   ]
  },
  {
   "cell_type": "code",
   "execution_count": 80,
   "metadata": {},
   "outputs": [],
   "source": [
    "# data.suicide.replace(to_replace=['Non-Suic', 'Suicide'], value=[0, 1])\n",
    "data_y = data['suicide']\n",
    "data_x = data.drop('suicide', axis = 1)"
   ]
  },
  {
   "cell_type": "markdown",
   "metadata": {},
   "source": [
    "# Use random forest to identify important features"
   ]
  },
  {
   "cell_type": "code",
   "execution_count": 81,
   "metadata": {},
   "outputs": [],
   "source": [
    "import warnings\n",
    "from sklearn.ensemble import RandomForestClassifier\n",
    "\n",
    "with warnings.catch_warnings():\n",
    "    warnings.simplefilter(\"ignore\")\n",
    "    forest = RandomForestClassifier(n_estimators=50,class_weight=\"balanced\")\n",
    "    forest.fit(data_x,data_y)"
   ]
  },
  {
   "cell_type": "code",
   "execution_count": 82,
   "metadata": {},
   "outputs": [],
   "source": [
    "importances = forest.feature_importances_"
   ]
  },
  {
   "cell_type": "code",
   "execution_count": 103,
   "metadata": {},
   "outputs": [],
   "source": [
    "indices = np.argsort(importances)[::-1]\n",
    "\n",
    "df_list = []\n",
    "\n",
    "for f in range(data_x.shape[1]):\n",
    "    df_list.append([list(data_x.columns)[indices[f]], importances[indices[f]]])\n",
    "    \n",
    "feature_rank = pd.DataFrame(df_list)\n",
    "feature_rank = feature_rank.rename(columns={0:'feature',1:'importance'})"
   ]
  },
  {
   "cell_type": "code",
   "execution_count": 108,
   "metadata": {},
   "outputs": [
    {
     "data": {
      "text/plain": [
       "<matplotlib.axes._subplots.AxesSubplot at 0x19100081f88>"
      ]
     },
     "execution_count": 108,
     "metadata": {},
     "output_type": "execute_result"
    },
    {
     "data": {
      "image/png": "[encoded data removed]",
      "text/plain": [
       "<Figure size 432x288 with 1 Axes>"
      ]
     },
     "metadata": {
      "needs_background": "light"
     },
     "output_type": "display_data"
    }
   ],
   "source": [
    "feature_rank[feature_rank['importance']>0].plot.bar(x='feature', y='importance', rot=90)"
   ]
  },
  {
   "cell_type": "markdown",
   "metadata": {},
   "source": [
    "There are totally around 307 features that have non zero importance."
   ]
  },
  {
   "cell_type": "markdown",
   "metadata": {},
   "source": [
    "# Visualize the distribution of the most important feature identified by Random Forest"
   ]
  },
  {
   "cell_type": "code",
   "execution_count": 116,
   "metadata": {},
   "outputs": [
    {
     "name": "stdout",
     "output_type": "stream",
     "text": [
      "FGF9_HUMAN\n"
     ]
    },
    {
     "data": {
      "text/plain": [
       "<matplotlib.axes._subplots.AxesSubplot at 0x191017507c8>"
      ]
     },
     "execution_count": 116,
     "metadata": {},
     "output_type": "execute_result"
    },
    {
     "data": {
      "image/png": "[encoded data removed]",
      "text/plain": [
       "<Figure size 432x288 with 1 Axes>"
      ]
     },
     "metadata": {
      "needs_background": "light"
     },
     "output_type": "display_data"
    }
   ],
   "source": [
    "feature1 = feature_rank.iloc[0]['feature']\n",
    "print(feature1)\n",
    "sns.kdeplot(data[(data['suicide']==0)]['FGF9_HUMAN'],label='non-suicide')\n",
    "sns.kdeplot(data[(data['suicide']==1)]['FGF9_HUMAN'],label='suicide')"
   ]
  },
  {
   "cell_type": "markdown",
   "metadata": {},
   "source": [
    "# Run t-test to see which features are statistically significant between two groups"
   ]
  },
  {
   "cell_type": "code",
   "execution_count": 127,
   "metadata": {},
   "outputs": [
    {
     "data": {
      "text/html": [
       "<div>\n",
       "<style scoped>\n",
       "    .dataframe tbody tr th:only-of-type {\n",
       "        vertical-align: middle;\n",
       "    }\n",
       "\n",
       "    .dataframe tbody tr th {\n",
       "        vertical-align: top;\n",
       "    }\n",
       "\n",
       "    .dataframe thead th {\n",
       "        text-align: right;\n",
       "    }\n",
       "</style>\n",
       "<table border=\"1\" class=\"dataframe\">\n",
       "  <thead>\n",
       "    <tr style=\"text-align: right;\">\n",
       "      <th></th>\n",
       "      <th>feature</th>\n",
       "      <th>pvalues</th>\n",
       "    </tr>\n",
       "  </thead>\n",
       "  <tbody>\n",
       "    <tr>\n",
       "      <td>0</td>\n",
       "      <td>FGF9_HUMAN</td>\n",
       "      <td>0.008832</td>\n",
       "    </tr>\n",
       "    <tr>\n",
       "      <td>1</td>\n",
       "      <td>SBDS_HUMAN</td>\n",
       "      <td>0.014280</td>\n",
       "    </tr>\n",
       "    <tr>\n",
       "      <td>2</td>\n",
       "      <td>KAD3_HUMAN</td>\n",
       "      <td>0.023327</td>\n",
       "    </tr>\n",
       "    <tr>\n",
       "      <td>3</td>\n",
       "      <td>PGRC1_HUMAN</td>\n",
       "      <td>0.107680</td>\n",
       "    </tr>\n",
       "    <tr>\n",
       "      <td>4</td>\n",
       "      <td>NDUAB_HUMAN</td>\n",
       "      <td>0.935491</td>\n",
       "    </tr>\n",
       "    <tr>\n",
       "      <td>...</td>\n",
       "      <td>...</td>\n",
       "      <td>...</td>\n",
       "    </tr>\n",
       "    <tr>\n",
       "      <td>301</td>\n",
       "      <td>PGAM1_HUMAN</td>\n",
       "      <td>0.074613</td>\n",
       "    </tr>\n",
       "    <tr>\n",
       "      <td>302</td>\n",
       "      <td>DIRA2_HUMAN</td>\n",
       "      <td>0.249031</td>\n",
       "    </tr>\n",
       "    <tr>\n",
       "      <td>303</td>\n",
       "      <td>PPM1L_HUMAN</td>\n",
       "      <td>0.778005</td>\n",
       "    </tr>\n",
       "    <tr>\n",
       "      <td>304</td>\n",
       "      <td>GMFB_HUMAN</td>\n",
       "      <td>0.309541</td>\n",
       "    </tr>\n",
       "    <tr>\n",
       "      <td>305</td>\n",
       "      <td>LG3BP_HUMAN</td>\n",
       "      <td>0.079964</td>\n",
       "    </tr>\n",
       "  </tbody>\n",
       "</table>\n",
       "<p>306 rows × 2 columns</p>\n",
       "</div>"
      ],
      "text/plain": [
       "         feature   pvalues\n",
       "0     FGF9_HUMAN  0.008832\n",
       "1     SBDS_HUMAN  0.014280\n",
       "2     KAD3_HUMAN  0.023327\n",
       "3    PGRC1_HUMAN  0.107680\n",
       "4    NDUAB_HUMAN  0.935491\n",
       "..           ...       ...\n",
       "301  PGAM1_HUMAN  0.074613\n",
       "302  DIRA2_HUMAN  0.249031\n",
       "303  PPM1L_HUMAN  0.778005\n",
       "304   GMFB_HUMAN  0.309541\n",
       "305  LG3BP_HUMAN  0.079964\n",
       "\n",
       "[306 rows x 2 columns]"
      ]
     },
     "execution_count": 127,
     "metadata": {},
     "output_type": "execute_result"
    }
   ],
   "source": [
    "from scipy import stats\n",
    "\n",
    "pvalues = []\n",
    "for index,row in feature_rank[feature_rank['importance']>0].iterrows():\n",
    "    feature = row['feature']\n",
    "    if feature != 'dt_end':\n",
    "        p = stats.ttest_ind(data[data['suicide']==0][feature],data[data['suicide']==1][feature])[1]\n",
    "        \n",
    "        pvalues.append([feature,p])\n",
    "\n",
    "pvalues = pd.DataFrame(pvalues)\n",
    "pvalues = pvalues.rename(columns={0:'feature',1:'pvalues'})\n",
    "pvalues"
   ]
  },
  {
   "cell_type": "code",
   "execution_count": 128,
   "metadata": {},
   "outputs": [
    {
     "data": {
      "text/html": [
       "<div>\n",
       "<style scoped>\n",
       "    .dataframe tbody tr th:only-of-type {\n",
       "        vertical-align: middle;\n",
       "    }\n",
       "\n",
       "    .dataframe tbody tr th {\n",
       "        vertical-align: top;\n",
       "    }\n",
       "\n",
       "    .dataframe thead th {\n",
       "        text-align: right;\n",
       "    }\n",
       "</style>\n",
       "<table border=\"1\" class=\"dataframe\">\n",
       "  <thead>\n",
       "    <tr style=\"text-align: right;\">\n",
       "      <th></th>\n",
       "      <th>feature</th>\n",
       "      <th>pvalues</th>\n",
       "    </tr>\n",
       "  </thead>\n",
       "  <tbody>\n",
       "    <tr>\n",
       "      <td>0</td>\n",
       "      <td>FGF9_HUMAN</td>\n",
       "      <td>0.008832</td>\n",
       "    </tr>\n",
       "    <tr>\n",
       "      <td>1</td>\n",
       "      <td>SBDS_HUMAN</td>\n",
       "      <td>0.014280</td>\n",
       "    </tr>\n",
       "    <tr>\n",
       "      <td>2</td>\n",
       "      <td>KAD3_HUMAN</td>\n",
       "      <td>0.023327</td>\n",
       "    </tr>\n",
       "    <tr>\n",
       "      <td>5</td>\n",
       "      <td>SYFA_HUMAN</td>\n",
       "      <td>0.000068</td>\n",
       "    </tr>\n",
       "    <tr>\n",
       "      <td>6</td>\n",
       "      <td>PSA7_HUMAN</td>\n",
       "      <td>0.041253</td>\n",
       "    </tr>\n",
       "    <tr>\n",
       "      <td>7</td>\n",
       "      <td>ZNF76_HUMAN</td>\n",
       "      <td>0.014285</td>\n",
       "    </tr>\n",
       "    <tr>\n",
       "      <td>8</td>\n",
       "      <td>PRS8_HUMAN</td>\n",
       "      <td>0.002483</td>\n",
       "    </tr>\n",
       "    <tr>\n",
       "      <td>10</td>\n",
       "      <td>CPNE1_HUMAN</td>\n",
       "      <td>0.001116</td>\n",
       "    </tr>\n",
       "    <tr>\n",
       "      <td>13</td>\n",
       "      <td>NCKP1_HUMAN</td>\n",
       "      <td>0.043113</td>\n",
       "    </tr>\n",
       "    <tr>\n",
       "      <td>14</td>\n",
       "      <td>CDK13_HUMAN</td>\n",
       "      <td>0.007710</td>\n",
       "    </tr>\n",
       "    <tr>\n",
       "      <td>18</td>\n",
       "      <td>GNAI2_HUMAN</td>\n",
       "      <td>0.020671</td>\n",
       "    </tr>\n",
       "    <tr>\n",
       "      <td>21</td>\n",
       "      <td>PP2BB_HUMAN</td>\n",
       "      <td>0.009473</td>\n",
       "    </tr>\n",
       "    <tr>\n",
       "      <td>23</td>\n",
       "      <td>DIRA1_HUMAN</td>\n",
       "      <td>0.001756</td>\n",
       "    </tr>\n",
       "    <tr>\n",
       "      <td>33</td>\n",
       "      <td>PGK2_HUMAN</td>\n",
       "      <td>0.012788</td>\n",
       "    </tr>\n",
       "    <tr>\n",
       "      <td>44</td>\n",
       "      <td>NECP1_HUMAN</td>\n",
       "      <td>0.011722</td>\n",
       "    </tr>\n",
       "    <tr>\n",
       "      <td>51</td>\n",
       "      <td>CALR_HUMAN</td>\n",
       "      <td>0.017046</td>\n",
       "    </tr>\n",
       "    <tr>\n",
       "      <td>55</td>\n",
       "      <td>GNAS1_HUMAN</td>\n",
       "      <td>0.035327</td>\n",
       "    </tr>\n",
       "    <tr>\n",
       "      <td>59</td>\n",
       "      <td>PRPS2_HUMAN</td>\n",
       "      <td>0.007199</td>\n",
       "    </tr>\n",
       "    <tr>\n",
       "      <td>69</td>\n",
       "      <td>ATD3A_HUMAN</td>\n",
       "      <td>0.000070</td>\n",
       "    </tr>\n",
       "    <tr>\n",
       "      <td>71</td>\n",
       "      <td>RPN2_HUMAN</td>\n",
       "      <td>0.038024</td>\n",
       "    </tr>\n",
       "    <tr>\n",
       "      <td>81</td>\n",
       "      <td>TBA4B_HUMAN</td>\n",
       "      <td>0.018230</td>\n",
       "    </tr>\n",
       "    <tr>\n",
       "      <td>90</td>\n",
       "      <td>RAB18_HUMAN</td>\n",
       "      <td>0.016862</td>\n",
       "    </tr>\n",
       "    <tr>\n",
       "      <td>92</td>\n",
       "      <td>CSN4_HUMAN</td>\n",
       "      <td>0.015129</td>\n",
       "    </tr>\n",
       "    <tr>\n",
       "      <td>94</td>\n",
       "      <td>SYNPO_HUMAN</td>\n",
       "      <td>0.042672</td>\n",
       "    </tr>\n",
       "    <tr>\n",
       "      <td>101</td>\n",
       "      <td>DNM1L_HUMAN</td>\n",
       "      <td>0.035399</td>\n",
       "    </tr>\n",
       "    <tr>\n",
       "      <td>117</td>\n",
       "      <td>ECHB_HUMAN</td>\n",
       "      <td>0.021410</td>\n",
       "    </tr>\n",
       "    <tr>\n",
       "      <td>130</td>\n",
       "      <td>GNA12_HUMAN</td>\n",
       "      <td>0.013571</td>\n",
       "    </tr>\n",
       "    <tr>\n",
       "      <td>172</td>\n",
       "      <td>H2B1A_HUMAN</td>\n",
       "      <td>0.028658</td>\n",
       "    </tr>\n",
       "    <tr>\n",
       "      <td>176</td>\n",
       "      <td>KPCA_HUMAN</td>\n",
       "      <td>0.036776</td>\n",
       "    </tr>\n",
       "    <tr>\n",
       "      <td>189</td>\n",
       "      <td>GSTO1_HUMAN</td>\n",
       "      <td>0.028037</td>\n",
       "    </tr>\n",
       "    <tr>\n",
       "      <td>194</td>\n",
       "      <td>ATPD_HUMAN</td>\n",
       "      <td>0.046650</td>\n",
       "    </tr>\n",
       "    <tr>\n",
       "      <td>197</td>\n",
       "      <td>MBOA7_HUMAN</td>\n",
       "      <td>0.000451</td>\n",
       "    </tr>\n",
       "    <tr>\n",
       "      <td>199</td>\n",
       "      <td>MA2A1_HUMAN</td>\n",
       "      <td>0.000792</td>\n",
       "    </tr>\n",
       "    <tr>\n",
       "      <td>203</td>\n",
       "      <td>TWF1_HUMAN</td>\n",
       "      <td>0.023233</td>\n",
       "    </tr>\n",
       "    <tr>\n",
       "      <td>223</td>\n",
       "      <td>CSN8_HUMAN</td>\n",
       "      <td>0.011491</td>\n",
       "    </tr>\n",
       "    <tr>\n",
       "      <td>227</td>\n",
       "      <td>CB042_HUMAN</td>\n",
       "      <td>0.008118</td>\n",
       "    </tr>\n",
       "    <tr>\n",
       "      <td>249</td>\n",
       "      <td>ANXA7_HUMAN</td>\n",
       "      <td>0.005418</td>\n",
       "    </tr>\n",
       "    <tr>\n",
       "      <td>258</td>\n",
       "      <td>CP070_HUMAN</td>\n",
       "      <td>0.034864</td>\n",
       "    </tr>\n",
       "    <tr>\n",
       "      <td>264</td>\n",
       "      <td>PPM1F_HUMAN</td>\n",
       "      <td>0.027492</td>\n",
       "    </tr>\n",
       "    <tr>\n",
       "      <td>272</td>\n",
       "      <td>CBWD3_HUMAN</td>\n",
       "      <td>0.021881</td>\n",
       "    </tr>\n",
       "  </tbody>\n",
       "</table>\n",
       "</div>"
      ],
      "text/plain": [
       "         feature   pvalues\n",
       "0     FGF9_HUMAN  0.008832\n",
       "1     SBDS_HUMAN  0.014280\n",
       "2     KAD3_HUMAN  0.023327\n",
       "5     SYFA_HUMAN  0.000068\n",
       "6     PSA7_HUMAN  0.041253\n",
       "7    ZNF76_HUMAN  0.014285\n",
       "8     PRS8_HUMAN  0.002483\n",
       "10   CPNE1_HUMAN  0.001116\n",
       "13   NCKP1_HUMAN  0.043113\n",
       "14   CDK13_HUMAN  0.007710\n",
       "18   GNAI2_HUMAN  0.020671\n",
       "21   PP2BB_HUMAN  0.009473\n",
       "23   DIRA1_HUMAN  0.001756\n",
       "33    PGK2_HUMAN  0.012788\n",
       "44   NECP1_HUMAN  0.011722\n",
       "51    CALR_HUMAN  0.017046\n",
       "55   GNAS1_HUMAN  0.035327\n",
       "59   PRPS2_HUMAN  0.007199\n",
       "69   ATD3A_HUMAN  0.000070\n",
       "71    RPN2_HUMAN  0.038024\n",
       "81   TBA4B_HUMAN  0.018230\n",
       "90   RAB18_HUMAN  0.016862\n",
       "92    CSN4_HUMAN  0.015129\n",
       "94   SYNPO_HUMAN  0.042672\n",
       "101  DNM1L_HUMAN  0.035399\n",
       "117   ECHB_HUMAN  0.021410\n",
       "130  GNA12_HUMAN  0.013571\n",
       "172  H2B1A_HUMAN  0.028658\n",
       "176   KPCA_HUMAN  0.036776\n",
       "189  GSTO1_HUMAN  0.028037\n",
       "194   ATPD_HUMAN  0.046650\n",
       "197  MBOA7_HUMAN  0.000451\n",
       "199  MA2A1_HUMAN  0.000792\n",
       "203   TWF1_HUMAN  0.023233\n",
       "223   CSN8_HUMAN  0.011491\n",
       "227  CB042_HUMAN  0.008118\n",
       "249  ANXA7_HUMAN  0.005418\n",
       "258  CP070_HUMAN  0.034864\n",
       "264  PPM1F_HUMAN  0.027492\n",
       "272  CBWD3_HUMAN  0.021881"
      ]
     },
     "execution_count": 128,
     "metadata": {},
     "output_type": "execute_result"
    }
   ],
   "source": [
    "pvalues[pvalues['pvalues']<0.05]"
   ]
  },
  {
   "cell_type": "markdown",
   "metadata": {},
   "source": [
    "At a 0.05 significance level, there are 272 features that are statistically significant between the two groups."
   ]
  },
  {
   "cell_type": "code",
   "execution_count": null,
   "metadata": {},
   "outputs": [],
   "source": []
  }
 ],
 "metadata": {
  "kernelspec": {
   "display_name": "Python 3",
   "language": "python",
   "name": "python3"
  },
  "language_info": {
   "codemirror_mode": {
    "name": "ipython",
    "version": 3
   },
   "file_extension": ".py",
   "mimetype": "text/x-python",
   "name": "python",
   "nbconvert_exporter": "python",
   "pygments_lexer": "ipython3",
   "version": "3.6.5"
  }
 },
 "nbformat": 4,
 "nbformat_minor": 2
}
