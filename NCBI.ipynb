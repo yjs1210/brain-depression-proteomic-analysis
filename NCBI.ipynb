{
 "cells": [
  {
   "cell_type": "code",
   "execution_count": 2,
   "metadata": {},
   "outputs": [],
   "source": [
    "import requests\n",
    "import urllib.request\n",
    "import time\n",
    "from bs4 import BeautifulSoup\n",
    "import pandas as pd\n",
    "from selenium import webdriver \n",
    "from selenium.webdriver.common.by import By \n",
    "from selenium.webdriver.support.ui import WebDriverWait \n",
    "from selenium.webdriver.support import expected_conditions as EC \n",
    "from selenium.common.exceptions import TimeoutException\n",
    "import time\n",
    "import pickle\n",
    "option = webdriver.ChromeOptions()\n",
    "option.add_argument(' — incognito')"
   ]
  },
  {
   "cell_type": "code",
   "execution_count": 4,
   "metadata": {},
   "outputs": [],
   "source": [
    "df = pd.read_excel('data/report.xls')"
   ]
  },
  {
   "cell_type": "code",
   "execution_count": 5,
   "metadata": {},
   "outputs": [],
   "source": [
    "proteins = [i[0] for i in df['Uniprot Accession'].str.split('|')]"
   ]
  },
  {
   "cell_type": "code",
   "execution_count": 21,
   "metadata": {},
   "outputs": [],
   "source": [
    "browser = webdriver.Chrome(executable_path='engine/chromedriver', options=option)"
   ]
  },
  {
   "cell_type": "code",
   "execution_count": 22,
   "metadata": {},
   "outputs": [],
   "source": [
    "for i in proteins:\n",
    "    if i not in output:\n",
    "        url = 'https://www.ncbi.nlm.nih.gov/protein/{}'.format(i)                                                                                   \n",
    "        try:                                                                                        \n",
    "            browser.get(url)\n",
    "            time.sleep(5)\n",
    "            body = browser.find_element_by_class_name('genbank')\n",
    "            output[i] = body.text\n",
    "        except:\n",
    "            continue "
   ]
  },
  {
   "cell_type": "code",
   "execution_count": 24,
   "metadata": {},
   "outputs": [
    {
     "data": {
      "text/plain": [
       "1118"
      ]
     },
     "execution_count": 24,
     "metadata": {},
     "output_type": "execute_result"
    }
   ],
   "source": [
    "len(output)"
   ]
  },
  {
   "cell_type": "code",
   "execution_count": 25,
   "metadata": {},
   "outputs": [],
   "source": [
    "with open('scraped_data.pickle', 'wb') as handle:\n",
    "    pickle.dump(output, handle, protocol=pickle.HIGHEST_PROTOCOL)\n"
   ]
  },
  {
   "cell_type": "code",
   "execution_count": 6,
   "metadata": {},
   "outputs": [],
   "source": [
    "with open('scraped_data.pickle', 'rb') as handle:\n",
    "    output = pickle.load(handle)\n"
   ]
  },
  {
   "cell_type": "code",
   "execution_count": 8,
   "metadata": {},
   "outputs": [],
   "source": [
    "soup = BeautifulSoup(output['A0JP26'], \"html.parser\")"
   ]
  },
  {
   "cell_type": "code",
   "execution_count": 10,
   "metadata": {},
   "outputs": [],
   "source": [
    "string_val = output['A0JP26']"
   ]
  },
  {
   "cell_type": "code",
   "execution_count": 17,
   "metadata": {},
   "outputs": [
    {
     "name": "stdout",
     "output_type": "stream",
     "text": [
      "    NUCLEOTIDE SEQUENCE [MRNA] (ISOFORMS 1 AND 3), AND VARIANTS ASP-30;\n"
     ]
    }
   ],
   "source": [
    "import re\n",
    "result = re.search('REMARK(.*)\\n',string_val)\n",
    "print(result.group(1))"
   ]
  },
  {
   "cell_type": "code",
   "execution_count": 20,
   "metadata": {},
   "outputs": [
    {
     "name": "stdout",
     "output_type": "stream",
     "text": [
      "     Five POTE paralogs and their splice variants are expressed in human\n"
     ]
    }
   ],
   "source": [
    "import re\n",
    "result = re.search('TITLE(.*)\\n',string_val)\n",
    "print(result.group(1))"
   ]
  },
  {
   "cell_type": "code",
   "execution_count": 21,
   "metadata": {},
   "outputs": [
    {
     "name": "stdout",
     "output_type": "stream",
     "text": [
      "     On Mar 30, 2018 this sequence version replaced Q6S5H4.1.\n"
     ]
    }
   ],
   "source": [
    "import re\n",
    "result = re.search('COMMENT(.*)\\n',string_val)\n",
    "print(result.group(1))"
   ]
  },
  {
   "cell_type": "code",
   "execution_count": 22,
   "metadata": {},
   "outputs": [
    {
     "name": "stdout",
     "output_type": "stream",
     "text": [
      "    NUCLEOTIDE SEQUENCE [MRNA] (ISOFORMS 1 AND 3), AND VARIANTS ASP-30;\n"
     ]
    }
   ],
   "source": [
    "import re\n",
    "result = re.search('REMARK(.*)\\n',string_val)\n",
    "print(result.group(1))"
   ]
  },
  {
   "cell_type": "code",
   "execution_count": 24,
   "metadata": {},
   "outputs": [],
   "source": [
    "df = pd.DataFrame()"
   ]
  },
  {
   "cell_type": "code",
   "execution_count": 119,
   "metadata": {},
   "outputs": [],
   "source": [
    "protein = []\n",
    "result = []\n",
    "for key,val in output.items():\n",
    "    protein.append(key)\n",
    "    out_str = ''\n",
    "    TITLE = re.search('TITLE(.*)\\n',val)\n",
    "    REMARK = re.search('REMARK(.*)\\n',val)\n",
    "    COMMENT = re.search('COMMENT(.*)\\n',val)\n",
    "    SUMMARY = re.search('SUMMARY(.*)\\n',val)\n",
    "    FUNCTION = re.search('\\[FUNCTION\\](.*)[^\\w]',val)\n",
    "    \n",
    "    if TITLE:\n",
    "        out_str = out_str + '\\n' +'TITLE:' + TITLE.group(1)\n",
    "    if REMARK:\n",
    "        out_str = out_str + '\\n' +'REMARK:' + REMARK.group(1)\n",
    "    if COMMENT:\n",
    "        out_str = out_str + '\\n' +'COMMENT:' + COMMENT.group(1)  \n",
    "    if SUMMARY:\n",
    "        out_str = out_str + '\\n' +'SUMMARY:' + SUMMARY.group(1)  \n",
    "   #if FUNCTION:\n",
    "    #    out_str = out_str + '\\n' +'FUNCTION:' + FUNCTION.group(1)  \n",
    "    \n",
    "    \n",
    "    result.append(out_str)"
   ]
  },
  {
   "cell_type": "code",
   "execution_count": null,
   "metadata": {},
   "outputs": [],
   "source": []
  },
  {
   "cell_type": "code",
   "execution_count": 120,
   "metadata": {},
   "outputs": [
    {
     "name": "stdout",
     "output_type": "stream",
     "text": [
      "A6NMY6\n",
      "\n",
      "TITLE:     Characterization of the human lipocortin-2-encoding multigene\n",
      "REMARK:    NUCLEOTIDE SEQUENCE [MRNA].\n",
      "COMMENT:     [FUNCTION] Calcium-regulated membrane-binding protein whose\n"
     ]
    }
   ],
   "source": [
    "print(protein[7])\n",
    "print(result[7])"
   ]
  },
  {
   "cell_type": "code",
   "execution_count": 64,
   "metadata": {
    "scrolled": false
   },
   "outputs": [
    {
     "data": {
      "text/plain": [
       "'LOCUS       AXA2L_HUMAN              339 aa            linear   PRI 13-NOV-2019\\nDEFINITION  PUTATIVE PSEUDOGENE: RecName: Full=Putative annexin A2-like\\n            protein; AltName: Full=Annexin A2 pseudogene 2; AltName:\\n            Full=Lipocortin II pseudogene.\\nACCESSION   A6NMY6\\nVERSION     A6NMY6.2\\nDBSOURCE    UniProtKB: locus AXA2L_HUMAN, accession A6NMY6;\\n            class: standard.\\n            created: Jul 22, 2008.\\n            sequence updated: Jan 15, 2008.\\n            annotation updated: Nov 13, 2019.\\n            xrefs: M62898.1, AL139008.10\\n            xrefs (non-sequence databases): SMR:A6NMY6, IntAct:A6NMY6,\\n            MINT:A6NMY6, iPTMnet:A6NMY6, SwissPalm:A6NMY6, BioMuta:HGNC:539,\\n            EPD:A6NMY6, jPOST:A6NMY6, MassIVE:A6NMY6, MaxQB:A6NMY6,\\n            PRIDE:A6NMY6, ProteomicsDB:1570, TopDownProteomics:A6NMY6,\\n            GeneCards:ANXA2P2, HGNC:539, HPA:HPA061798, neXtProt:NX_A6NMY6,\\n            eggNOG:KOG0819, eggNOG:ENOG410XPUN, InParanoid:A6NMY6,\\n            PhylomeDB:A6NMY6, ChiTaRS:ANXA2P2, Pharos:A6NMY6,\\n            Proteomes:UP000005640, GO:0005604, GO:0005623, GO:0005737,\\n            GO:0070062, GO:0005615, GO:0042470, GO:0005634, GO:0005886,\\n            GO:0031982, GO:0044730, GO:0005262, GO:0005509, GO:0005544,\\n            GO:0008092, GO:0042802, GO:0005546, GO:0001786, GO:0019834,\\n            GO:0002020, GO:0017137, GO:0044548, GO:0046790, GO:0099511,\\n            GO:0001525, GO:0031214, GO:0052362, GO:0030199, GO:0060956,\\n            GO:0042730, GO:0003417, GO:0001765, GO:0052405, GO:0044147,\\n            GO:0032804, GO:0036035, GO:0051928, GO:0032332, GO:0048146,\\n            GO:1905581, GO:1905597, GO:1905599, GO:0001934, GO:0001921,\\n            GO:1905602, GO:0044090, GO:0031340, GO:0051290, GO:0072659,\\n            GO:0010755, GO:0006900, Gene3D:1.10.220.10, InterPro:IPR001464,\\n            InterPro:IPR018502, InterPro:IPR018252, InterPro:IPR037104,\\n            InterPro:IPR002389, PANTHER:PTHR10502:SF18, Pfam:PF00191,\\n            PRINTS:PR00196, PRINTS:PR00198, SMART:SM00335, SUPFAM:SSF47874,\\n            PROSITE:PS00223, PROSITE:PS51897\\nKEYWORDS    Acetylation; Annexin; Basement membrane; Calcium;\\n            Calcium/phospholipid-binding; Complete proteome; Extracellular\\n            matrix; Phosphoprotein; Reference proteome; Repeat; Secreted.\\nSOURCE      Homo sapiens (human)\\n  ORGANISM  Homo sapiens\\n            Eukaryota; Metazoa; Chordata; Craniata; Vertebrata; Euteleostomi;\\n            Mammalia; Eutheria; Euarchontoglires; Primates; Haplorrhini;\\n            Catarrhini; Hominidae; Homo.\\nREFERENCE   1  (residues 1 to 339)\\n  AUTHORS   Spano,F., Raugei,G., Palla,E., Colella,C. and Melli,M.\\n  TITLE     Characterization of the human lipocortin-2-encoding multigene\\n            family: its structure suggests the existence of a short amino acid\\n            unit undergoing duplication\\n  JOURNAL   Gene 95 (2), 243-251 (1990)\\n   PUBMED   2174397\\n  REMARK    NUCLEOTIDE SEQUENCE [MRNA].\\nREFERENCE   2  (residues 1 to 339)\\n  AUTHORS   Humphray,S.J., Oliver,K., Hunt,A.R., Plumb,R.W., Loveland,J.E.,\\n            Howe,K.L., Andrews,T.D., Searle,S., Hunt,S.E., Scott,C.E.,\\n            Jones,M.C., Ainscough,R., Almeida,J.P., Ambrose,K.D., Ashwell,R.I.,\\n            Babbage,A.K., Babbage,S., Bagguley,C.L., Bailey,J., Banerjee,R.,\\n            Barker,D.J., Barlow,K.F., Bates,K., Beasley,H., Beasley,O.,\\n            Bird,C.P., Bray-Allen,S., Brown,A.J., Brown,J.Y., Burford,D.,\\n            Burrill,W., Burton,J., Carder,C., Carter,N.P., Chapman,J.C.,\\n            Chen,Y., Clarke,G., Clark,S.Y., Clee,C.M., Clegg,S., Collier,R.E.,\\n            Corby,N., Crosier,M., Cummings,A.T., Davies,J., Dhami,P., Dunn,M.,\\n            Dutta,I., Dyer,L.W., Earthrowl,M.E., Faulkner,L., Fleming,C.J.,\\n            Frankish,A., Frankland,J.A., French,L., Fricker,D.G., Garner,P.,\\n            Garnett,J., Ghori,J., Gilbert,J.G., Glison,C., Grafham,D.V.,\\n            Gribble,S., Griffiths,C., Griffiths-Jones,S., Grocock,R., Guy,J.,\\n            Hall,R.E., Hammond,S., Harley,J.L., Harrison,E.S., Hart,E.A.,\\n            Heath,P.D., Henderson,C.D., Hopkins,B.L., Howard,P.J., Howden,P.J.,\\n            Huckle,E., Johnson,C., Johnson,D., Joy,A.A., Kay,M., Keenan,S.,\\n            Kershaw,J.K., Kimberley,A.M., King,A., Knights,A., Laird,G.K.,\\n            Langford,C., Lawlor,S., Leongamornlert,D.A., Leversha,M., Lloyd,C.,\\n            Lloyd,D.M., Lovell,J., Martin,S., Mashreghi-Mohammadi,M.,\\n            Matthews,L., McLaren,S., McLay,K.E., McMurray,A., Milne,S.,\\n            Nickerson,T., Nisbett,J., Nordsiek,G., Pearce,A.V., Peck,A.I.,\\n            Porter,K.M., Pandian,R., Pelan,S., Phillimore,B., Povey,S.,\\n            Ramsey,Y., Rand,V., Scharfe,M., Sehra,H.K., Shownkeen,R.,\\n            Sims,S.K., Skuce,C.D., Smith,M., Steward,C.A., Swarbreck,D.,\\n            Sycamore,N., Tester,J., Thorpe,A., Tracey,A., Tromans,A.,\\n            Thomas,D.W., Wall,M., Wallis,J.M., West,A.P., Whitehead,S.L.,\\n            Willey,D.L., Williams,S.A., Wilming,L., Wray,P.W., Young,L.,\\n            Ashurst,J.L., Coulson,A., Blocker,H., Durbin,R., Sulston,J.E.,\\n            Hubbard,T., Jackson,M.J., Bentley,D.R., Beck,S., Rogers,J. and\\n            Dunham,I.\\n  TITLE     DNA sequence and analysis of human chromosome 9\\n  JOURNAL   Nature 429 (6990), 369-374 (2004)\\n   PUBMED   15164053\\n  REMARK    NUCLEOTIDE SEQUENCE [LARGE SCALE GENOMIC DNA].\\nCOMMENT     [FUNCTION] Calcium-regulated membrane-binding protein whose\\n            affinity for calcium is greatly enhanced by anionic phospholipids.\\n            It binds two calcium ions with high affinity. May be involved in\\n            heat-stress response. {ECO:0000250}.\\n            [SUBUNIT] Heterotetramer containing 2 light chains of S100A10/p11\\n            and 2 heavy chains of ANXA2P2/p36. {ECO:0000250}.\\n            [SUBCELLULAR LOCATION] Secreted, extracellular space, extracellular\\n            matrix, basement membrane {ECO:0000250}. Melanosome {ECO:0000250}.\\n            Note=In the lamina beneath the plasma membrane. In melanosome\\n            fractions from stage I to stage IV. Translocated from the cytoplasm\\n            to the cell surface through a Golgi-independent mechanism.\\n            {ECO:0000250}.\\n            [DOMAIN] A pair of annexin repeats may form one binding site for\\n            calcium and phospholipid. {ECO:0000250}.\\n            [MISCELLANEOUS] It may cross-link plasma membrane phospholipids\\n            with actin and the cytoskeleton and be involved with exocytosis.\\n            {ECO:0000250}.\\n            [SIMILARITY] Belongs to the annexin family.\\n            {ECO:0000255|PROSITE-ProRule:PRU01245, ECO:0000305}.\\n            [CAUTION] Could be the product of a pseudogene. The existence of a\\n            transcript at this locus is supported by only one sequence\\n            submission (PubMed:2174397). {ECO:0000305|PubMed:2174397}.\\nFEATURES             Location/Qualifiers\\n     source          1..339\\n                     /organism=\"Homo sapiens\"\\n                     /db_xref=\"taxon:9606\"\\n     gene            1..339\\n                     /gene=\"ANXA2P2\"\\n                     /gene_synonym=\"ANX2L2\"\\n                     /gene_synonym=\"ANX2P2\"\\n                     /gene_synonym=\"LPC2B\"\\n     Protein         1..339\\n                     /product=\"Putative annexin A2-like protein\"\\n                     /note=\"Annexin A2 pseudogene 2; Lipocortin II pseudogene\"\\n                     /UniProtKB_evidence=\"Uncertain\"\\n     Region          2..339\\n                     /region_name=\"Mature chain\"\\n                     /experiment=\"experimental evidence, no additional details\\n                     recorded\"\\n                     /note=\"Putative annexin A2-like protein.\\n                     /FTId=PRO_0000343940.\"\\n     Region          2..24\\n                     /region_name=\"Region of interest in the sequence\"\\n                     /experiment=\"experimental evidence, no additional details\\n                     recorded\"\\n                     /note=\"S100A10-binding site. {ECO:0000255}.\"\\n     Site            2\\n                     /site_type=\"acetylation\"\\n                     /experiment=\"experimental evidence, no additional details\\n                     recorded\"\\n                     /note=\"N-acetylserine. {ECO:0000250|UniProtKB:P19620}.\"\\n     Site            24\\n                     /site_type=\"phosphorylation\"\\n                     /experiment=\"experimental evidence, no additional details\\n                     recorded\"\\n                     /note=\"Phosphotyrosine; by SRC. {ECO:0000250}.\"\\n     Region          33..104\\n                     /region_name=\"Repetitive region\"\\n                     /experiment=\"experimental evidence, no additional details\\n                     recorded\"\\n                     /note=\"Annexin 1. {ECO:0000255|PROSITE-ProRule:PRU01245}.\"\\n     Region          37..102\\n                     /region_name=\"Annexin\"\\n                     /note=\"Annexin; pfam00191\"\\n                     /db_xref=\"CDD:278615\"\\n     Site            49\\n                     /site_type=\"acetylation\"\\n                     /experiment=\"experimental evidence, no additional details\\n                     recorded\"\\n                     /note=\"N6-acetyllysine. {ECO:0000250|UniProtKB:P07356}.\"\\n     Region          72\\n                     /region_name=\"Conflict\"\\n                     /experiment=\"experimental evidence, no additional details\\n                     recorded\"\\n                     /note=\"V -> S (in Ref. 1; M62898). {ECO:0000305}.\"\\n     Region          105..176\\n                     /region_name=\"Repetitive region\"\\n                     /experiment=\"experimental evidence, no additional details\\n                     recorded\"\\n                     /note=\"Annexin 2. {ECO:0000255|PROSITE-ProRule:PRU01245}.\"\\n     Region          109..174\\n                     /region_name=\"Annexin\"\\n                     /note=\"Annexin; pfam00191\"\\n                     /db_xref=\"CDD:278615\"\\n     Site            152\\n                     /site_type=\"acetylation\"\\n                     /experiment=\"experimental evidence, no additional details\\n                     recorded\"\\n                     /note=\"N6-acetyllysine. {ECO:0000250|UniProtKB:P07356}.\"\\n     Region          189..261\\n                     /region_name=\"Repetitive region\"\\n                     /experiment=\"experimental evidence, no additional details\\n                     recorded\"\\n                     /note=\"Annexin 3. {ECO:0000255|PROSITE-ProRule:PRU01245}.\"\\n     Region          193..259\\n                     /region_name=\"Annexin\"\\n                     /note=\"Annexin; pfam00191\"\\n                     /db_xref=\"CDD:278615\"\\n     Site            199\\n                     /site_type=\"phosphorylation\"\\n                     /experiment=\"experimental evidence, no additional details\\n                     recorded\"\\n                     /note=\"Phosphotyrosine. {ECO:0000250|UniProtKB:P07356}.\"\\n     Site            227\\n                     /site_type=\"acetylation\"\\n                     /experiment=\"experimental evidence, no additional details\\n                     recorded\"\\n                     /note=\"N6-acetyllysine. {ECO:0000250|UniProtKB:P07356}.\"\\n     Region          265..336\\n                     /region_name=\"Repetitive region\"\\n                     /experiment=\"experimental evidence, no additional details\\n                     recorded\"\\n                     /note=\"Annexin 4. {ECO:0000255|PROSITE-ProRule:PRU01245}.\"\\n     Region          269..334\\n                     /region_name=\"Annexin\"\\n                     /note=\"Annexin; pfam00191\"\\n                     /db_xref=\"CDD:278615\"\\n     Region          338\\n                     /region_name=\"Conflict\"\\n                     /experiment=\"experimental evidence, no additional details\\n                     recorded\"\\n                     /note=\"D -> A (in Ref. 1; M62898). {ECO:0000305}.\"\\nORIGIN      \\n        1 mstvheilck lslegdhstp psaygsvkay tnfdaerdal nietaiktkg vdevtivniv\\n       61 tnrdnaqrqd ivfsyqrrtk kelasalksa lsghletvil gllktpaqyd aselkasmkg\\n      121 lgtdedslie iicsrtnqel qeinrvykem yktdlekdii sdtsgdfrkl mvalakgrra\\n      181 edgsvidyel idqdaqdlyd agvkrkgtdv pkwisimter svphlqkvfd ryksyspydm\\n      241 lesirkevkg dlenaflnlv qriqnkplyf adqlydsmkg kgtrdkvlir imvsrsevdm\\n      301 lkirsefkrk ygkslyyyiq qdtkgdyqka llylcggdd\\n//'"
      ]
     },
     "execution_count": 64,
     "metadata": {},
     "output_type": "execute_result"
    }
   ],
   "source": [
    "output['A6NMY6']"
   ]
  },
  {
   "cell_type": "code",
   "execution_count": 49,
   "metadata": {},
   "outputs": [
    {
     "data": {
      "text/plain": [
       "1118"
      ]
     },
     "execution_count": 49,
     "metadata": {},
     "output_type": "execute_result"
    }
   ],
   "source": [
    "len(result)"
   ]
  },
  {
   "cell_type": "code",
   "execution_count": 25,
   "metadata": {},
   "outputs": [
    {
     "data": {
      "text/plain": [
       "'    NUCLEOTIDE SEQUENCE [MRNA] (ISOFORMS 1 AND 3), AND VARIANTS ASP-30;'"
      ]
     },
     "execution_count": 25,
     "metadata": {},
     "output_type": "execute_result"
    }
   ],
   "source": [
    "result.group(1) "
   ]
  },
  {
   "cell_type": "code",
   "execution_count": 31,
   "metadata": {},
   "outputs": [],
   "source": [
    "yo = 'hi \\n yo'"
   ]
  },
  {
   "cell_type": "code",
   "execution_count": 32,
   "metadata": {},
   "outputs": [
    {
     "name": "stdout",
     "output_type": "stream",
     "text": [
      "hi \n",
      " yo\n"
     ]
    }
   ],
   "source": [
    "print(yo)"
   ]
  },
  {
   "cell_type": "code",
   "execution_count": 27,
   "metadata": {},
   "outputs": [],
   "source": [
    "result = re.search('SUMMARY(.*)\\n',string_val)"
   ]
  },
  {
   "cell_type": "code",
   "execution_count": 29,
   "metadata": {},
   "outputs": [
    {
     "data": {
      "text/plain": [
       "True"
      ]
     },
     "execution_count": 29,
     "metadata": {},
     "output_type": "execute_result"
    }
   ],
   "source": [
    "result is None"
   ]
  },
  {
   "cell_type": "code",
   "execution_count": 23,
   "metadata": {},
   "outputs": [
    {
     "name": "stdout",
     "output_type": "stream",
     "text": [
      "A0JP26\n",
      "    NUCLEOTIDE SEQUENCE [MRNA] (ISOFORMS 1 AND 3), AND VARIANTS ASP-30;\n",
      "     Five POTE paralogs and their splice variants are expressed in human\n",
      "     On Mar 30, 2018 this sequence version replaced Q6S5H4.1.\n",
      "    NUCLEOTIDE SEQUENCE [MRNA] (ISOFORMS 1 AND 3), AND VARIANTS ASP-30;\n"
     ]
    }
   ],
   "source": [
    "print('A0JP26')\n",
    "result = re.search('REMARK(.*)\\n',string_val)\n",
    "print(result.group(1))\n",
    "result = re.search('TITLE(.*)\\n',string_val)\n",
    "print(result.group(1))\n",
    "result = re.search('COMMENT(.*)\\n',string_val)\n",
    "print(result.group(1))\n",
    "result = re.search('REMARK(.*)\\n',string_val)\n",
    "print(result.group(1))\n"
   ]
  }
 ],
 "metadata": {
  "kernelspec": {
   "display_name": "Python 3",
   "language": "python",
   "name": "python3"
  },
  "language_info": {
   "codemirror_mode": {
    "name": "ipython",
    "version": 3
   },
   "file_extension": ".py",
   "mimetype": "text/x-python",
   "name": "python",
   "nbconvert_exporter": "python",
   "pygments_lexer": "ipython3",
   "version": "3.7.1"
  }
 },
 "nbformat": 4,
 "nbformat_minor": 2
}
