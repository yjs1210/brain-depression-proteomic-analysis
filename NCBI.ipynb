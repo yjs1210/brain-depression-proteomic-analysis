{
 "cells": [
  {
   "cell_type": "code",
   "execution_count": 1,
   "metadata": {},
   "outputs": [],
   "source": [
    "import requests\n",
    "import urllib.request\n",
    "import time\n",
    "from bs4 import BeautifulSoup\n",
    "import pandas as pd\n",
    "from selenium import webdriver \n",
    "from selenium.webdriver.common.by import By \n",
    "from selenium.webdriver.support.ui import WebDriverWait \n",
    "from selenium.webdriver.support import expected_conditions as EC \n",
    "from selenium.common.exceptions import TimeoutException\n",
    "import time\n",
    "option = webdriver.ChromeOptions()\n",
    "option.add_argument(' — incognito')"
   ]
  },
  {
   "cell_type": "code",
   "execution_count": 19,
   "metadata": {},
   "outputs": [],
   "source": [
    "df = pd.read_excel('data/report.xls')"
   ]
  },
  {
   "cell_type": "code",
   "execution_count": 20,
   "metadata": {},
   "outputs": [],
   "source": [
    "proteins = [i[0] for i in df['Uniprot Accession'].str.split('|')]"
   ]
  },
  {
   "cell_type": "code",
   "execution_count": 21,
   "metadata": {},
   "outputs": [],
   "source": [
    "browser = webdriver.Chrome(executable_path='engine/chromedriver', options=option)"
   ]
  },
  {
   "cell_type": "code",
   "execution_count": 22,
   "metadata": {},
   "outputs": [],
   "source": [
    "for i in proteins:\n",
    "    if i not in output:\n",
    "        url = 'https://www.ncbi.nlm.nih.gov/protein/{}'.format(i)                                                                                   \n",
    "        try:                                                                                        \n",
    "            browser.get(url)\n",
    "            time.sleep(5)\n",
    "            body = browser.find_element_by_class_name('genbank')\n",
    "            output[i] = body.text\n",
    "        except:\n",
    "            continue "
   ]
  },
  {
   "cell_type": "code",
   "execution_count": 24,
   "metadata": {},
   "outputs": [
    {
     "data": {
      "text/plain": [
       "1118"
      ]
     },
     "execution_count": 24,
     "metadata": {},
     "output_type": "execute_result"
    }
   ],
   "source": [
    "len(output)"
   ]
  },
  {
   "cell_type": "code",
   "execution_count": 25,
   "metadata": {},
   "outputs": [],
   "source": [
    "import pickle\n",
    "\n",
    "with open('scraped_data.pickle', 'wb') as handle:\n",
    "    pickle.dump(output, handle, protocol=pickle.HIGHEST_PROTOCOL)\n"
   ]
  },
  {
   "cell_type": "code",
   "execution_count": 28,
   "metadata": {},
   "outputs": [
    {
     "data": {
      "text/plain": [
       "'LOCUS       POTB3_HUMAN              581 aa            linear   PRI 16-OCT-2019\\nDEFINITION  RecName: Full=POTE ankyrin domain family member B3.\\nACCESSION   A0JP26\\nVERSION     A0JP26.2\\nDBSOURCE    UniProtKB: locus POTB3_HUMAN, accession A0JP26;\\n            class: standard.\\n            extra accessions:A0A096LPD0,Q6NXN7,Q6S5H4,Q6S5H7\\n            created: Mar 4, 2015.\\n            sequence updated: Mar 4, 2015.\\n            annotation updated: Oct 16, 2019.\\n            xrefs: AY465170.1, AAS58869.1, AY465173.1, AAS58872.1, AC060814.11,\\n            BC066981.1, AAH66981.1, BC127123.1, AAI27124.1, NP_997238.2,\\n            XP_011542097.1\\n            xrefs (non-sequence databases): CCDS:CCDS73690.1, SMR:A0JP26,\\n            BioGrid:130821, IntAct:A0JP26, STRING:9606.ENSP00000483103,\\n            iPTMnet:A0JP26, PhosphoSitePlus:A0JP26, BioMuta:POTEB,\\n            BioMuta:POTEB3, DMDM:55976443, jPOST:A0JP26, MassIVE:A0JP26,\\n            PRIDE:A0JP26, ProteomicsDB:67336, ProteomicsDB:67337,\\n            ProteomicsDB:67338, GeneID:102724631, KEGG:hsa:102724631,\\n            UCSC:uc059gqe.1, CTD:102724631, GeneCards:POTEB3, HGNC:51240,\\n            HPA:HPA042822, neXtProt:NX_A0JP26, PharmGKB:PA164724702,\\n            eggNOG:ENOG410ITJG, eggNOG:COG0666, GeneTree:ENSGT00940000163068,\\n            HOGENOM:HOG000293138, OMA:DYHRICQ, OrthoDB:397907at2759,\\n            PhylomeDB:A0JP26, ChiTaRS:POTEB3, GenomeRNAi:102724631,\\n            Pharos:A0JP26, PRO:PR:A0JP26, Proteomes:UP000005640,\\n            Bgee:ENSG00000278522, ExpressionAtlas:A0JP26, Genevisible:A0JP26,\\n            Gene3D:1.25.40.20, InterPro:IPR002110, InterPro:IPR020683,\\n            InterPro:IPR036770, InterPro:IPR039497, Pfam:PF12796, Pfam:PF14915,\\n            PRINTS:PR01415, SMART:SM00248, SUPFAM:SSF48403, PROSITE:PS50297,\\n            PROSITE:PS50088\\nKEYWORDS    Alternative splicing; ANK repeat; Coiled coil; Complete proteome;\\n            Polymorphism; Reference proteome; Repeat.\\nSOURCE      Homo sapiens (human)\\n  ORGANISM  Homo sapiens\\n            Eukaryota; Metazoa; Chordata; Craniata; Vertebrata; Euteleostomi;\\n            Mammalia; Eutheria; Euarchontoglires; Primates; Haplorrhini;\\n            Catarrhini; Hominidae; Homo.\\nREFERENCE   1  (residues 1 to 581)\\n  AUTHORS   Bera,T.K., Huynh,N., Maeda,H., Sathyanarayana,B.K., Lee,B. and\\n            Pastan,I.\\n  TITLE     Five POTE paralogs and their splice variants are expressed in human\\n            prostate and encode proteins of different lengths\\n  JOURNAL   Gene 337, 45-53 (2004)\\n   PUBMED   15276201\\n  REMARK    NUCLEOTIDE SEQUENCE [MRNA] (ISOFORMS 1 AND 3), AND VARIANTS ASP-30;\\n            VAL-43 AND ASP-88.;\\n            TISSUE=Prostate\\nREFERENCE   2  (residues 1 to 581)\\n  AUTHORS   Zody,M.C., Garber,M., Sharpe,T., Young,S.K., Rowen,L., O\\'Neill,K.,\\n            Whittaker,C.A., Kamal,M., Chang,J.L., Cuomo,C.A., Dewar,K.,\\n            FitzGerald,M.G., Kodira,C.D., Madan,A., Qin,S., Yang,X., Abbasi,N.,\\n            Abouelleil,A., Arachchi,H.M., Baradarani,L., Birditt,B., Bloom,S.,\\n            Bloom,T., Borowsky,M.L., Burke,J., Butler,J., Cook,A.,\\n            DeArellano,K., DeCaprio,D., Dorris,L. 3rd, Dors,M., Eichler,E.E.,\\n            Engels,R., Fahey,J., Fleetwood,P., Friedman,C., Gearin,G.,\\n            Hall,J.L., Hensley,G., Johnson,E., Jones,C., Kamat,A., Kaur,A.,\\n            Locke,D.P., Madan,A., Munson,G., Jaffe,D.B., Lui,A., Macdonald,P.,\\n            Mauceli,E., Naylor,J.W., Nesbitt,R., Nicol,R., O\\'Leary,S.B.,\\n            Ratcliffe,A., Rounsley,S., She,X., Sneddon,K.M., Stewart,S.,\\n            Sougnez,C., Stone,S.M., Topham,K., Vincent,D., Wang,S.,\\n            Zimmer,A.R., Birren,B.W., Hood,L., Lander,E.S. and Nusbaum,C.\\n  TITLE     Analysis of the DNA sequence and duplication history of human\\n            chromosome 15\\n  JOURNAL   Nature 440 (7084), 671-675 (2006)\\n   PUBMED   16572171\\n  REMARK    NUCLEOTIDE SEQUENCE [LARGE SCALE GENOMIC DNA].\\nREFERENCE   3  (residues 1 to 581)\\n  AUTHORS   Gerhard,D.S., Wagner,L., Feingold,E.A., Shenmen,C.M., Grouse,L.H.,\\n            Schuler,G., Klein,S.L., Old,S., Rasooly,R., Good,P., Guyer,M.,\\n            Peck,A.M., Derge,J.G., Lipman,D., Collins,F.S., Jang,W., Sherry,S.,\\n            Feolo,M., Misquitta,L., Lee,E., Rotmistrovsky,K., Greenhut,S.F.,\\n            Schaefer,C.F., Buetow,K., Bonner,T.I., Haussler,D., Kent,J.,\\n            Kiekhaus,M., Furey,T., Brent,M., Prange,C., Schreiber,K.,\\n            Shapiro,N., Bhat,N.K., Hopkins,R.F., Hsie,F., Driscoll,T.,\\n            Soares,M.B., Casavant,T.L., Scheetz,T.E., Brown-stein,M.J.,\\n            Usdin,T.B., Toshiyuki,S., Carninci,P., Piao,Y., Dudekula,D.B.,\\n            Ko,M.S., Kawakami,K., Suzuki,Y., Sugano,S., Gruber,C.E.,\\n            Smith,M.R., Simmons,B., Moore,T., Waterman,R., Johnson,S.L.,\\n            Ruan,Y., Wei,C.L., Mathavan,S., Gunaratne,P.H., Wu,J., Garcia,A.M.,\\n            Hulyk,S.W., Fuh,E., Yuan,Y., Sneed,A., Kowis,C., Hodgson,A.,\\n            Muzny,D.M., McPherson,J., Gibbs,R.A., Fahey,J., Helton,E.,\\n            Ketteman,M., Madan,A., Rodrigues,S., Sanchez,A., Whiting,M.,\\n            Madari,A., Young,A.C., Wetherby,K.D., Granite,S.J., Kwong,P.N.,\\n            Brinkley,C.P., Pearson,R.L., Bouffard,G.G., Blakesly,R.W.,\\n            Green,E.D., Dickson,M.C., Rodriguez,A.C., Grimwood,J., Schmutz,J.,\\n            Myers,R.M., Butterfield,Y.S., Griffith,M., Griffith,O.L.,\\n            Krzywinski,M.I., Liao,N., Morin,R., Palmquist,D., Petrescu,A.S.,\\n            Skalska,U., Smailus,D.E., Stott,J.M., Schnerch,A., Schein,J.E.,\\n            Jones,S.J., Holt,R.A., Baross,A., Marra,M.A., Clifton,S.,\\n            Makowski,K.A., Bosak,S. and Malek,J.\\n  CONSRTM   MGC Project Team\\n  TITLE     The status, quality, and expansion of the NIH full-length cDNA\\n            project: the Mammalian Gene Collection (MGC)\\n  JOURNAL   Genome Res. 14 (10B), 2121-2127 (2004)\\n   PUBMED   15489334\\n  REMARK    NUCLEOTIDE SEQUENCE [LARGE SCALE MRNA] (ISOFORMS 1 AND 2), AND\\n            VARIANTS GLY-203; GLU-286; GLU-511; LYS-535 AND THR-568.\\n            Erratum:[Genome Res. 2006 Jun;16(6):804. Morrin, Ryan [corrected to\\n            Morin, Ryan]]\\nCOMMENT     On Mar 30, 2018 this sequence version replaced Q6S5H4.1.\\n            [ALTERNATIVE PRODUCTS] Event=Alternative splicing; Named\\n            isoforms=3; Name=1; IsoId=A0JP26-1; Sequence=Displayed; Name=2;\\n            IsoId=A0JP26-2; Sequence=VSP_059381, VSP_059382; Name=3;\\n            IsoId=A0JP26-3; Sequence=VSP_059380.\\n            [SIMILARITY] Belongs to the POTE family. {ECO:0000305}.\\n            [CAUTION] Maps to a duplicated region on chromosome 15; the gene is\\n            present in at least 3 almost identical copies. {ECO:0000305}.\\nFEATURES             Location/Qualifiers\\n     source          1..581\\n                     /organism=\"Homo sapiens\"\\n                     /db_xref=\"taxon:9606\"\\n     gene            1..581\\n                     /gene=\"POTEB3\"\\n     Protein         1..581\\n                     /product=\"POTE ankyrin domain family member B3\"\\n                     /UniProtKB_evidence=\"Evidence at transcript level\"\\n     Region          1..581\\n                     /region_name=\"Mature chain\"\\n                     /experiment=\"experimental evidence, no additional details\\n                     recorded\"\\n                     /note=\"POTE ankyrin domain family member B3.\\n                     /FTId=PRO_0000432398.\"\\n     Region          30\\n                     /region_name=\"Variant\"\\n                     /experiment=\"experimental evidence, no additional details\\n                     recorded\"\\n                     /note=\"H -> D (in dbSNP:rs200845208).\\n                     {ECO:0000269|PubMed:15276201}. /FTId=VAR_080181.\"\\n     Region          42..78\\n                     /region_name=\"Splicing variant\"\\n                     /experiment=\"experimental evidence, no additional details\\n                     recorded\"\\n                     /note=\"Missing (in isoform 3). /FTId=VSP_059380.\"\\n     Region          43\\n                     /region_name=\"Variant\"\\n                     /experiment=\"experimental evidence, no additional details\\n                     recorded\"\\n                     /note=\"M -> V (in dbSNP:rs2605913). /FTId=VAR_019915.\"\\n     Region          88\\n                     /region_name=\"Variant\"\\n                     /experiment=\"experimental evidence, no additional details\\n                     recorded\"\\n                     /note=\"N -> D (in dbSNP:rs2458862).\\n                     {ECO:0000269|PubMed:15276201}. /FTId=VAR_019919.\"\\n     Region          143..193\\n                     /region_name=\"Ank_4\"\\n                     /note=\"Ankyrin repeats (many copies); pfam13637\"\\n                     /db_xref=\"CDD:290365\"\\n     Region          167..292\\n                     /region_name=\"ANK\"\\n                     /note=\"ankyrin repeats; ankyrin repeats mediate\\n                     protein-protein interactions in very diverse families of\\n                     proteins. The number of ANK repeats in a protein can range\\n                     from 2 to over 20 (ankyrins, for example). ANK repeats may\\n                     occur in combinations with other...; cd00204\"\\n                     /db_xref=\"CDD:238125\"\\n     Region          172..201\\n                     /region_name=\"Repetitive region\"\\n                     /experiment=\"experimental evidence, no additional details\\n                     recorded\"\\n                     /note=\"ANK 1. {ECO:0000255}.\"\\n     Site            order(174,178..179,182..184,186..187,191,194,203,205,207,\\n                     211..212,215..217,219..220,224,227,236,238,240,244..245,\\n                     248..250,252..253,257,260,269)\\n                     /site_type=\"other\"\\n                     /note=\"oligomer interface [polypeptide binding]\"\\n                     /db_xref=\"CDD:293786\"\\n     Region          174..203\\n                     /region_name=\"ANK repeat\"\\n                     /note=\"ANK repeat [structural motif]\"\\n                     /db_xref=\"CDD:293786\"\\n     Region          177..269\\n                     /region_name=\"Ank_2\"\\n                     /note=\"Ankyrin repeats (3 copies); pfam12796\"\\n                     /db_xref=\"CDD:289560\"\\n     Region          203\\n                     /region_name=\"Variant\"\\n                     /experiment=\"experimental evidence, no additional details\\n                     recorded\"\\n                     /note=\"D -> G. {ECO:0000269|PubMed:15489334}.\\n                     /FTId=VAR_080182.\"\\n     Region          205..236\\n                     /region_name=\"ANK repeat\"\\n                     /note=\"ANK repeat [structural motif]\"\\n                     /db_xref=\"CDD:293786\"\\n     Region          205..234\\n                     /region_name=\"Repetitive region\"\\n                     /experiment=\"experimental evidence, no additional details\\n                     recorded\"\\n                     /note=\"ANK 2. {ECO:0000255}.\"\\n     Region          233..357\\n                     /region_name=\"ANK\"\\n                     /note=\"ankyrin repeats; ankyrin repeats mediate\\n                     protein-protein interactions in very diverse families of\\n                     proteins. The number of ANK repeats in a protein can range\\n                     from 2 to over 20 (ankyrins, for example). ANK repeats may\\n                     occur in combinations with other...; cd00204\"\\n                     /db_xref=\"CDD:238125\"\\n     Region          238..269\\n                     /region_name=\"ANK repeat\"\\n                     /note=\"ANK repeat [structural motif]\"\\n                     /db_xref=\"CDD:293786\"\\n     Region          238..267\\n                     /region_name=\"Repetitive region\"\\n                     /experiment=\"experimental evidence, no additional details\\n                     recorded\"\\n                     /note=\"ANK 3. {ECO:0000255}.\"\\n     Region          243..335\\n                     /region_name=\"Ank_2\"\\n                     /note=\"Ankyrin repeats (3 copies); pfam12796\"\\n                     /db_xref=\"CDD:289560\"\\n     Region          271..302\\n                     /region_name=\"ANK repeat\"\\n                     /note=\"ANK repeat [structural motif]\"\\n                     /db_xref=\"CDD:293786\"\\n     Region          271..300\\n                     /region_name=\"Repetitive region\"\\n                     /experiment=\"experimental evidence, no additional details\\n                     recorded\"\\n                     /note=\"ANK 4. {ECO:0000255}.\"\\n     Region          286\\n                     /region_name=\"Variant\"\\n                     /experiment=\"experimental evidence, no additional details\\n                     recorded\"\\n                     /note=\"Q -> E (in dbSNP:rs2445603).\\n                     {ECO:0000269|PubMed:15489334}. /FTId=VAR_080183.\"\\n     Region          304..335\\n                     /region_name=\"ANK repeat\"\\n                     /note=\"ANK repeat [structural motif]\"\\n                     /db_xref=\"CDD:293786\"\\n     Region          304..333\\n                     /region_name=\"Repetitive region\"\\n                     /experiment=\"experimental evidence, no additional details\\n                     recorded\"\\n                     /note=\"ANK 5. {ECO:0000255}.\"\\n     Region          337..366\\n                     /region_name=\"Repetitive region\"\\n                     /experiment=\"experimental evidence, no additional details\\n                     recorded\"\\n                     /note=\"ANK 6. {ECO:0000255}.\"\\n     Region          376..381\\n                     /region_name=\"Splicing variant\"\\n                     /experiment=\"experimental evidence, no additional details\\n                     recorded\"\\n                     /note=\"EQDLKL -> GKEAEE (in isoform 2). /FTId=VSP_059381.\"\\n     Region          382..581\\n                     /region_name=\"Splicing variant\"\\n                     /experiment=\"experimental evidence, no additional details\\n                     recorded\"\\n                     /note=\"Missing (in isoform 2). /FTId=VSP_059382.\"\\n     Region          489..577\\n                     /region_name=\"Coiled-coil region\"\\n                     /experiment=\"experimental evidence, no additional details\\n                     recorded\"\\n                     /note=\"{ECO:0000255}.\"\\n     Region          510\\n                     /region_name=\"Conflict\"\\n                     /experiment=\"experimental evidence, no additional details\\n                     recorded\"\\n                     /note=\"S -> P (in Ref. 3; AAI27124). {ECO:0000305}.\"\\n     Region          511\\n                     /region_name=\"Variant\"\\n                     /experiment=\"experimental evidence, no additional details\\n                     recorded\"\\n                     /note=\"K -> E (in dbSNP:rs1949282).\\n                     {ECO:0000269|PubMed:15489334}. /FTId=VAR_019921.\"\\n     Region          535\\n                     /region_name=\"Variant\"\\n                     /experiment=\"experimental evidence, no additional details\\n                     recorded\"\\n                     /note=\"M -> K (in dbSNP:rs1828869).\\n                     {ECO:0000269|PubMed:15489334}. /FTId=VAR_019922.\"\\n     Region          568\\n                     /region_name=\"Variant\"\\n                     /experiment=\"experimental evidence, no additional details\\n                     recorded\"\\n                     /note=\"A -> T (in dbSNP:rs1828868).\\n                     {ECO:0000269|PubMed:15489334}. /FTId=VAR_059119.\"\\nORIGIN      \\n        1 mvaevcsmpa asavkkpfdl rskmgkwchh rfpccrgsgk snmgtsgdhd dsfmktlrsk\\n       61 mgkcchhcfp ccrgsgtsnv gtsgdhdnsf mktlrskmgk wcchcfpccr gsgksnvgtw\\n      121 gdyddsafme pryhvrredl dklhraawwg kvprkdlivm lrdtdmnkrd kqkrtalhla\\n      181 sangnsevvq llldrrcqln vldnkkrtal ikavqcqede cvlmllehga dgniqdeygn\\n      241 talhyaiyne dklmakalll ygadiesknk cgltplllgv heqkqqvvkf likkkanlna\\n      301 ldrygrtali lavccgsasi vnllleqnvd vssqdlsgqt areyavsshh hvicellsdy\\n      361 kekqmlkiss ensnpeqdlk ltseeesqrl kvsensqpek msqepeinkd cdreveeeik\\n      421 khgsnpvglp enltngasag ngddglipqr ksrkpenqqf pdteneeyhs deqndtqkql\\n      481 seeqntgisq deiltnkqkq ievaekemns klslshkkee dllrensmlr eeiamlrlel\\n      541 detkhqnqlr enkileeies vkekllkaiq lneealtkts i\\n//'"
      ]
     },
     "execution_count": 28,
     "metadata": {},
     "output_type": "execute_result"
    }
   ],
   "source": [
    "output['A0JP26']"
   ]
  }
 ],
 "metadata": {
  "kernelspec": {
   "display_name": "Python 3",
   "language": "python",
   "name": "python3"
  },
  "language_info": {
   "codemirror_mode": {
    "name": "ipython",
    "version": 3
   },
   "file_extension": ".py",
   "mimetype": "text/x-python",
   "name": "python",
   "nbconvert_exporter": "python",
   "pygments_lexer": "ipython3",
   "version": "3.7.3"
  }
 },
 "nbformat": 4,
 "nbformat_minor": 2
}
