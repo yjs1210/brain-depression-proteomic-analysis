{
 "cells": [
  {
   "cell_type": "code",
   "execution_count": 1,
   "metadata": {},
   "outputs": [],
   "source": [
    "import pandas as pd\n",
    "import numpy as np"
   ]
  },
  {
   "cell_type": "code",
   "execution_count": 2,
   "metadata": {},
   "outputs": [],
   "source": [
    "df = pd.read_excel('data/Report_21_050718_3.xls')"
   ]
  },
  {
   "cell_type": "code",
   "execution_count": 3,
   "metadata": {},
   "outputs": [],
   "source": [
    "df.columns = df.columns.str.replace(' ','_').str.lower()"
   ]
  },
  {
   "cell_type": "code",
   "execution_count": 122,
   "metadata": {},
   "outputs": [],
   "source": [
    "out = pd.DataFrame()\n",
    "for i in list(df.columns[((df.columns.str.endswith('_1') | df.columns.str.endswith('_2')))]):\n",
    "    pat_info = i.split('_')\n",
    "    df['pat_id'] = pat_info[0]\n",
    "    row = df.pivot(index='pat_id', columns='uniprot_id', values=i)\n",
    "    row['dt_start'] = pat_info[1]\n",
    "    row['dt_end'] = pat_info[2]\n",
    "    row['dose']  = pat_info[3][:-2]\n",
    "    row['group']  = df.pat_id.str.split('_')[0][0:1]\n",
    "    out = out.append(row)"
   ]
  },
  {
   "cell_type": "code",
   "execution_count": 123,
   "metadata": {},
   "outputs": [],
   "source": [
    "out['group']  = out.index.str[0:1]"
   ]
  },
  {
   "cell_type": "code",
   "execution_count": 127,
   "metadata": {},
   "outputs": [
    {
     "data": {
      "text/plain": [
       "pat_id\n",
       "a118     a\n",
       "a118     a\n",
       "a190     a\n",
       "a190     a\n",
       "a210     a\n",
       "a210     a\n",
       "a302     a\n",
       "a302     a\n",
       "a320     a\n",
       "a320     a\n",
       "a360     a\n",
       "a360     a\n",
       "a371     a\n",
       "a371     a\n",
       "a372     a\n",
       "a372     a\n",
       "a373     a\n",
       "a373     a\n",
       "a397     a\n",
       "a397     a\n",
       "a422     a\n",
       "a422     a\n",
       "a438     a\n",
       "a438     a\n",
       "c1043    c\n",
       "c1043    c\n",
       "c113     c\n",
       "c113     c\n",
       "c178     c\n",
       "c178     c\n",
       "        ..\n",
       "c771     c\n",
       "c771     c\n",
       "c811     c\n",
       "c811     c\n",
       "c892     c\n",
       "c892     c\n",
       "m1005    m\n",
       "m1005    m\n",
       "m1018    m\n",
       "m1018    m\n",
       "m285     m\n",
       "m285     m\n",
       "m330     m\n",
       "m330     m\n",
       "m364     m\n",
       "m364     m\n",
       "m406     m\n",
       "m406     m\n",
       "m482     m\n",
       "m482     m\n",
       "m507     m\n",
       "m507     m\n",
       "m574     m\n",
       "m574     m\n",
       "m683     m\n",
       "m683     m\n",
       "m840     m\n",
       "m840     m\n",
       "m893     m\n",
       "m893     m\n",
       "Name: group, Length: 72, dtype: object"
      ]
     },
     "execution_count": 127,
     "metadata": {},
     "output_type": "execute_result"
    }
   ],
   "source": [
    "out[out['group']=='a'"
   ]
  },
  {
   "cell_type": "code",
   "execution_count": 126,
   "metadata": {},
   "outputs": [
    {
     "data": {
      "text/plain": [
       "Index(['a118', 'a118', 'a190', 'a190', 'a210', 'a210', 'a302', 'a302', 'a320',\n",
       "       'a320', 'a360', 'a360', 'a371', 'a371', 'a372', 'a372', 'a373', 'a373',\n",
       "       'a397', 'a397', 'a422', 'a422', 'a438', 'a438', 'c1043', 'c1043',\n",
       "       'c113', 'c113', 'c178', 'c178', 'c342', 'c342', 'c398', 'c398', 'c428',\n",
       "       'c428', 'c432', 'c432', 'c542', 'c542', 'c766', 'c766', 'c771', 'c771',\n",
       "       'c811', 'c811', 'c892', 'c892', 'm1005', 'm1005', 'm1018', 'm1018',\n",
       "       'm285', 'm285', 'm330', 'm330', 'm364', 'm364', 'm406', 'm406', 'm482',\n",
       "       'm482', 'm507', 'm507', 'm574', 'm574', 'm683', 'm683', 'm840', 'm840',\n",
       "       'm893', 'm893'],\n",
       "      dtype='object', name='pat_id')"
      ]
     },
     "execution_count": 126,
     "metadata": {},
     "output_type": "execute_result"
    }
   ],
   "source": [
    "out.index"
   ]
  },
  {
   "cell_type": "code",
   "execution_count": null,
   "metadata": {},
   "outputs": [],
   "source": []
  },
  {
   "cell_type": "code",
   "execution_count": null,
   "metadata": {},
   "outputs": [],
   "source": []
  },
  {
   "cell_type": "code",
   "execution_count": null,
   "metadata": {},
   "outputs": [],
   "source": []
  },
  {
   "cell_type": "code",
   "execution_count": null,
   "metadata": {},
   "outputs": [],
   "source": []
  },
  {
   "cell_type": "code",
   "execution_count": null,
   "metadata": {},
   "outputs": [],
   "source": []
  },
  {
   "cell_type": "code",
   "execution_count": null,
   "metadata": {},
   "outputs": [],
   "source": []
  }
 ],
 "metadata": {
  "kernelspec": {
   "display_name": "Python 3",
   "language": "python",
   "name": "python3"
  },
  "language_info": {
   "codemirror_mode": {
    "name": "ipython",
    "version": 3
   },
   "file_extension": ".py",
   "mimetype": "text/x-python",
   "name": "python",
   "nbconvert_exporter": "python",
   "pygments_lexer": "ipython3",
   "version": "3.7.3"
  }
 },
 "nbformat": 4,
 "nbformat_minor": 2
}
