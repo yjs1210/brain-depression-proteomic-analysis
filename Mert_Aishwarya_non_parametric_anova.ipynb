{
 "cells": [
  {
   "cell_type": "code",
   "execution_count": 2,
   "metadata": {},
   "outputs": [],
   "source": [
    "import pandas as pd\n",
    "import numpy as np\n",
    "from sklearn.decomposition import PCA\n",
    "import matplotlib.pyplot as plt\n",
    "import seaborn as sns"
   ]
  },
  {
   "cell_type": "code",
   "execution_count": 13,
   "metadata": {},
   "outputs": [],
   "source": [
    "df = pd.read_excel('data\\Report_21_050718_3.xls')"
   ]
  },
  {
   "cell_type": "code",
   "execution_count": 14,
   "metadata": {},
   "outputs": [],
   "source": [
    "df_demographics = pd.read_excel('data\\Proteomics-Subjects_Wcodes.xlsx')"
   ]
  },
  {
   "cell_type": "code",
   "execution_count": 15,
   "metadata": {},
   "outputs": [],
   "source": [
    "df.columns = df.columns.str.replace(' ','_').str.lower()\n",
    "df_demographics.columns = df_demographics.columns.str.replace(' ','_').str.lower()"
   ]
  },
  {
   "cell_type": "code",
   "execution_count": 16,
   "metadata": {},
   "outputs": [],
   "source": [
    "'''\n",
    "Converting long data to wide data\n",
    "There are 12 subjects per group with 2 different dosages and total of 3 groups for 72 rows. \n",
    "We first identify the 72 columns, iterate through them and create one row per that item using pivot.\n",
    "'''\n",
    "out = pd.DataFrame()\n",
    "for i in list(df.columns[((df.columns.str.endswith('_1') | df.columns.str.endswith('_2')))]):\n",
    "    pat_info = i.split('_')\n",
    "    df['pat_id'] = pat_info[0][1:]\n",
    "    row = df.pivot(index='pat_id', columns='uniprot_id', values=i)\n",
    "    row['dt_start'] = pat_info[1]\n",
    "    row['dt_end'] = pat_info[2]\n",
    "    row['dose']  = pat_info[3][:-2]\n",
    "    row['group']  = pat_info[0][0]\n",
    "    out = out.append(row)"
   ]
  },
  {
   "cell_type": "code",
   "execution_count": 18,
   "metadata": {},
   "outputs": [],
   "source": [
    "out.index = out.index.astype('int64')\n",
    "df_demographics.set_index('id',inplace=True)\n",
    "out = out.join(df_demographics)"
   ]
  },
  {
   "cell_type": "code",
   "execution_count": 10,
   "metadata": {},
   "outputs": [],
   "source": [
    "out = out.replace(0, np.nan)\n",
    "out = out.groupby(['sex','gr']).apply(lambda x: x.fillna(x.mean()))\n",
    "numeric_cols = out.loc[:,out.dtypes =='float64']\n",
    "numeric_cols = np.log(numeric_cols)\n",
    "non_numeric_cols = out.loc[:,~(out.dtypes =='float64')]\n",
    "out = pd.concat([numeric_cols,non_numeric_cols], axis=1)"
   ]
  },
  {
   "cell_type": "code",
   "execution_count": 26,
   "metadata": {},
   "outputs": [
    {
     "data": {
      "text/html": [
       "<div>\n",
       "<style scoped>\n",
       "    .dataframe tbody tr th:only-of-type {\n",
       "        vertical-align: middle;\n",
       "    }\n",
       "\n",
       "    .dataframe tbody tr th {\n",
       "        vertical-align: top;\n",
       "    }\n",
       "\n",
       "    .dataframe thead th {\n",
       "        text-align: right;\n",
       "    }\n",
       "</style>\n",
       "<table border=\"1\" class=\"dataframe\">\n",
       "  <thead>\n",
       "    <tr style=\"text-align: right;\">\n",
       "      <th></th>\n",
       "      <th>1433B_HUMAN</th>\n",
       "      <th>1433E_HUMAN</th>\n",
       "      <th>1433F_HUMAN</th>\n",
       "      <th>1433G_HUMAN</th>\n",
       "      <th>1433S_HUMAN</th>\n",
       "      <th>1433T_HUMAN</th>\n",
       "      <th>1433Z_HUMAN</th>\n",
       "      <th>2AAA_HUMAN</th>\n",
       "      <th>2ABA_HUMAN</th>\n",
       "      <th>2ABD_HUMAN</th>\n",
       "      <th>...</th>\n",
       "      <th>ZN346_HUMAN</th>\n",
       "      <th>ZNF76_HUMAN</th>\n",
       "      <th>dt_start</th>\n",
       "      <th>dt_end</th>\n",
       "      <th>dose</th>\n",
       "      <th>group</th>\n",
       "      <th>age</th>\n",
       "      <th>sex</th>\n",
       "      <th>gr</th>\n",
       "      <th>suicide</th>\n",
       "    </tr>\n",
       "  </thead>\n",
       "  <tbody>\n",
       "    <tr>\n",
       "      <th>113</th>\n",
       "      <td>810919.625</td>\n",
       "      <td>1834369.625</td>\n",
       "      <td>1392117.625</td>\n",
       "      <td>1956605.875</td>\n",
       "      <td>70254.930</td>\n",
       "      <td>474045.375</td>\n",
       "      <td>6620744.0</td>\n",
       "      <td>1291516.250</td>\n",
       "      <td>461692.156</td>\n",
       "      <td>529325.312</td>\n",
       "      <td>...</td>\n",
       "      <td>58731.387</td>\n",
       "      <td>36183.840</td>\n",
       "      <td>080515</td>\n",
       "      <td>082115</td>\n",
       "      <td>2</td>\n",
       "      <td>c</td>\n",
       "      <td>66</td>\n",
       "      <td>Male</td>\n",
       "      <td>C</td>\n",
       "      <td>Non-Suic</td>\n",
       "    </tr>\n",
       "    <tr>\n",
       "      <th>113</th>\n",
       "      <td>979915.312</td>\n",
       "      <td>1824592.875</td>\n",
       "      <td>1120456.625</td>\n",
       "      <td>2091506.750</td>\n",
       "      <td>89526.766</td>\n",
       "      <td>511258.094</td>\n",
       "      <td>7785243.5</td>\n",
       "      <td>1354807.375</td>\n",
       "      <td>520214.781</td>\n",
       "      <td>589599.125</td>\n",
       "      <td>...</td>\n",
       "      <td>75773.492</td>\n",
       "      <td>39117.086</td>\n",
       "      <td>080515</td>\n",
       "      <td>083115</td>\n",
       "      <td>4</td>\n",
       "      <td>c</td>\n",
       "      <td>66</td>\n",
       "      <td>Male</td>\n",
       "      <td>C</td>\n",
       "      <td>Non-Suic</td>\n",
       "    </tr>\n",
       "    <tr>\n",
       "      <th>118</th>\n",
       "      <td>914548.438</td>\n",
       "      <td>1854424.500</td>\n",
       "      <td>959073.062</td>\n",
       "      <td>1457951.625</td>\n",
       "      <td>93304.797</td>\n",
       "      <td>457482.219</td>\n",
       "      <td>7300623.5</td>\n",
       "      <td>1291576.500</td>\n",
       "      <td>398318.875</td>\n",
       "      <td>527421.375</td>\n",
       "      <td>...</td>\n",
       "      <td>89240.133</td>\n",
       "      <td>30450.059</td>\n",
       "      <td>080515</td>\n",
       "      <td>090215</td>\n",
       "      <td>5</td>\n",
       "      <td>a</td>\n",
       "      <td>31</td>\n",
       "      <td>Female</td>\n",
       "      <td>MDD*SSRI</td>\n",
       "      <td>Suicide</td>\n",
       "    </tr>\n",
       "    <tr>\n",
       "      <th>118</th>\n",
       "      <td>907351.750</td>\n",
       "      <td>1838558.750</td>\n",
       "      <td>1072144.375</td>\n",
       "      <td>1534899.750</td>\n",
       "      <td>86471.102</td>\n",
       "      <td>514485.250</td>\n",
       "      <td>6757149.0</td>\n",
       "      <td>1213667.875</td>\n",
       "      <td>404712.719</td>\n",
       "      <td>444648.688</td>\n",
       "      <td>...</td>\n",
       "      <td>87685.891</td>\n",
       "      <td>37354.352</td>\n",
       "      <td>080515</td>\n",
       "      <td>091515</td>\n",
       "      <td>5</td>\n",
       "      <td>a</td>\n",
       "      <td>31</td>\n",
       "      <td>Female</td>\n",
       "      <td>MDD*SSRI</td>\n",
       "      <td>Suicide</td>\n",
       "    </tr>\n",
       "    <tr>\n",
       "      <th>178</th>\n",
       "      <td>642208.750</td>\n",
       "      <td>1573063.250</td>\n",
       "      <td>948511.250</td>\n",
       "      <td>1410201.750</td>\n",
       "      <td>33571.168</td>\n",
       "      <td>406018.250</td>\n",
       "      <td>5112435.0</td>\n",
       "      <td>976768.875</td>\n",
       "      <td>343902.938</td>\n",
       "      <td>480558.625</td>\n",
       "      <td>...</td>\n",
       "      <td>62084.770</td>\n",
       "      <td>37259.727</td>\n",
       "      <td>080515</td>\n",
       "      <td>082115</td>\n",
       "      <td>2</td>\n",
       "      <td>c</td>\n",
       "      <td>25</td>\n",
       "      <td>Male</td>\n",
       "      <td>C</td>\n",
       "      <td>Non-Suic</td>\n",
       "    </tr>\n",
       "  </tbody>\n",
       "</table>\n",
       "<p>5 rows × 1139 columns</p>\n",
       "</div>"
      ],
      "text/plain": [
       "     1433B_HUMAN  1433E_HUMAN  1433F_HUMAN  1433G_HUMAN  1433S_HUMAN  \\\n",
       "113   810919.625  1834369.625  1392117.625  1956605.875    70254.930   \n",
       "113   979915.312  1824592.875  1120456.625  2091506.750    89526.766   \n",
       "118   914548.438  1854424.500   959073.062  1457951.625    93304.797   \n",
       "118   907351.750  1838558.750  1072144.375  1534899.750    86471.102   \n",
       "178   642208.750  1573063.250   948511.250  1410201.750    33571.168   \n",
       "\n",
       "     1433T_HUMAN  1433Z_HUMAN   2AAA_HUMAN  2ABA_HUMAN  2ABD_HUMAN  ...  \\\n",
       "113   474045.375    6620744.0  1291516.250  461692.156  529325.312  ...   \n",
       "113   511258.094    7785243.5  1354807.375  520214.781  589599.125  ...   \n",
       "118   457482.219    7300623.5  1291576.500  398318.875  527421.375  ...   \n",
       "118   514485.250    6757149.0  1213667.875  404712.719  444648.688  ...   \n",
       "178   406018.250    5112435.0   976768.875  343902.938  480558.625  ...   \n",
       "\n",
       "     ZN346_HUMAN  ZNF76_HUMAN  dt_start  dt_end  dose  group  age     sex  \\\n",
       "113    58731.387    36183.840    080515  082115     2      c   66    Male   \n",
       "113    75773.492    39117.086    080515  083115     4      c   66    Male   \n",
       "118    89240.133    30450.059    080515  090215     5      a   31  Female   \n",
       "118    87685.891    37354.352    080515  091515     5      a   31  Female   \n",
       "178    62084.770    37259.727    080515  082115     2      c   25    Male   \n",
       "\n",
       "           gr   suicide  \n",
       "113         C  Non-Suic  \n",
       "113         C  Non-Suic  \n",
       "118  MDD*SSRI   Suicide  \n",
       "118  MDD*SSRI   Suicide  \n",
       "178         C  Non-Suic  \n",
       "\n",
       "[5 rows x 1139 columns]"
      ]
     },
     "execution_count": 26,
     "metadata": {},
     "output_type": "execute_result"
    }
   ],
   "source": [
    "out.head()"
   ]
  },
  {
   "cell_type": "code",
   "execution_count": 27,
   "metadata": {},
   "outputs": [
    {
     "data": {
      "text/plain": [
       "Suicide     38\n",
       "Non-Suic    34\n",
       "Name: suicide, dtype: int64"
      ]
     },
     "execution_count": 27,
     "metadata": {},
     "output_type": "execute_result"
    }
   ],
   "source": [
    "out.suicide.value_counts()"
   ]
  },
  {
   "cell_type": "code",
   "execution_count": 28,
   "metadata": {},
   "outputs": [
    {
     "data": {
      "text/html": [
       "<div>\n",
       "<style scoped>\n",
       "    .dataframe tbody tr th:only-of-type {\n",
       "        vertical-align: middle;\n",
       "    }\n",
       "\n",
       "    .dataframe tbody tr th {\n",
       "        vertical-align: top;\n",
       "    }\n",
       "\n",
       "    .dataframe thead th {\n",
       "        text-align: right;\n",
       "    }\n",
       "</style>\n",
       "<table border=\"1\" class=\"dataframe\">\n",
       "  <thead>\n",
       "    <tr style=\"text-align: right;\">\n",
       "      <th></th>\n",
       "      <th>1433B_HUMAN</th>\n",
       "      <th>1433E_HUMAN</th>\n",
       "      <th>1433F_HUMAN</th>\n",
       "      <th>1433G_HUMAN</th>\n",
       "      <th>1433S_HUMAN</th>\n",
       "      <th>1433T_HUMAN</th>\n",
       "      <th>1433Z_HUMAN</th>\n",
       "      <th>2AAA_HUMAN</th>\n",
       "      <th>2ABA_HUMAN</th>\n",
       "      <th>2ABD_HUMAN</th>\n",
       "      <th>...</th>\n",
       "      <th>ZN346_HUMAN</th>\n",
       "      <th>ZNF76_HUMAN</th>\n",
       "      <th>dt_start</th>\n",
       "      <th>dt_end</th>\n",
       "      <th>dose</th>\n",
       "      <th>group</th>\n",
       "      <th>age</th>\n",
       "      <th>sex</th>\n",
       "      <th>gr</th>\n",
       "      <th>suicide</th>\n",
       "    </tr>\n",
       "  </thead>\n",
       "  <tbody>\n",
       "    <tr>\n",
       "      <th>113</th>\n",
       "      <td>810919.625</td>\n",
       "      <td>1834369.625</td>\n",
       "      <td>1392117.625</td>\n",
       "      <td>1956605.875</td>\n",
       "      <td>70254.930</td>\n",
       "      <td>474045.375</td>\n",
       "      <td>6620744.0</td>\n",
       "      <td>1291516.250</td>\n",
       "      <td>461692.156</td>\n",
       "      <td>529325.312</td>\n",
       "      <td>...</td>\n",
       "      <td>58731.387</td>\n",
       "      <td>36183.840</td>\n",
       "      <td>080515</td>\n",
       "      <td>082115</td>\n",
       "      <td>2</td>\n",
       "      <td>c</td>\n",
       "      <td>66</td>\n",
       "      <td>Male</td>\n",
       "      <td>C</td>\n",
       "      <td>Non-Suic</td>\n",
       "    </tr>\n",
       "    <tr>\n",
       "      <th>113</th>\n",
       "      <td>979915.312</td>\n",
       "      <td>1824592.875</td>\n",
       "      <td>1120456.625</td>\n",
       "      <td>2091506.750</td>\n",
       "      <td>89526.766</td>\n",
       "      <td>511258.094</td>\n",
       "      <td>7785243.5</td>\n",
       "      <td>1354807.375</td>\n",
       "      <td>520214.781</td>\n",
       "      <td>589599.125</td>\n",
       "      <td>...</td>\n",
       "      <td>75773.492</td>\n",
       "      <td>39117.086</td>\n",
       "      <td>080515</td>\n",
       "      <td>083115</td>\n",
       "      <td>4</td>\n",
       "      <td>c</td>\n",
       "      <td>66</td>\n",
       "      <td>Male</td>\n",
       "      <td>C</td>\n",
       "      <td>Non-Suic</td>\n",
       "    </tr>\n",
       "    <tr>\n",
       "      <th>118</th>\n",
       "      <td>914548.438</td>\n",
       "      <td>1854424.500</td>\n",
       "      <td>959073.062</td>\n",
       "      <td>1457951.625</td>\n",
       "      <td>93304.797</td>\n",
       "      <td>457482.219</td>\n",
       "      <td>7300623.5</td>\n",
       "      <td>1291576.500</td>\n",
       "      <td>398318.875</td>\n",
       "      <td>527421.375</td>\n",
       "      <td>...</td>\n",
       "      <td>89240.133</td>\n",
       "      <td>30450.059</td>\n",
       "      <td>080515</td>\n",
       "      <td>090215</td>\n",
       "      <td>5</td>\n",
       "      <td>a</td>\n",
       "      <td>31</td>\n",
       "      <td>Female</td>\n",
       "      <td>MDD*SSRI</td>\n",
       "      <td>Suicide</td>\n",
       "    </tr>\n",
       "    <tr>\n",
       "      <th>118</th>\n",
       "      <td>907351.750</td>\n",
       "      <td>1838558.750</td>\n",
       "      <td>1072144.375</td>\n",
       "      <td>1534899.750</td>\n",
       "      <td>86471.102</td>\n",
       "      <td>514485.250</td>\n",
       "      <td>6757149.0</td>\n",
       "      <td>1213667.875</td>\n",
       "      <td>404712.719</td>\n",
       "      <td>444648.688</td>\n",
       "      <td>...</td>\n",
       "      <td>87685.891</td>\n",
       "      <td>37354.352</td>\n",
       "      <td>080515</td>\n",
       "      <td>091515</td>\n",
       "      <td>5</td>\n",
       "      <td>a</td>\n",
       "      <td>31</td>\n",
       "      <td>Female</td>\n",
       "      <td>MDD*SSRI</td>\n",
       "      <td>Suicide</td>\n",
       "    </tr>\n",
       "    <tr>\n",
       "      <th>178</th>\n",
       "      <td>642208.750</td>\n",
       "      <td>1573063.250</td>\n",
       "      <td>948511.250</td>\n",
       "      <td>1410201.750</td>\n",
       "      <td>33571.168</td>\n",
       "      <td>406018.250</td>\n",
       "      <td>5112435.0</td>\n",
       "      <td>976768.875</td>\n",
       "      <td>343902.938</td>\n",
       "      <td>480558.625</td>\n",
       "      <td>...</td>\n",
       "      <td>62084.770</td>\n",
       "      <td>37259.727</td>\n",
       "      <td>080515</td>\n",
       "      <td>082115</td>\n",
       "      <td>2</td>\n",
       "      <td>c</td>\n",
       "      <td>25</td>\n",
       "      <td>Male</td>\n",
       "      <td>C</td>\n",
       "      <td>Non-Suic</td>\n",
       "    </tr>\n",
       "  </tbody>\n",
       "</table>\n",
       "<p>5 rows × 1139 columns</p>\n",
       "</div>"
      ],
      "text/plain": [
       "     1433B_HUMAN  1433E_HUMAN  1433F_HUMAN  1433G_HUMAN  1433S_HUMAN  \\\n",
       "113   810919.625  1834369.625  1392117.625  1956605.875    70254.930   \n",
       "113   979915.312  1824592.875  1120456.625  2091506.750    89526.766   \n",
       "118   914548.438  1854424.500   959073.062  1457951.625    93304.797   \n",
       "118   907351.750  1838558.750  1072144.375  1534899.750    86471.102   \n",
       "178   642208.750  1573063.250   948511.250  1410201.750    33571.168   \n",
       "\n",
       "     1433T_HUMAN  1433Z_HUMAN   2AAA_HUMAN  2ABA_HUMAN  2ABD_HUMAN  ...  \\\n",
       "113   474045.375    6620744.0  1291516.250  461692.156  529325.312  ...   \n",
       "113   511258.094    7785243.5  1354807.375  520214.781  589599.125  ...   \n",
       "118   457482.219    7300623.5  1291576.500  398318.875  527421.375  ...   \n",
       "118   514485.250    6757149.0  1213667.875  404712.719  444648.688  ...   \n",
       "178   406018.250    5112435.0   976768.875  343902.938  480558.625  ...   \n",
       "\n",
       "     ZN346_HUMAN  ZNF76_HUMAN  dt_start  dt_end  dose  group  age     sex  \\\n",
       "113    58731.387    36183.840    080515  082115     2      c   66    Male   \n",
       "113    75773.492    39117.086    080515  083115     4      c   66    Male   \n",
       "118    89240.133    30450.059    080515  090215     5      a   31  Female   \n",
       "118    87685.891    37354.352    080515  091515     5      a   31  Female   \n",
       "178    62084.770    37259.727    080515  082115     2      c   25    Male   \n",
       "\n",
       "           gr   suicide  \n",
       "113         C  Non-Suic  \n",
       "113         C  Non-Suic  \n",
       "118  MDD*SSRI   Suicide  \n",
       "118  MDD*SSRI   Suicide  \n",
       "178         C  Non-Suic  \n",
       "\n",
       "[5 rows x 1139 columns]"
      ]
     },
     "execution_count": 28,
     "metadata": {},
     "output_type": "execute_result"
    }
   ],
   "source": [
    "out.head()"
   ]
  },
  {
   "cell_type": "code",
   "execution_count": 29,
   "metadata": {},
   "outputs": [],
   "source": [
    "data = out"
   ]
  },
  {
   "cell_type": "markdown",
   "metadata": {},
   "source": [
    "# Visualize gender impact on suicide"
   ]
  },
  {
   "cell_type": "markdown",
   "metadata": {},
   "source": [
    "We see that gender does not have an impact here. As in, the data has equal number of males and females in both categories."
   ]
  },
  {
   "cell_type": "code",
   "execution_count": 30,
   "metadata": {},
   "outputs": [
    {
     "data": {
      "image/png": "[encoded data removed]",
      "text/plain": [
       "<Figure size 432x288 with 1 Axes>"
      ]
     },
     "metadata": {
      "needs_background": "light"
     },
     "output_type": "display_data"
    }
   ],
   "source": [
    "ax = sns.countplot(x=\"suicide\", hue=\"sex\", data=data)"
   ]
  },
  {
   "cell_type": "markdown",
   "metadata": {},
   "source": [
    "$$P(suicide| Male)$$"
   ]
  },
  {
   "cell_type": "code",
   "execution_count": 41,
   "metadata": {},
   "outputs": [
    {
     "data": {
      "text/plain": [
       "0.5"
      ]
     },
     "execution_count": 41,
     "metadata": {},
     "output_type": "execute_result"
    }
   ],
   "source": [
    "data[(data[\"sex\"] == \"Male\") & (data[\"suicide\"] == \"Suicide\")].shape[0]/data[(data[\"sex\"] == \"Male\")].shape[0]"
   ]
  },
  {
   "cell_type": "markdown",
   "metadata": {},
   "source": [
    "$$P(suicide| Female)$$"
   ]
  },
  {
   "cell_type": "code",
   "execution_count": 42,
   "metadata": {},
   "outputs": [
    {
     "data": {
      "text/plain": [
       "0.5714285714285714"
      ]
     },
     "execution_count": 42,
     "metadata": {},
     "output_type": "execute_result"
    }
   ],
   "source": [
    "data[(data[\"sex\"] == \"Female\") & (data[\"suicide\"] == \"Suicide\")].shape[0]/data[(data[\"sex\"] == \"Female\")].shape[0]"
   ]
  },
  {
   "cell_type": "code",
   "execution_count": 113,
   "metadata": {},
   "outputs": [],
   "source": [
    "data = data.drop(['group','gr','dt_start','dt_end','dose'], axis=1)"
   ]
  },
  {
   "cell_type": "code",
   "execution_count": 114,
   "metadata": {},
   "outputs": [],
   "source": [
    "data = pd.get_dummies(data, columns=['sex'])"
   ]
  },
  {
   "cell_type": "code",
   "execution_count": 115,
   "metadata": {},
   "outputs": [],
   "source": [
    "data['suicide'] = data.suicide.replace(to_replace=['Non-Suic', 'Suicide'], value=[0, 1])\n",
    "data_y = data['suicide']\n",
    "data_x = data.drop('suicide', axis = 1)"
   ]
  },
  {
   "cell_type": "markdown",
   "metadata": {},
   "source": [
    "# Use random forest to identify important features"
   ]
  },
  {
   "cell_type": "markdown",
   "metadata": {},
   "source": [
    "Randomforest algorithm also says that there age and sex is not important."
   ]
  },
  {
   "cell_type": "code",
   "execution_count": 43,
   "metadata": {},
   "outputs": [],
   "source": [
    "data = pd.read_csv('final_df.csv')"
   ]
  },
  {
   "cell_type": "code",
   "execution_count": 44,
   "metadata": {},
   "outputs": [],
   "source": [
    "data = data.iloc[::2, :]"
   ]
  },
  {
   "cell_type": "code",
   "execution_count": 22,
   "metadata": {},
   "outputs": [
    {
     "data": {
      "text/html": [
       "<div>\n",
       "<style scoped>\n",
       "    .dataframe tbody tr th:only-of-type {\n",
       "        vertical-align: middle;\n",
       "    }\n",
       "\n",
       "    .dataframe tbody tr th {\n",
       "        vertical-align: top;\n",
       "    }\n",
       "\n",
       "    .dataframe thead th {\n",
       "        text-align: right;\n",
       "    }\n",
       "</style>\n",
       "<table border=\"1\" class=\"dataframe\">\n",
       "  <thead>\n",
       "    <tr style=\"text-align: right;\">\n",
       "      <th></th>\n",
       "      <th>Patient</th>\n",
       "      <th>1433B_HUMAN</th>\n",
       "      <th>1433E_HUMAN</th>\n",
       "      <th>1433F_HUMAN</th>\n",
       "      <th>1433G_HUMAN</th>\n",
       "      <th>1433S_HUMAN</th>\n",
       "      <th>1433T_HUMAN</th>\n",
       "      <th>1433Z_HUMAN</th>\n",
       "      <th>2AAA_HUMAN</th>\n",
       "      <th>2ABA_HUMAN</th>\n",
       "      <th>...</th>\n",
       "      <th>YD018_HUMAN</th>\n",
       "      <th>YKT6_HUMAN</th>\n",
       "      <th>ZBT26_HUMAN</th>\n",
       "      <th>ZN346_HUMAN</th>\n",
       "      <th>ZNF76_HUMAN</th>\n",
       "      <th>dose</th>\n",
       "      <th>age</th>\n",
       "      <th>sex</th>\n",
       "      <th>gr</th>\n",
       "      <th>suicide</th>\n",
       "    </tr>\n",
       "  </thead>\n",
       "  <tbody>\n",
       "    <tr>\n",
       "      <td>0</td>\n",
       "      <td>766</td>\n",
       "      <td>13.787726</td>\n",
       "      <td>14.778525</td>\n",
       "      <td>14.071394</td>\n",
       "      <td>14.665839</td>\n",
       "      <td>11.264794</td>\n",
       "      <td>13.055630</td>\n",
       "      <td>16.054861</td>\n",
       "      <td>14.048699</td>\n",
       "      <td>12.969326</td>\n",
       "      <td>...</td>\n",
       "      <td>11.149859</td>\n",
       "      <td>12.324365</td>\n",
       "      <td>13.450442</td>\n",
       "      <td>11.115703</td>\n",
       "      <td>10.703296</td>\n",
       "      <td>2</td>\n",
       "      <td>56</td>\n",
       "      <td>Female</td>\n",
       "      <td>C</td>\n",
       "      <td>Non-Suic</td>\n",
       "    </tr>\n",
       "    <tr>\n",
       "      <td>2</td>\n",
       "      <td>811</td>\n",
       "      <td>13.809070</td>\n",
       "      <td>14.662353</td>\n",
       "      <td>14.213875</td>\n",
       "      <td>14.537931</td>\n",
       "      <td>10.617070</td>\n",
       "      <td>13.053167</td>\n",
       "      <td>15.990168</td>\n",
       "      <td>14.066942</td>\n",
       "      <td>12.777811</td>\n",
       "      <td>...</td>\n",
       "      <td>10.749525</td>\n",
       "      <td>12.186666</td>\n",
       "      <td>13.439400</td>\n",
       "      <td>11.009725</td>\n",
       "      <td>10.938700</td>\n",
       "      <td>2</td>\n",
       "      <td>72</td>\n",
       "      <td>Female</td>\n",
       "      <td>C</td>\n",
       "      <td>Non-Suic</td>\n",
       "    </tr>\n",
       "    <tr>\n",
       "      <td>4</td>\n",
       "      <td>892</td>\n",
       "      <td>13.372266</td>\n",
       "      <td>14.296781</td>\n",
       "      <td>14.082546</td>\n",
       "      <td>14.174213</td>\n",
       "      <td>10.010893</td>\n",
       "      <td>12.701251</td>\n",
       "      <td>15.542761</td>\n",
       "      <td>13.725006</td>\n",
       "      <td>12.778088</td>\n",
       "      <td>...</td>\n",
       "      <td>10.681553</td>\n",
       "      <td>12.174987</td>\n",
       "      <td>13.133127</td>\n",
       "      <td>10.675698</td>\n",
       "      <td>10.809151</td>\n",
       "      <td>2</td>\n",
       "      <td>50</td>\n",
       "      <td>Female</td>\n",
       "      <td>C</td>\n",
       "      <td>Non-Suic</td>\n",
       "    </tr>\n",
       "    <tr>\n",
       "      <td>6</td>\n",
       "      <td>1043</td>\n",
       "      <td>13.237846</td>\n",
       "      <td>14.105996</td>\n",
       "      <td>13.991277</td>\n",
       "      <td>14.065168</td>\n",
       "      <td>10.184080</td>\n",
       "      <td>12.746720</td>\n",
       "      <td>15.384763</td>\n",
       "      <td>13.772875</td>\n",
       "      <td>12.887360</td>\n",
       "      <td>...</td>\n",
       "      <td>10.428561</td>\n",
       "      <td>12.150732</td>\n",
       "      <td>12.899984</td>\n",
       "      <td>10.837388</td>\n",
       "      <td>10.484424</td>\n",
       "      <td>2</td>\n",
       "      <td>14</td>\n",
       "      <td>Female</td>\n",
       "      <td>C</td>\n",
       "      <td>Non-Suic</td>\n",
       "    </tr>\n",
       "    <tr>\n",
       "      <td>8</td>\n",
       "      <td>574</td>\n",
       "      <td>13.483786</td>\n",
       "      <td>14.218876</td>\n",
       "      <td>13.996217</td>\n",
       "      <td>14.239543</td>\n",
       "      <td>11.274700</td>\n",
       "      <td>12.728803</td>\n",
       "      <td>15.579854</td>\n",
       "      <td>13.970519</td>\n",
       "      <td>12.912875</td>\n",
       "      <td>...</td>\n",
       "      <td>10.761113</td>\n",
       "      <td>12.253854</td>\n",
       "      <td>12.482489</td>\n",
       "      <td>10.749516</td>\n",
       "      <td>10.538290</td>\n",
       "      <td>2</td>\n",
       "      <td>41</td>\n",
       "      <td>Female</td>\n",
       "      <td>MDD</td>\n",
       "      <td>Suicide</td>\n",
       "    </tr>\n",
       "  </tbody>\n",
       "</table>\n",
       "<p>5 rows × 1137 columns</p>\n",
       "</div>"
      ],
      "text/plain": [
       "   Patient  1433B_HUMAN  1433E_HUMAN  1433F_HUMAN  1433G_HUMAN  1433S_HUMAN  \\\n",
       "0      766    13.787726    14.778525    14.071394    14.665839    11.264794   \n",
       "2      811    13.809070    14.662353    14.213875    14.537931    10.617070   \n",
       "4      892    13.372266    14.296781    14.082546    14.174213    10.010893   \n",
       "6     1043    13.237846    14.105996    13.991277    14.065168    10.184080   \n",
       "8      574    13.483786    14.218876    13.996217    14.239543    11.274700   \n",
       "\n",
       "   1433T_HUMAN  1433Z_HUMAN  2AAA_HUMAN  2ABA_HUMAN  ...  YD018_HUMAN  \\\n",
       "0    13.055630    16.054861   14.048699   12.969326  ...    11.149859   \n",
       "2    13.053167    15.990168   14.066942   12.777811  ...    10.749525   \n",
       "4    12.701251    15.542761   13.725006   12.778088  ...    10.681553   \n",
       "6    12.746720    15.384763   13.772875   12.887360  ...    10.428561   \n",
       "8    12.728803    15.579854   13.970519   12.912875  ...    10.761113   \n",
       "\n",
       "   YKT6_HUMAN  ZBT26_HUMAN  ZN346_HUMAN  ZNF76_HUMAN  dose  age     sex   gr  \\\n",
       "0   12.324365    13.450442    11.115703    10.703296     2   56  Female    C   \n",
       "2   12.186666    13.439400    11.009725    10.938700     2   72  Female    C   \n",
       "4   12.174987    13.133127    10.675698    10.809151     2   50  Female    C   \n",
       "6   12.150732    12.899984    10.837388    10.484424     2   14  Female    C   \n",
       "8   12.253854    12.482489    10.749516    10.538290     2   41  Female  MDD   \n",
       "\n",
       "    suicide  \n",
       "0  Non-Suic  \n",
       "2  Non-Suic  \n",
       "4  Non-Suic  \n",
       "6  Non-Suic  \n",
       "8   Suicide  \n",
       "\n",
       "[5 rows x 1137 columns]"
      ]
     },
     "execution_count": 22,
     "metadata": {},
     "output_type": "execute_result"
    }
   ],
   "source": [
    "data.head()"
   ]
  },
  {
   "cell_type": "code",
   "execution_count": 45,
   "metadata": {},
   "outputs": [],
   "source": [
    "data = data.drop(['dose','gr'],axis=1)\n",
    "data = pd.get_dummies(data, columns=['sex'])\n",
    "data['suicide'] = data.suicide.replace(to_replace=['Non-Suic', 'Suicide'], value=[0, 1])\n",
    "data_y = data['suicide']\n",
    "data_x = data.drop('suicide', axis = 1)"
   ]
  },
  {
   "cell_type": "code",
   "execution_count": 24,
   "metadata": {},
   "outputs": [],
   "source": [
    "import warnings\n",
    "from sklearn.ensemble import RandomForestClassifier\n",
    "\n",
    "with warnings.catch_warnings():\n",
    "    warnings.simplefilter(\"ignore\")\n",
    "    forest = RandomForestClassifier(n_estimators=50,class_weight=\"balanced\")\n",
    "    forest.fit(data_x,data_y)"
   ]
  },
  {
   "cell_type": "code",
   "execution_count": 25,
   "metadata": {},
   "outputs": [],
   "source": [
    "importances = forest.feature_importances_"
   ]
  },
  {
   "cell_type": "code",
   "execution_count": 26,
   "metadata": {},
   "outputs": [],
   "source": [
    "indices = np.argsort(importances)[::-1]\n",
    "\n",
    "df_list = []\n",
    "\n",
    "for f in range(data_x.shape[1]):\n",
    "    df_list.append([list(data_x.columns)[indices[f]], importances[indices[f]]])\n",
    "    \n",
    "feature_rank = pd.DataFrame(df_list)\n",
    "feature_rank = feature_rank.rename(columns={0:'feature',1:'importance'})"
   ]
  },
  {
   "cell_type": "code",
   "execution_count": 27,
   "metadata": {},
   "outputs": [
    {
     "data": {
      "text/html": [
       "<div>\n",
       "<style scoped>\n",
       "    .dataframe tbody tr th:only-of-type {\n",
       "        vertical-align: middle;\n",
       "    }\n",
       "\n",
       "    .dataframe tbody tr th {\n",
       "        vertical-align: top;\n",
       "    }\n",
       "\n",
       "    .dataframe thead th {\n",
       "        text-align: right;\n",
       "    }\n",
       "</style>\n",
       "<table border=\"1\" class=\"dataframe\">\n",
       "  <thead>\n",
       "    <tr style=\"text-align: right;\">\n",
       "      <th></th>\n",
       "      <th>feature</th>\n",
       "      <th>importance</th>\n",
       "    </tr>\n",
       "  </thead>\n",
       "  <tbody>\n",
       "    <tr>\n",
       "      <td>349</td>\n",
       "      <td>sex_Male</td>\n",
       "      <td>0.0</td>\n",
       "    </tr>\n",
       "  </tbody>\n",
       "</table>\n",
       "</div>"
      ],
      "text/plain": [
       "      feature  importance\n",
       "349  sex_Male         0.0"
      ]
     },
     "execution_count": 27,
     "metadata": {},
     "output_type": "execute_result"
    }
   ],
   "source": [
    "feature_rank[feature_rank['feature']=='sex_Male']"
   ]
  },
  {
   "cell_type": "code",
   "execution_count": 28,
   "metadata": {},
   "outputs": [
    {
     "data": {
      "text/html": [
       "<div>\n",
       "<style scoped>\n",
       "    .dataframe tbody tr th:only-of-type {\n",
       "        vertical-align: middle;\n",
       "    }\n",
       "\n",
       "    .dataframe tbody tr th {\n",
       "        vertical-align: top;\n",
       "    }\n",
       "\n",
       "    .dataframe thead th {\n",
       "        text-align: right;\n",
       "    }\n",
       "</style>\n",
       "<table border=\"1\" class=\"dataframe\">\n",
       "  <thead>\n",
       "    <tr style=\"text-align: right;\">\n",
       "      <th></th>\n",
       "      <th>feature</th>\n",
       "      <th>importance</th>\n",
       "    </tr>\n",
       "  </thead>\n",
       "  <tbody>\n",
       "    <tr>\n",
       "      <td>778</td>\n",
       "      <td>age</td>\n",
       "      <td>0.0</td>\n",
       "    </tr>\n",
       "  </tbody>\n",
       "</table>\n",
       "</div>"
      ],
      "text/plain": [
       "    feature  importance\n",
       "778     age         0.0"
      ]
     },
     "execution_count": 28,
     "metadata": {},
     "output_type": "execute_result"
    }
   ],
   "source": [
    "feature_rank[feature_rank['feature']=='age']"
   ]
  },
  {
   "cell_type": "code",
   "execution_count": 29,
   "metadata": {},
   "outputs": [
    {
     "data": {
      "text/plain": [
       "<matplotlib.axes._subplots.AxesSubplot at 0x1a17424fdc8>"
      ]
     },
     "execution_count": 29,
     "metadata": {},
     "output_type": "execute_result"
    },
    {
     "data": {
      "image/png": "[encoded data removed]",
      "text/plain": [
       "<Figure size 432x288 with 1 Axes>"
      ]
     },
     "metadata": {
      "needs_background": "light"
     },
     "output_type": "display_data"
    }
   ],
   "source": [
    "feature_rank[feature_rank['importance']>0].plot.bar(x='feature', y='importance', rot=90)"
   ]
  },
  {
   "cell_type": "code",
   "execution_count": 31,
   "metadata": {},
   "outputs": [
    {
     "data": {
      "text/html": [
       "<div>\n",
       "<style scoped>\n",
       "    .dataframe tbody tr th:only-of-type {\n",
       "        vertical-align: middle;\n",
       "    }\n",
       "\n",
       "    .dataframe tbody tr th {\n",
       "        vertical-align: top;\n",
       "    }\n",
       "\n",
       "    .dataframe thead th {\n",
       "        text-align: right;\n",
       "    }\n",
       "</style>\n",
       "<table border=\"1\" class=\"dataframe\">\n",
       "  <thead>\n",
       "    <tr style=\"text-align: right;\">\n",
       "      <th></th>\n",
       "      <th>feature</th>\n",
       "      <th>importance</th>\n",
       "    </tr>\n",
       "  </thead>\n",
       "  <tbody>\n",
       "    <tr>\n",
       "      <td>0</td>\n",
       "      <td>DIRA2_HUMAN</td>\n",
       "      <td>0.033235</td>\n",
       "    </tr>\n",
       "    <tr>\n",
       "      <td>1</td>\n",
       "      <td>SBDS_HUMAN</td>\n",
       "      <td>0.031687</td>\n",
       "    </tr>\n",
       "    <tr>\n",
       "      <td>2</td>\n",
       "      <td>CDK18_HUMAN</td>\n",
       "      <td>0.029474</td>\n",
       "    </tr>\n",
       "    <tr>\n",
       "      <td>3</td>\n",
       "      <td>GBF1_HUMAN</td>\n",
       "      <td>0.024599</td>\n",
       "    </tr>\n",
       "    <tr>\n",
       "      <td>4</td>\n",
       "      <td>FA49B_HUMAN</td>\n",
       "      <td>0.024037</td>\n",
       "    </tr>\n",
       "    <tr>\n",
       "      <td>...</td>\n",
       "      <td>...</td>\n",
       "      <td>...</td>\n",
       "    </tr>\n",
       "    <tr>\n",
       "      <td>161</td>\n",
       "      <td>NDUS2_HUMAN</td>\n",
       "      <td>0.001109</td>\n",
       "    </tr>\n",
       "    <tr>\n",
       "      <td>162</td>\n",
       "      <td>RAB43_HUMAN</td>\n",
       "      <td>0.000900</td>\n",
       "    </tr>\n",
       "    <tr>\n",
       "      <td>163</td>\n",
       "      <td>FABPH_HUMAN</td>\n",
       "      <td>0.000899</td>\n",
       "    </tr>\n",
       "    <tr>\n",
       "      <td>164</td>\n",
       "      <td>ELAV4_HUMAN</td>\n",
       "      <td>0.000889</td>\n",
       "    </tr>\n",
       "    <tr>\n",
       "      <td>165</td>\n",
       "      <td>ARL3_HUMAN</td>\n",
       "      <td>0.000357</td>\n",
       "    </tr>\n",
       "  </tbody>\n",
       "</table>\n",
       "<p>166 rows × 2 columns</p>\n",
       "</div>"
      ],
      "text/plain": [
       "         feature  importance\n",
       "0    DIRA2_HUMAN    0.033235\n",
       "1     SBDS_HUMAN    0.031687\n",
       "2    CDK18_HUMAN    0.029474\n",
       "3     GBF1_HUMAN    0.024599\n",
       "4    FA49B_HUMAN    0.024037\n",
       "..           ...         ...\n",
       "161  NDUS2_HUMAN    0.001109\n",
       "162  RAB43_HUMAN    0.000900\n",
       "163  FABPH_HUMAN    0.000899\n",
       "164  ELAV4_HUMAN    0.000889\n",
       "165   ARL3_HUMAN    0.000357\n",
       "\n",
       "[166 rows x 2 columns]"
      ]
     },
     "execution_count": 31,
     "metadata": {},
     "output_type": "execute_result"
    }
   ],
   "source": [
    "feature_rank[feature_rank['importance']>0]"
   ]
  },
  {
   "cell_type": "markdown",
   "metadata": {},
   "source": [
    "There are totally around 166 features that have non zero importance."
   ]
  },
  {
   "cell_type": "markdown",
   "metadata": {},
   "source": [
    "# Visualize the distribution of the most important feature identified by Random Forest"
   ]
  },
  {
   "cell_type": "code",
   "execution_count": 32,
   "metadata": {},
   "outputs": [
    {
     "name": "stdout",
     "output_type": "stream",
     "text": [
      "DIRA2_HUMAN\n"
     ]
    },
    {
     "data": {
      "text/plain": [
       "<matplotlib.axes._subplots.AxesSubplot at 0x1a1748ac588>"
      ]
     },
     "execution_count": 32,
     "metadata": {},
     "output_type": "execute_result"
    },
    {
     "data": {
      "image/png": "[encoded data removed]",
      "text/plain": [
       "<Figure size 432x288 with 1 Axes>"
      ]
     },
     "metadata": {
      "needs_background": "light"
     },
     "output_type": "display_data"
    }
   ],
   "source": [
    "feature1 = feature_rank.iloc[0]['feature']\n",
    "print(feature1)\n",
    "sns.kdeplot(data[(data['suicide']==0)][feature1],label='non-suicide')\n",
    "sns.kdeplot(data[(data['suicide']==1)][feature1],label='suicide')"
   ]
  },
  {
   "cell_type": "markdown",
   "metadata": {},
   "source": [
    "# Run t-test to see which features are statistically significant between two groups"
   ]
  },
  {
   "cell_type": "code",
   "execution_count": 33,
   "metadata": {},
   "outputs": [
    {
     "data": {
      "text/html": [
       "<div>\n",
       "<style scoped>\n",
       "    .dataframe tbody tr th:only-of-type {\n",
       "        vertical-align: middle;\n",
       "    }\n",
       "\n",
       "    .dataframe tbody tr th {\n",
       "        vertical-align: top;\n",
       "    }\n",
       "\n",
       "    .dataframe thead th {\n",
       "        text-align: right;\n",
       "    }\n",
       "</style>\n",
       "<table border=\"1\" class=\"dataframe\">\n",
       "  <thead>\n",
       "    <tr style=\"text-align: right;\">\n",
       "      <th></th>\n",
       "      <th>feature</th>\n",
       "      <th>pvalues</th>\n",
       "    </tr>\n",
       "  </thead>\n",
       "  <tbody>\n",
       "    <tr>\n",
       "      <td>0</td>\n",
       "      <td>DIRA2_HUMAN</td>\n",
       "      <td>0.061131</td>\n",
       "    </tr>\n",
       "    <tr>\n",
       "      <td>1</td>\n",
       "      <td>SBDS_HUMAN</td>\n",
       "      <td>0.020540</td>\n",
       "    </tr>\n",
       "    <tr>\n",
       "      <td>2</td>\n",
       "      <td>CDK18_HUMAN</td>\n",
       "      <td>0.018611</td>\n",
       "    </tr>\n",
       "    <tr>\n",
       "      <td>3</td>\n",
       "      <td>GBF1_HUMAN</td>\n",
       "      <td>0.002069</td>\n",
       "    </tr>\n",
       "    <tr>\n",
       "      <td>4</td>\n",
       "      <td>FA49B_HUMAN</td>\n",
       "      <td>0.001225</td>\n",
       "    </tr>\n",
       "    <tr>\n",
       "      <td>...</td>\n",
       "      <td>...</td>\n",
       "      <td>...</td>\n",
       "    </tr>\n",
       "    <tr>\n",
       "      <td>161</td>\n",
       "      <td>NDUS2_HUMAN</td>\n",
       "      <td>0.378460</td>\n",
       "    </tr>\n",
       "    <tr>\n",
       "      <td>162</td>\n",
       "      <td>RAB43_HUMAN</td>\n",
       "      <td>0.789638</td>\n",
       "    </tr>\n",
       "    <tr>\n",
       "      <td>163</td>\n",
       "      <td>FABPH_HUMAN</td>\n",
       "      <td>0.200923</td>\n",
       "    </tr>\n",
       "    <tr>\n",
       "      <td>164</td>\n",
       "      <td>ELAV4_HUMAN</td>\n",
       "      <td>0.373014</td>\n",
       "    </tr>\n",
       "    <tr>\n",
       "      <td>165</td>\n",
       "      <td>ARL3_HUMAN</td>\n",
       "      <td>0.209870</td>\n",
       "    </tr>\n",
       "  </tbody>\n",
       "</table>\n",
       "<p>166 rows × 2 columns</p>\n",
       "</div>"
      ],
      "text/plain": [
       "         feature   pvalues\n",
       "0    DIRA2_HUMAN  0.061131\n",
       "1     SBDS_HUMAN  0.020540\n",
       "2    CDK18_HUMAN  0.018611\n",
       "3     GBF1_HUMAN  0.002069\n",
       "4    FA49B_HUMAN  0.001225\n",
       "..           ...       ...\n",
       "161  NDUS2_HUMAN  0.378460\n",
       "162  RAB43_HUMAN  0.789638\n",
       "163  FABPH_HUMAN  0.200923\n",
       "164  ELAV4_HUMAN  0.373014\n",
       "165   ARL3_HUMAN  0.209870\n",
       "\n",
       "[166 rows x 2 columns]"
      ]
     },
     "execution_count": 33,
     "metadata": {},
     "output_type": "execute_result"
    }
   ],
   "source": [
    "from scipy import stats\n",
    "\n",
    "pvalues = []\n",
    "for index,row in feature_rank[feature_rank['importance']>0].iterrows():\n",
    "    feature = row['feature']\n",
    "    if feature != 'dt_end':\n",
    "        p = stats.ttest_ind(data[data['suicide']==0][feature],data[data['suicide']==1][feature])[1]\n",
    "        \n",
    "        pvalues.append([feature,p])\n",
    "\n",
    "pvalues = pd.DataFrame(pvalues)\n",
    "pvalues = pvalues.rename(columns={0:'feature',1:'pvalues'})\n",
    "pvalues"
   ]
  },
  {
   "cell_type": "code",
   "execution_count": 34,
   "metadata": {
    "scrolled": true
   },
   "outputs": [
    {
     "data": {
      "text/html": [
       "<div>\n",
       "<style scoped>\n",
       "    .dataframe tbody tr th:only-of-type {\n",
       "        vertical-align: middle;\n",
       "    }\n",
       "\n",
       "    .dataframe tbody tr th {\n",
       "        vertical-align: top;\n",
       "    }\n",
       "\n",
       "    .dataframe thead th {\n",
       "        text-align: right;\n",
       "    }\n",
       "</style>\n",
       "<table border=\"1\" class=\"dataframe\">\n",
       "  <thead>\n",
       "    <tr style=\"text-align: right;\">\n",
       "      <th></th>\n",
       "      <th>feature</th>\n",
       "      <th>pvalues</th>\n",
       "    </tr>\n",
       "  </thead>\n",
       "  <tbody>\n",
       "    <tr>\n",
       "      <td>1</td>\n",
       "      <td>SBDS_HUMAN</td>\n",
       "      <td>0.020540</td>\n",
       "    </tr>\n",
       "    <tr>\n",
       "      <td>2</td>\n",
       "      <td>CDK18_HUMAN</td>\n",
       "      <td>0.018611</td>\n",
       "    </tr>\n",
       "    <tr>\n",
       "      <td>3</td>\n",
       "      <td>GBF1_HUMAN</td>\n",
       "      <td>0.002069</td>\n",
       "    </tr>\n",
       "    <tr>\n",
       "      <td>4</td>\n",
       "      <td>FA49B_HUMAN</td>\n",
       "      <td>0.001225</td>\n",
       "    </tr>\n",
       "    <tr>\n",
       "      <td>5</td>\n",
       "      <td>DIRA1_HUMAN</td>\n",
       "      <td>0.000596</td>\n",
       "    </tr>\n",
       "    <tr>\n",
       "      <td>6</td>\n",
       "      <td>KAD3_HUMAN</td>\n",
       "      <td>0.015378</td>\n",
       "    </tr>\n",
       "    <tr>\n",
       "      <td>9</td>\n",
       "      <td>PHLB3_HUMAN</td>\n",
       "      <td>0.010999</td>\n",
       "    </tr>\n",
       "    <tr>\n",
       "      <td>12</td>\n",
       "      <td>SYFA_HUMAN</td>\n",
       "      <td>0.001335</td>\n",
       "    </tr>\n",
       "    <tr>\n",
       "      <td>13</td>\n",
       "      <td>RB6I2_HUMAN</td>\n",
       "      <td>0.000269</td>\n",
       "    </tr>\n",
       "    <tr>\n",
       "      <td>14</td>\n",
       "      <td>PP2BB_HUMAN</td>\n",
       "      <td>0.002407</td>\n",
       "    </tr>\n",
       "    <tr>\n",
       "      <td>15</td>\n",
       "      <td>RALA_HUMAN</td>\n",
       "      <td>0.011831</td>\n",
       "    </tr>\n",
       "    <tr>\n",
       "      <td>16</td>\n",
       "      <td>RTN1_HUMAN</td>\n",
       "      <td>0.008768</td>\n",
       "    </tr>\n",
       "    <tr>\n",
       "      <td>17</td>\n",
       "      <td>TBA4B_HUMAN</td>\n",
       "      <td>0.024805</td>\n",
       "    </tr>\n",
       "    <tr>\n",
       "      <td>19</td>\n",
       "      <td>GPM6A_HUMAN</td>\n",
       "      <td>0.004164</td>\n",
       "    </tr>\n",
       "    <tr>\n",
       "      <td>23</td>\n",
       "      <td>PSA7_HUMAN</td>\n",
       "      <td>0.017075</td>\n",
       "    </tr>\n",
       "    <tr>\n",
       "      <td>24</td>\n",
       "      <td>CB042_HUMAN</td>\n",
       "      <td>0.000948</td>\n",
       "    </tr>\n",
       "    <tr>\n",
       "      <td>25</td>\n",
       "      <td>MBOA7_HUMAN</td>\n",
       "      <td>0.048482</td>\n",
       "    </tr>\n",
       "    <tr>\n",
       "      <td>26</td>\n",
       "      <td>ACTG_HUMAN</td>\n",
       "      <td>0.023543</td>\n",
       "    </tr>\n",
       "    <tr>\n",
       "      <td>28</td>\n",
       "      <td>ACTS_HUMAN</td>\n",
       "      <td>0.046838</td>\n",
       "    </tr>\n",
       "    <tr>\n",
       "      <td>29</td>\n",
       "      <td>PSB2_HUMAN</td>\n",
       "      <td>0.010277</td>\n",
       "    </tr>\n",
       "    <tr>\n",
       "      <td>31</td>\n",
       "      <td>CBWD3_HUMAN</td>\n",
       "      <td>0.019544</td>\n",
       "    </tr>\n",
       "    <tr>\n",
       "      <td>33</td>\n",
       "      <td>MAL2_HUMAN</td>\n",
       "      <td>0.006808</td>\n",
       "    </tr>\n",
       "    <tr>\n",
       "      <td>35</td>\n",
       "      <td>RAB18_HUMAN</td>\n",
       "      <td>0.000162</td>\n",
       "    </tr>\n",
       "    <tr>\n",
       "      <td>39</td>\n",
       "      <td>RAB8B_HUMAN</td>\n",
       "      <td>0.038275</td>\n",
       "    </tr>\n",
       "    <tr>\n",
       "      <td>44</td>\n",
       "      <td>KPCA_HUMAN</td>\n",
       "      <td>0.035165</td>\n",
       "    </tr>\n",
       "    <tr>\n",
       "      <td>45</td>\n",
       "      <td>RASK_HUMAN</td>\n",
       "      <td>0.008985</td>\n",
       "    </tr>\n",
       "    <tr>\n",
       "      <td>46</td>\n",
       "      <td>HS105_HUMAN</td>\n",
       "      <td>0.025894</td>\n",
       "    </tr>\n",
       "    <tr>\n",
       "      <td>55</td>\n",
       "      <td>CC74A_HUMAN</td>\n",
       "      <td>0.007631</td>\n",
       "    </tr>\n",
       "    <tr>\n",
       "      <td>57</td>\n",
       "      <td>GNAI2_HUMAN</td>\n",
       "      <td>0.006228</td>\n",
       "    </tr>\n",
       "    <tr>\n",
       "      <td>60</td>\n",
       "      <td>C1QR1_HUMAN</td>\n",
       "      <td>0.021379</td>\n",
       "    </tr>\n",
       "    <tr>\n",
       "      <td>61</td>\n",
       "      <td>CPNE1_HUMAN</td>\n",
       "      <td>0.025544</td>\n",
       "    </tr>\n",
       "    <tr>\n",
       "      <td>63</td>\n",
       "      <td>DFFA_HUMAN</td>\n",
       "      <td>0.041739</td>\n",
       "    </tr>\n",
       "    <tr>\n",
       "      <td>66</td>\n",
       "      <td>FGF9_HUMAN</td>\n",
       "      <td>0.002699</td>\n",
       "    </tr>\n",
       "    <tr>\n",
       "      <td>77</td>\n",
       "      <td>CTNA2_HUMAN</td>\n",
       "      <td>0.001935</td>\n",
       "    </tr>\n",
       "    <tr>\n",
       "      <td>79</td>\n",
       "      <td>MRT4_HUMAN</td>\n",
       "      <td>0.004311</td>\n",
       "    </tr>\n",
       "    <tr>\n",
       "      <td>89</td>\n",
       "      <td>RAB3C_HUMAN</td>\n",
       "      <td>0.001473</td>\n",
       "    </tr>\n",
       "    <tr>\n",
       "      <td>104</td>\n",
       "      <td>ATD3A_HUMAN</td>\n",
       "      <td>0.000008</td>\n",
       "    </tr>\n",
       "    <tr>\n",
       "      <td>110</td>\n",
       "      <td>PGK2_HUMAN</td>\n",
       "      <td>0.003920</td>\n",
       "    </tr>\n",
       "    <tr>\n",
       "      <td>112</td>\n",
       "      <td>PAXX_HUMAN</td>\n",
       "      <td>0.048833</td>\n",
       "    </tr>\n",
       "    <tr>\n",
       "      <td>127</td>\n",
       "      <td>GNAL_HUMAN</td>\n",
       "      <td>0.021244</td>\n",
       "    </tr>\n",
       "    <tr>\n",
       "      <td>128</td>\n",
       "      <td>KAP3_HUMAN</td>\n",
       "      <td>0.009044</td>\n",
       "    </tr>\n",
       "    <tr>\n",
       "      <td>140</td>\n",
       "      <td>OXR1_HUMAN</td>\n",
       "      <td>0.012163</td>\n",
       "    </tr>\n",
       "    <tr>\n",
       "      <td>145</td>\n",
       "      <td>HS905_HUMAN</td>\n",
       "      <td>0.006590</td>\n",
       "    </tr>\n",
       "    <tr>\n",
       "      <td>156</td>\n",
       "      <td>CN166_HUMAN</td>\n",
       "      <td>0.001017</td>\n",
       "    </tr>\n",
       "  </tbody>\n",
       "</table>\n",
       "</div>"
      ],
      "text/plain": [
       "         feature   pvalues\n",
       "1     SBDS_HUMAN  0.020540\n",
       "2    CDK18_HUMAN  0.018611\n",
       "3     GBF1_HUMAN  0.002069\n",
       "4    FA49B_HUMAN  0.001225\n",
       "5    DIRA1_HUMAN  0.000596\n",
       "6     KAD3_HUMAN  0.015378\n",
       "9    PHLB3_HUMAN  0.010999\n",
       "12    SYFA_HUMAN  0.001335\n",
       "13   RB6I2_HUMAN  0.000269\n",
       "14   PP2BB_HUMAN  0.002407\n",
       "15    RALA_HUMAN  0.011831\n",
       "16    RTN1_HUMAN  0.008768\n",
       "17   TBA4B_HUMAN  0.024805\n",
       "19   GPM6A_HUMAN  0.004164\n",
       "23    PSA7_HUMAN  0.017075\n",
       "24   CB042_HUMAN  0.000948\n",
       "25   MBOA7_HUMAN  0.048482\n",
       "26    ACTG_HUMAN  0.023543\n",
       "28    ACTS_HUMAN  0.046838\n",
       "29    PSB2_HUMAN  0.010277\n",
       "31   CBWD3_HUMAN  0.019544\n",
       "33    MAL2_HUMAN  0.006808\n",
       "35   RAB18_HUMAN  0.000162\n",
       "39   RAB8B_HUMAN  0.038275\n",
       "44    KPCA_HUMAN  0.035165\n",
       "45    RASK_HUMAN  0.008985\n",
       "46   HS105_HUMAN  0.025894\n",
       "55   CC74A_HUMAN  0.007631\n",
       "57   GNAI2_HUMAN  0.006228\n",
       "60   C1QR1_HUMAN  0.021379\n",
       "61   CPNE1_HUMAN  0.025544\n",
       "63    DFFA_HUMAN  0.041739\n",
       "66    FGF9_HUMAN  0.002699\n",
       "77   CTNA2_HUMAN  0.001935\n",
       "79    MRT4_HUMAN  0.004311\n",
       "89   RAB3C_HUMAN  0.001473\n",
       "104  ATD3A_HUMAN  0.000008\n",
       "110   PGK2_HUMAN  0.003920\n",
       "112   PAXX_HUMAN  0.048833\n",
       "127   GNAL_HUMAN  0.021244\n",
       "128   KAP3_HUMAN  0.009044\n",
       "140   OXR1_HUMAN  0.012163\n",
       "145  HS905_HUMAN  0.006590\n",
       "156  CN166_HUMAN  0.001017"
      ]
     },
     "execution_count": 34,
     "metadata": {},
     "output_type": "execute_result"
    }
   ],
   "source": [
    "pvalues[pvalues['pvalues']<0.05]"
   ]
  },
  {
   "cell_type": "markdown",
   "metadata": {},
   "source": [
    "At a 0.05 significance level, there are 156 features that are statistically significant between the two groups."
   ]
  },
  {
   "cell_type": "markdown",
   "metadata": {},
   "source": [
    "# Conduct non-parametric wilcoxon test"
   ]
  },
  {
   "cell_type": "code",
   "execution_count": 43,
   "metadata": {},
   "outputs": [
    {
     "data": {
      "text/html": [
       "<div>\n",
       "<style scoped>\n",
       "    .dataframe tbody tr th:only-of-type {\n",
       "        vertical-align: middle;\n",
       "    }\n",
       "\n",
       "    .dataframe tbody tr th {\n",
       "        vertical-align: top;\n",
       "    }\n",
       "\n",
       "    .dataframe thead th {\n",
       "        text-align: right;\n",
       "    }\n",
       "</style>\n",
       "<table border=\"1\" class=\"dataframe\">\n",
       "  <thead>\n",
       "    <tr style=\"text-align: right;\">\n",
       "      <th></th>\n",
       "      <th>feature</th>\n",
       "      <th>pvalues</th>\n",
       "    </tr>\n",
       "  </thead>\n",
       "  <tbody>\n",
       "    <tr>\n",
       "      <td>0</td>\n",
       "      <td>PRS8_HUMAN</td>\n",
       "      <td>0.000781</td>\n",
       "    </tr>\n",
       "    <tr>\n",
       "      <td>1</td>\n",
       "      <td>NECP1_HUMAN</td>\n",
       "      <td>0.011678</td>\n",
       "    </tr>\n",
       "    <tr>\n",
       "      <td>2</td>\n",
       "      <td>PYC_HUMAN</td>\n",
       "      <td>0.130269</td>\n",
       "    </tr>\n",
       "    <tr>\n",
       "      <td>3</td>\n",
       "      <td>CSN4_HUMAN</td>\n",
       "      <td>0.046399</td>\n",
       "    </tr>\n",
       "    <tr>\n",
       "      <td>4</td>\n",
       "      <td>HINT2_HUMAN</td>\n",
       "      <td>0.082688</td>\n",
       "    </tr>\n",
       "    <tr>\n",
       "      <td>...</td>\n",
       "      <td>...</td>\n",
       "      <td>...</td>\n",
       "    </tr>\n",
       "    <tr>\n",
       "      <td>301</td>\n",
       "      <td>EHD3_HUMAN</td>\n",
       "      <td>0.638245</td>\n",
       "    </tr>\n",
       "    <tr>\n",
       "      <td>302</td>\n",
       "      <td>CRIP2_HUMAN</td>\n",
       "      <td>0.817468</td>\n",
       "    </tr>\n",
       "    <tr>\n",
       "      <td>303</td>\n",
       "      <td>ACTS_HUMAN</td>\n",
       "      <td>0.063600</td>\n",
       "    </tr>\n",
       "    <tr>\n",
       "      <td>304</td>\n",
       "      <td>RFC5_HUMAN</td>\n",
       "      <td>0.566825</td>\n",
       "    </tr>\n",
       "    <tr>\n",
       "      <td>305</td>\n",
       "      <td>CCNE2_HUMAN</td>\n",
       "      <td>0.174092</td>\n",
       "    </tr>\n",
       "  </tbody>\n",
       "</table>\n",
       "<p>306 rows × 2 columns</p>\n",
       "</div>"
      ],
      "text/plain": [
       "         feature   pvalues\n",
       "0     PRS8_HUMAN  0.000781\n",
       "1    NECP1_HUMAN  0.011678\n",
       "2      PYC_HUMAN  0.130269\n",
       "3     CSN4_HUMAN  0.046399\n",
       "4    HINT2_HUMAN  0.082688\n",
       "..           ...       ...\n",
       "301   EHD3_HUMAN  0.638245\n",
       "302  CRIP2_HUMAN  0.817468\n",
       "303   ACTS_HUMAN  0.063600\n",
       "304   RFC5_HUMAN  0.566825\n",
       "305  CCNE2_HUMAN  0.174092\n",
       "\n",
       "[306 rows x 2 columns]"
      ]
     },
     "execution_count": 43,
     "metadata": {},
     "output_type": "execute_result"
    }
   ],
   "source": [
    "from scipy import stats\n",
    "\n",
    "pvalues = []\n",
    "for index,row in feature_rank[feature_rank['importance']>0].iterrows():\n",
    "    feature = row['feature']\n",
    "    if feature != 'dt_end':\n",
    "        p = stats.wilcoxon(data[data['suicide']==0][feature],data[data['suicide']==1][feature].sample(n=34))[1]\n",
    "        \n",
    "        pvalues.append([feature,p])\n",
    "\n",
    "pvalues = pd.DataFrame(pvalues)\n",
    "pvalues = pvalues.rename(columns={0:'feature',1:'pvalues'})\n",
    "pvalues"
   ]
  },
  {
   "cell_type": "code",
   "execution_count": 44,
   "metadata": {
    "scrolled": true
   },
   "outputs": [
    {
     "data": {
      "text/html": [
       "<div>\n",
       "<style scoped>\n",
       "    .dataframe tbody tr th:only-of-type {\n",
       "        vertical-align: middle;\n",
       "    }\n",
       "\n",
       "    .dataframe tbody tr th {\n",
       "        vertical-align: top;\n",
       "    }\n",
       "\n",
       "    .dataframe thead th {\n",
       "        text-align: right;\n",
       "    }\n",
       "</style>\n",
       "<table border=\"1\" class=\"dataframe\">\n",
       "  <thead>\n",
       "    <tr style=\"text-align: right;\">\n",
       "      <th></th>\n",
       "      <th>feature</th>\n",
       "      <th>pvalues</th>\n",
       "    </tr>\n",
       "  </thead>\n",
       "  <tbody>\n",
       "    <tr>\n",
       "      <td>0</td>\n",
       "      <td>PRS8_HUMAN</td>\n",
       "      <td>0.000781</td>\n",
       "    </tr>\n",
       "    <tr>\n",
       "      <td>1</td>\n",
       "      <td>NECP1_HUMAN</td>\n",
       "      <td>0.011678</td>\n",
       "    </tr>\n",
       "    <tr>\n",
       "      <td>3</td>\n",
       "      <td>CSN4_HUMAN</td>\n",
       "      <td>0.046399</td>\n",
       "    </tr>\n",
       "    <tr>\n",
       "      <td>5</td>\n",
       "      <td>GNAI2_HUMAN</td>\n",
       "      <td>0.042771</td>\n",
       "    </tr>\n",
       "    <tr>\n",
       "      <td>6</td>\n",
       "      <td>NCKP1_HUMAN</td>\n",
       "      <td>0.023495</td>\n",
       "    </tr>\n",
       "    <tr>\n",
       "      <td>7</td>\n",
       "      <td>TBA4B_HUMAN</td>\n",
       "      <td>0.026829</td>\n",
       "    </tr>\n",
       "    <tr>\n",
       "      <td>8</td>\n",
       "      <td>SYFA_HUMAN</td>\n",
       "      <td>0.000133</td>\n",
       "    </tr>\n",
       "    <tr>\n",
       "      <td>10</td>\n",
       "      <td>GBF1_HUMAN</td>\n",
       "      <td>0.011122</td>\n",
       "    </tr>\n",
       "    <tr>\n",
       "      <td>12</td>\n",
       "      <td>MBOA7_HUMAN</td>\n",
       "      <td>0.004918</td>\n",
       "    </tr>\n",
       "    <tr>\n",
       "      <td>13</td>\n",
       "      <td>CN166_HUMAN</td>\n",
       "      <td>0.010590</td>\n",
       "    </tr>\n",
       "    <tr>\n",
       "      <td>17</td>\n",
       "      <td>CPNE1_HUMAN</td>\n",
       "      <td>0.000229</td>\n",
       "    </tr>\n",
       "    <tr>\n",
       "      <td>19</td>\n",
       "      <td>DIRA1_HUMAN</td>\n",
       "      <td>0.006732</td>\n",
       "    </tr>\n",
       "    <tr>\n",
       "      <td>28</td>\n",
       "      <td>MA2A1_HUMAN</td>\n",
       "      <td>0.001706</td>\n",
       "    </tr>\n",
       "    <tr>\n",
       "      <td>29</td>\n",
       "      <td>IMB1_HUMAN</td>\n",
       "      <td>0.030564</td>\n",
       "    </tr>\n",
       "    <tr>\n",
       "      <td>31</td>\n",
       "      <td>FGF9_HUMAN</td>\n",
       "      <td>0.009594</td>\n",
       "    </tr>\n",
       "    <tr>\n",
       "      <td>32</td>\n",
       "      <td>ES1_HUMAN</td>\n",
       "      <td>0.003757</td>\n",
       "    </tr>\n",
       "    <tr>\n",
       "      <td>34</td>\n",
       "      <td>HS71L_HUMAN</td>\n",
       "      <td>0.020527</td>\n",
       "    </tr>\n",
       "    <tr>\n",
       "      <td>42</td>\n",
       "      <td>H2B1A_HUMAN</td>\n",
       "      <td>0.029272</td>\n",
       "    </tr>\n",
       "    <tr>\n",
       "      <td>43</td>\n",
       "      <td>RASL1_HUMAN</td>\n",
       "      <td>0.041049</td>\n",
       "    </tr>\n",
       "    <tr>\n",
       "      <td>52</td>\n",
       "      <td>RGS2_HUMAN</td>\n",
       "      <td>0.044554</td>\n",
       "    </tr>\n",
       "    <tr>\n",
       "      <td>53</td>\n",
       "      <td>PGAM1_HUMAN</td>\n",
       "      <td>0.025675</td>\n",
       "    </tr>\n",
       "    <tr>\n",
       "      <td>54</td>\n",
       "      <td>RAB18_HUMAN</td>\n",
       "      <td>0.003557</td>\n",
       "    </tr>\n",
       "    <tr>\n",
       "      <td>60</td>\n",
       "      <td>ARP2_HUMAN</td>\n",
       "      <td>0.014840</td>\n",
       "    </tr>\n",
       "    <tr>\n",
       "      <td>61</td>\n",
       "      <td>GNA12_HUMAN</td>\n",
       "      <td>0.028027</td>\n",
       "    </tr>\n",
       "    <tr>\n",
       "      <td>62</td>\n",
       "      <td>WDR37_HUMAN</td>\n",
       "      <td>0.019613</td>\n",
       "    </tr>\n",
       "    <tr>\n",
       "      <td>70</td>\n",
       "      <td>KAD3_HUMAN</td>\n",
       "      <td>0.001517</td>\n",
       "    </tr>\n",
       "    <tr>\n",
       "      <td>72</td>\n",
       "      <td>HPLN1_HUMAN</td>\n",
       "      <td>0.039386</td>\n",
       "    </tr>\n",
       "    <tr>\n",
       "      <td>73</td>\n",
       "      <td>ENPL_HUMAN</td>\n",
       "      <td>0.005185</td>\n",
       "    </tr>\n",
       "    <tr>\n",
       "      <td>87</td>\n",
       "      <td>HBB_HUMAN</td>\n",
       "      <td>0.036231</td>\n",
       "    </tr>\n",
       "    <tr>\n",
       "      <td>103</td>\n",
       "      <td>CSN8_HUMAN</td>\n",
       "      <td>0.006070</td>\n",
       "    </tr>\n",
       "    <tr>\n",
       "      <td>125</td>\n",
       "      <td>ATD3A_HUMAN</td>\n",
       "      <td>0.000108</td>\n",
       "    </tr>\n",
       "    <tr>\n",
       "      <td>133</td>\n",
       "      <td>EF1A3_HUMAN</td>\n",
       "      <td>0.039386</td>\n",
       "    </tr>\n",
       "    <tr>\n",
       "      <td>152</td>\n",
       "      <td>CALR_HUMAN</td>\n",
       "      <td>0.010590</td>\n",
       "    </tr>\n",
       "    <tr>\n",
       "      <td>160</td>\n",
       "      <td>HCD2_HUMAN</td>\n",
       "      <td>0.024564</td>\n",
       "    </tr>\n",
       "    <tr>\n",
       "      <td>162</td>\n",
       "      <td>GUAD_HUMAN</td>\n",
       "      <td>0.046399</td>\n",
       "    </tr>\n",
       "    <tr>\n",
       "      <td>180</td>\n",
       "      <td>HPT_HUMAN</td>\n",
       "      <td>0.005761</td>\n",
       "    </tr>\n",
       "    <tr>\n",
       "      <td>181</td>\n",
       "      <td>TWF1_HUMAN</td>\n",
       "      <td>0.009594</td>\n",
       "    </tr>\n",
       "    <tr>\n",
       "      <td>194</td>\n",
       "      <td>CB042_HUMAN</td>\n",
       "      <td>0.006732</td>\n",
       "    </tr>\n",
       "    <tr>\n",
       "      <td>204</td>\n",
       "      <td>SCG1_HUMAN</td>\n",
       "      <td>0.031904</td>\n",
       "    </tr>\n",
       "    <tr>\n",
       "      <td>214</td>\n",
       "      <td>WASF1_HUMAN</td>\n",
       "      <td>0.017891</td>\n",
       "    </tr>\n",
       "    <tr>\n",
       "      <td>228</td>\n",
       "      <td>RL8_HUMAN</td>\n",
       "      <td>0.005761</td>\n",
       "    </tr>\n",
       "    <tr>\n",
       "      <td>242</td>\n",
       "      <td>YKT6_HUMAN</td>\n",
       "      <td>0.042771</td>\n",
       "    </tr>\n",
       "    <tr>\n",
       "      <td>243</td>\n",
       "      <td>MPP6_HUMAN</td>\n",
       "      <td>0.028027</td>\n",
       "    </tr>\n",
       "    <tr>\n",
       "      <td>246</td>\n",
       "      <td>ECHB_HUMAN</td>\n",
       "      <td>0.048308</td>\n",
       "    </tr>\n",
       "    <tr>\n",
       "      <td>251</td>\n",
       "      <td>NIPS1_HUMAN</td>\n",
       "      <td>0.031904</td>\n",
       "    </tr>\n",
       "    <tr>\n",
       "      <td>278</td>\n",
       "      <td>GBLP_HUMAN</td>\n",
       "      <td>0.022467</td>\n",
       "    </tr>\n",
       "    <tr>\n",
       "      <td>280</td>\n",
       "      <td>SNTA1_HUMAN</td>\n",
       "      <td>0.037781</td>\n",
       "    </tr>\n",
       "    <tr>\n",
       "      <td>287</td>\n",
       "      <td>PP2BB_HUMAN</td>\n",
       "      <td>0.017081</td>\n",
       "    </tr>\n",
       "  </tbody>\n",
       "</table>\n",
       "</div>"
      ],
      "text/plain": [
       "         feature   pvalues\n",
       "0     PRS8_HUMAN  0.000781\n",
       "1    NECP1_HUMAN  0.011678\n",
       "3     CSN4_HUMAN  0.046399\n",
       "5    GNAI2_HUMAN  0.042771\n",
       "6    NCKP1_HUMAN  0.023495\n",
       "7    TBA4B_HUMAN  0.026829\n",
       "8     SYFA_HUMAN  0.000133\n",
       "10    GBF1_HUMAN  0.011122\n",
       "12   MBOA7_HUMAN  0.004918\n",
       "13   CN166_HUMAN  0.010590\n",
       "17   CPNE1_HUMAN  0.000229\n",
       "19   DIRA1_HUMAN  0.006732\n",
       "28   MA2A1_HUMAN  0.001706\n",
       "29    IMB1_HUMAN  0.030564\n",
       "31    FGF9_HUMAN  0.009594\n",
       "32     ES1_HUMAN  0.003757\n",
       "34   HS71L_HUMAN  0.020527\n",
       "42   H2B1A_HUMAN  0.029272\n",
       "43   RASL1_HUMAN  0.041049\n",
       "52    RGS2_HUMAN  0.044554\n",
       "53   PGAM1_HUMAN  0.025675\n",
       "54   RAB18_HUMAN  0.003557\n",
       "60    ARP2_HUMAN  0.014840\n",
       "61   GNA12_HUMAN  0.028027\n",
       "62   WDR37_HUMAN  0.019613\n",
       "70    KAD3_HUMAN  0.001517\n",
       "72   HPLN1_HUMAN  0.039386\n",
       "73    ENPL_HUMAN  0.005185\n",
       "87     HBB_HUMAN  0.036231\n",
       "103   CSN8_HUMAN  0.006070\n",
       "125  ATD3A_HUMAN  0.000108\n",
       "133  EF1A3_HUMAN  0.039386\n",
       "152   CALR_HUMAN  0.010590\n",
       "160   HCD2_HUMAN  0.024564\n",
       "162   GUAD_HUMAN  0.046399\n",
       "180    HPT_HUMAN  0.005761\n",
       "181   TWF1_HUMAN  0.009594\n",
       "194  CB042_HUMAN  0.006732\n",
       "204   SCG1_HUMAN  0.031904\n",
       "214  WASF1_HUMAN  0.017891\n",
       "228    RL8_HUMAN  0.005761\n",
       "242   YKT6_HUMAN  0.042771\n",
       "243   MPP6_HUMAN  0.028027\n",
       "246   ECHB_HUMAN  0.048308\n",
       "251  NIPS1_HUMAN  0.031904\n",
       "278   GBLP_HUMAN  0.022467\n",
       "280  SNTA1_HUMAN  0.037781\n",
       "287  PP2BB_HUMAN  0.017081"
      ]
     },
     "execution_count": 44,
     "metadata": {},
     "output_type": "execute_result"
    }
   ],
   "source": [
    "pvalues[pvalues['pvalues']<0.05]"
   ]
  },
  {
   "cell_type": "markdown",
   "metadata": {},
   "source": [
    "There are 287 significant features as opposed to 272 features from the previous t-test."
   ]
  },
  {
   "cell_type": "code",
   "execution_count": 46,
   "metadata": {},
   "outputs": [],
   "source": [
    "from sklearn.preprocessing import StandardScaler\n",
    "from sklearn.cluster import KMeans\n",
    "\n",
    "data_cat = data_x[['sex_Male','sex_Female']]\n",
    "data_x1 = data_x.drop(['sex_Male','sex_Female'], axis=1)\n",
    "scaler = StandardScaler()\n",
    "data_x2 = scaler.fit_transform(data_x1)\n",
    "data_cat = np.array(data_cat)\n",
    "data_x3 = np.append(data_x2, data_cat, 1)\n"
   ]
  },
  {
   "cell_type": "code",
   "execution_count": 47,
   "metadata": {
    "collapsed": true
   },
   "outputs": [
    {
     "data": {
      "text/plain": [
       "array([0, 1, 1, 1, 0, 0, 0, 0, 0, 0, 0, 1, 0, 0, 0, 1, 0, 1, 1, 0, 1, 0,\n",
       "       0, 0, 1, 0, 1, 1, 0, 0, 0, 0, 0, 1, 1, 1])"
      ]
     },
     "execution_count": 47,
     "metadata": {},
     "output_type": "execute_result"
    }
   ],
   "source": [
    "kmeans = KMeans(n_clusters=2, random_state=0).fit(data_x3)\n",
    "kmeans.labels_"
   ]
  },
  {
   "cell_type": "code",
   "execution_count": 48,
   "metadata": {
    "collapsed": true
   },
   "outputs": [
    {
     "data": {
      "text/html": [
       "<div>\n",
       "<style scoped>\n",
       "    .dataframe tbody tr th:only-of-type {\n",
       "        vertical-align: middle;\n",
       "    }\n",
       "\n",
       "    .dataframe tbody tr th {\n",
       "        vertical-align: top;\n",
       "    }\n",
       "\n",
       "    .dataframe thead th {\n",
       "        text-align: right;\n",
       "    }\n",
       "</style>\n",
       "<table border=\"1\" class=\"dataframe\">\n",
       "  <thead>\n",
       "    <tr style=\"text-align: right;\">\n",
       "      <th></th>\n",
       "      <th>cluster</th>\n",
       "      <th>truth</th>\n",
       "    </tr>\n",
       "  </thead>\n",
       "  <tbody>\n",
       "    <tr>\n",
       "      <td>0</td>\n",
       "      <td>0</td>\n",
       "      <td>0</td>\n",
       "    </tr>\n",
       "    <tr>\n",
       "      <td>1</td>\n",
       "      <td>1</td>\n",
       "      <td>0</td>\n",
       "    </tr>\n",
       "    <tr>\n",
       "      <td>2</td>\n",
       "      <td>1</td>\n",
       "      <td>0</td>\n",
       "    </tr>\n",
       "    <tr>\n",
       "      <td>3</td>\n",
       "      <td>1</td>\n",
       "      <td>0</td>\n",
       "    </tr>\n",
       "    <tr>\n",
       "      <td>4</td>\n",
       "      <td>0</td>\n",
       "      <td>1</td>\n",
       "    </tr>\n",
       "    <tr>\n",
       "      <td>5</td>\n",
       "      <td>0</td>\n",
       "      <td>1</td>\n",
       "    </tr>\n",
       "    <tr>\n",
       "      <td>6</td>\n",
       "      <td>0</td>\n",
       "      <td>1</td>\n",
       "    </tr>\n",
       "    <tr>\n",
       "      <td>7</td>\n",
       "      <td>0</td>\n",
       "      <td>0</td>\n",
       "    </tr>\n",
       "    <tr>\n",
       "      <td>8</td>\n",
       "      <td>0</td>\n",
       "      <td>1</td>\n",
       "    </tr>\n",
       "    <tr>\n",
       "      <td>9</td>\n",
       "      <td>0</td>\n",
       "      <td>1</td>\n",
       "    </tr>\n",
       "    <tr>\n",
       "      <td>10</td>\n",
       "      <td>0</td>\n",
       "      <td>0</td>\n",
       "    </tr>\n",
       "    <tr>\n",
       "      <td>11</td>\n",
       "      <td>1</td>\n",
       "      <td>1</td>\n",
       "    </tr>\n",
       "    <tr>\n",
       "      <td>12</td>\n",
       "      <td>0</td>\n",
       "      <td>1</td>\n",
       "    </tr>\n",
       "    <tr>\n",
       "      <td>13</td>\n",
       "      <td>0</td>\n",
       "      <td>1</td>\n",
       "    </tr>\n",
       "    <tr>\n",
       "      <td>14</td>\n",
       "      <td>0</td>\n",
       "      <td>0</td>\n",
       "    </tr>\n",
       "    <tr>\n",
       "      <td>15</td>\n",
       "      <td>1</td>\n",
       "      <td>0</td>\n",
       "    </tr>\n",
       "    <tr>\n",
       "      <td>16</td>\n",
       "      <td>0</td>\n",
       "      <td>0</td>\n",
       "    </tr>\n",
       "    <tr>\n",
       "      <td>17</td>\n",
       "      <td>1</td>\n",
       "      <td>0</td>\n",
       "    </tr>\n",
       "    <tr>\n",
       "      <td>18</td>\n",
       "      <td>1</td>\n",
       "      <td>0</td>\n",
       "    </tr>\n",
       "    <tr>\n",
       "      <td>19</td>\n",
       "      <td>0</td>\n",
       "      <td>0</td>\n",
       "    </tr>\n",
       "    <tr>\n",
       "      <td>20</td>\n",
       "      <td>1</td>\n",
       "      <td>0</td>\n",
       "    </tr>\n",
       "    <tr>\n",
       "      <td>21</td>\n",
       "      <td>0</td>\n",
       "      <td>0</td>\n",
       "    </tr>\n",
       "    <tr>\n",
       "      <td>22</td>\n",
       "      <td>0</td>\n",
       "      <td>1</td>\n",
       "    </tr>\n",
       "    <tr>\n",
       "      <td>23</td>\n",
       "      <td>0</td>\n",
       "      <td>0</td>\n",
       "    </tr>\n",
       "    <tr>\n",
       "      <td>24</td>\n",
       "      <td>1</td>\n",
       "      <td>1</td>\n",
       "    </tr>\n",
       "    <tr>\n",
       "      <td>25</td>\n",
       "      <td>0</td>\n",
       "      <td>1</td>\n",
       "    </tr>\n",
       "    <tr>\n",
       "      <td>26</td>\n",
       "      <td>1</td>\n",
       "      <td>0</td>\n",
       "    </tr>\n",
       "    <tr>\n",
       "      <td>27</td>\n",
       "      <td>1</td>\n",
       "      <td>1</td>\n",
       "    </tr>\n",
       "    <tr>\n",
       "      <td>28</td>\n",
       "      <td>0</td>\n",
       "      <td>1</td>\n",
       "    </tr>\n",
       "    <tr>\n",
       "      <td>29</td>\n",
       "      <td>0</td>\n",
       "      <td>1</td>\n",
       "    </tr>\n",
       "    <tr>\n",
       "      <td>30</td>\n",
       "      <td>0</td>\n",
       "      <td>1</td>\n",
       "    </tr>\n",
       "    <tr>\n",
       "      <td>31</td>\n",
       "      <td>0</td>\n",
       "      <td>1</td>\n",
       "    </tr>\n",
       "    <tr>\n",
       "      <td>32</td>\n",
       "      <td>0</td>\n",
       "      <td>1</td>\n",
       "    </tr>\n",
       "    <tr>\n",
       "      <td>33</td>\n",
       "      <td>1</td>\n",
       "      <td>0</td>\n",
       "    </tr>\n",
       "    <tr>\n",
       "      <td>34</td>\n",
       "      <td>1</td>\n",
       "      <td>1</td>\n",
       "    </tr>\n",
       "    <tr>\n",
       "      <td>35</td>\n",
       "      <td>1</td>\n",
       "      <td>1</td>\n",
       "    </tr>\n",
       "  </tbody>\n",
       "</table>\n",
       "</div>"
      ],
      "text/plain": [
       "    cluster  truth\n",
       "0         0      0\n",
       "1         1      0\n",
       "2         1      0\n",
       "3         1      0\n",
       "4         0      1\n",
       "5         0      1\n",
       "6         0      1\n",
       "7         0      0\n",
       "8         0      1\n",
       "9         0      1\n",
       "10        0      0\n",
       "11        1      1\n",
       "12        0      1\n",
       "13        0      1\n",
       "14        0      0\n",
       "15        1      0\n",
       "16        0      0\n",
       "17        1      0\n",
       "18        1      0\n",
       "19        0      0\n",
       "20        1      0\n",
       "21        0      0\n",
       "22        0      1\n",
       "23        0      0\n",
       "24        1      1\n",
       "25        0      1\n",
       "26        1      0\n",
       "27        1      1\n",
       "28        0      1\n",
       "29        0      1\n",
       "30        0      1\n",
       "31        0      1\n",
       "32        0      1\n",
       "33        1      0\n",
       "34        1      1\n",
       "35        1      1"
      ]
     },
     "execution_count": 48,
     "metadata": {},
     "output_type": "execute_result"
    }
   ],
   "source": [
    "cluster = kmeans.labels_\n",
    "truth = list(data_y)\n",
    "pd.DataFrame(data={'cluster':cluster,'truth':truth})"
   ]
  },
  {
   "cell_type": "code",
   "execution_count": 49,
   "metadata": {},
   "outputs": [],
   "source": [
    "c1,c2,c3 = 0,0,0\n",
    "for i in range(0,len(cluster)):\n",
    "    if (cluster[i] == 0) & (truth[i]==1):\n",
    "        c1 = c1+1\n",
    "    elif (cluster[i]==1) & (truth[i]==0):\n",
    "        c2 = c2+1\n",
    "    else:\n",
    "        c3 = c3+1\n",
    "    "
   ]
  },
  {
   "cell_type": "markdown",
   "metadata": {},
   "source": [
    "The alogirthm can't predict gender given the genes."
   ]
  },
  {
   "cell_type": "code",
   "execution_count": 50,
   "metadata": {},
   "outputs": [
    {
     "name": "stdout",
     "output_type": "stream",
     "text": [
      "14\n",
      "9\n",
      "13\n"
     ]
    }
   ],
   "source": [
    "print(c1)\n",
    "print(c2)\n",
    "print(c3)"
   ]
  },
  {
   "cell_type": "markdown",
   "metadata": {},
   "source": [
    "# conduct non parametric anova to test difference between groups"
   ]
  },
  {
   "cell_type": "code",
   "execution_count": 52,
   "metadata": {
    "collapsed": true
   },
   "outputs": [
    {
     "data": {
      "text/html": [
       "<div>\n",
       "<style scoped>\n",
       "    .dataframe tbody tr th:only-of-type {\n",
       "        vertical-align: middle;\n",
       "    }\n",
       "\n",
       "    .dataframe tbody tr th {\n",
       "        vertical-align: top;\n",
       "    }\n",
       "\n",
       "    .dataframe thead th {\n",
       "        text-align: right;\n",
       "    }\n",
       "</style>\n",
       "<table border=\"1\" class=\"dataframe\">\n",
       "  <thead>\n",
       "    <tr style=\"text-align: right;\">\n",
       "      <th></th>\n",
       "      <th>Patient</th>\n",
       "      <th>1433B_HUMAN</th>\n",
       "      <th>1433E_HUMAN</th>\n",
       "      <th>1433F_HUMAN</th>\n",
       "      <th>1433G_HUMAN</th>\n",
       "      <th>1433S_HUMAN</th>\n",
       "      <th>1433T_HUMAN</th>\n",
       "      <th>1433Z_HUMAN</th>\n",
       "      <th>2AAA_HUMAN</th>\n",
       "      <th>2ABA_HUMAN</th>\n",
       "      <th>...</th>\n",
       "      <th>YD018_HUMAN</th>\n",
       "      <th>YKT6_HUMAN</th>\n",
       "      <th>ZBT26_HUMAN</th>\n",
       "      <th>ZN346_HUMAN</th>\n",
       "      <th>ZNF76_HUMAN</th>\n",
       "      <th>dose</th>\n",
       "      <th>age</th>\n",
       "      <th>sex</th>\n",
       "      <th>gr</th>\n",
       "      <th>suicide</th>\n",
       "    </tr>\n",
       "  </thead>\n",
       "  <tbody>\n",
       "    <tr>\n",
       "      <td>0</td>\n",
       "      <td>766</td>\n",
       "      <td>13.787726</td>\n",
       "      <td>14.778525</td>\n",
       "      <td>14.071394</td>\n",
       "      <td>14.665839</td>\n",
       "      <td>11.264794</td>\n",
       "      <td>13.055630</td>\n",
       "      <td>16.054861</td>\n",
       "      <td>14.048699</td>\n",
       "      <td>12.969326</td>\n",
       "      <td>...</td>\n",
       "      <td>11.149859</td>\n",
       "      <td>12.324365</td>\n",
       "      <td>13.450442</td>\n",
       "      <td>11.115703</td>\n",
       "      <td>10.703296</td>\n",
       "      <td>2</td>\n",
       "      <td>56</td>\n",
       "      <td>Female</td>\n",
       "      <td>C</td>\n",
       "      <td>Non-Suic</td>\n",
       "    </tr>\n",
       "    <tr>\n",
       "      <td>2</td>\n",
       "      <td>811</td>\n",
       "      <td>13.809070</td>\n",
       "      <td>14.662353</td>\n",
       "      <td>14.213875</td>\n",
       "      <td>14.537931</td>\n",
       "      <td>10.617070</td>\n",
       "      <td>13.053167</td>\n",
       "      <td>15.990168</td>\n",
       "      <td>14.066942</td>\n",
       "      <td>12.777811</td>\n",
       "      <td>...</td>\n",
       "      <td>10.749525</td>\n",
       "      <td>12.186666</td>\n",
       "      <td>13.439400</td>\n",
       "      <td>11.009725</td>\n",
       "      <td>10.938700</td>\n",
       "      <td>2</td>\n",
       "      <td>72</td>\n",
       "      <td>Female</td>\n",
       "      <td>C</td>\n",
       "      <td>Non-Suic</td>\n",
       "    </tr>\n",
       "    <tr>\n",
       "      <td>4</td>\n",
       "      <td>892</td>\n",
       "      <td>13.372266</td>\n",
       "      <td>14.296781</td>\n",
       "      <td>14.082546</td>\n",
       "      <td>14.174213</td>\n",
       "      <td>10.010893</td>\n",
       "      <td>12.701251</td>\n",
       "      <td>15.542761</td>\n",
       "      <td>13.725006</td>\n",
       "      <td>12.778088</td>\n",
       "      <td>...</td>\n",
       "      <td>10.681553</td>\n",
       "      <td>12.174987</td>\n",
       "      <td>13.133127</td>\n",
       "      <td>10.675698</td>\n",
       "      <td>10.809151</td>\n",
       "      <td>2</td>\n",
       "      <td>50</td>\n",
       "      <td>Female</td>\n",
       "      <td>C</td>\n",
       "      <td>Non-Suic</td>\n",
       "    </tr>\n",
       "    <tr>\n",
       "      <td>6</td>\n",
       "      <td>1043</td>\n",
       "      <td>13.237846</td>\n",
       "      <td>14.105996</td>\n",
       "      <td>13.991277</td>\n",
       "      <td>14.065168</td>\n",
       "      <td>10.184080</td>\n",
       "      <td>12.746720</td>\n",
       "      <td>15.384763</td>\n",
       "      <td>13.772875</td>\n",
       "      <td>12.887360</td>\n",
       "      <td>...</td>\n",
       "      <td>10.428561</td>\n",
       "      <td>12.150732</td>\n",
       "      <td>12.899984</td>\n",
       "      <td>10.837388</td>\n",
       "      <td>10.484424</td>\n",
       "      <td>2</td>\n",
       "      <td>14</td>\n",
       "      <td>Female</td>\n",
       "      <td>C</td>\n",
       "      <td>Non-Suic</td>\n",
       "    </tr>\n",
       "    <tr>\n",
       "      <td>8</td>\n",
       "      <td>574</td>\n",
       "      <td>13.483786</td>\n",
       "      <td>14.218876</td>\n",
       "      <td>13.996217</td>\n",
       "      <td>14.239543</td>\n",
       "      <td>11.274700</td>\n",
       "      <td>12.728803</td>\n",
       "      <td>15.579854</td>\n",
       "      <td>13.970519</td>\n",
       "      <td>12.912875</td>\n",
       "      <td>...</td>\n",
       "      <td>10.761113</td>\n",
       "      <td>12.253854</td>\n",
       "      <td>12.482489</td>\n",
       "      <td>10.749516</td>\n",
       "      <td>10.538290</td>\n",
       "      <td>2</td>\n",
       "      <td>41</td>\n",
       "      <td>Female</td>\n",
       "      <td>MDD</td>\n",
       "      <td>Suicide</td>\n",
       "    </tr>\n",
       "  </tbody>\n",
       "</table>\n",
       "<p>5 rows × 1137 columns</p>\n",
       "</div>"
      ],
      "text/plain": [
       "   Patient  1433B_HUMAN  1433E_HUMAN  1433F_HUMAN  1433G_HUMAN  1433S_HUMAN  \\\n",
       "0      766    13.787726    14.778525    14.071394    14.665839    11.264794   \n",
       "2      811    13.809070    14.662353    14.213875    14.537931    10.617070   \n",
       "4      892    13.372266    14.296781    14.082546    14.174213    10.010893   \n",
       "6     1043    13.237846    14.105996    13.991277    14.065168    10.184080   \n",
       "8      574    13.483786    14.218876    13.996217    14.239543    11.274700   \n",
       "\n",
       "   1433T_HUMAN  1433Z_HUMAN  2AAA_HUMAN  2ABA_HUMAN  ...  YD018_HUMAN  \\\n",
       "0    13.055630    16.054861   14.048699   12.969326  ...    11.149859   \n",
       "2    13.053167    15.990168   14.066942   12.777811  ...    10.749525   \n",
       "4    12.701251    15.542761   13.725006   12.778088  ...    10.681553   \n",
       "6    12.746720    15.384763   13.772875   12.887360  ...    10.428561   \n",
       "8    12.728803    15.579854   13.970519   12.912875  ...    10.761113   \n",
       "\n",
       "   YKT6_HUMAN  ZBT26_HUMAN  ZN346_HUMAN  ZNF76_HUMAN  dose  age     sex   gr  \\\n",
       "0   12.324365    13.450442    11.115703    10.703296     2   56  Female    C   \n",
       "2   12.186666    13.439400    11.009725    10.938700     2   72  Female    C   \n",
       "4   12.174987    13.133127    10.675698    10.809151     2   50  Female    C   \n",
       "6   12.150732    12.899984    10.837388    10.484424     2   14  Female    C   \n",
       "8   12.253854    12.482489    10.749516    10.538290     2   41  Female  MDD   \n",
       "\n",
       "    suicide  \n",
       "0  Non-Suic  \n",
       "2  Non-Suic  \n",
       "4  Non-Suic  \n",
       "6  Non-Suic  \n",
       "8   Suicide  \n",
       "\n",
       "[5 rows x 1137 columns]"
      ]
     },
     "execution_count": 52,
     "metadata": {},
     "output_type": "execute_result"
    }
   ],
   "source": [
    "from scipy.stats import kruskal\n",
    "\n",
    "data = pd.read_csv('final_df.csv')\n",
    "data = data.iloc[::2, :]\n",
    "data.head()"
   ]
  },
  {
   "cell_type": "code",
   "execution_count": 53,
   "metadata": {},
   "outputs": [
    {
     "data": {
      "text/plain": [
       "array(['C', 'MDD', 'MDD*SSRI'], dtype=object)"
      ]
     },
     "execution_count": 53,
     "metadata": {},
     "output_type": "execute_result"
    }
   ],
   "source": [
    "data['gr'].unique()"
   ]
  },
  {
   "cell_type": "code",
   "execution_count": 54,
   "metadata": {},
   "outputs": [],
   "source": [
    "grp_c = data[data['gr']=='C']\n",
    "grp_mdd = data[data['gr']=='MDD']\n",
    "grp_ssri = data[data['gr']=='MDD*SSRI']"
   ]
  },
  {
   "cell_type": "code",
   "execution_count": 56,
   "metadata": {},
   "outputs": [],
   "source": [
    "grp_c = grp_c.drop(['Patient','dose','sex','suicide'],axis=1)\n",
    "grp_mdd = grp_mdd.drop(['Patient','dose','sex','suicide'],axis=1)\n",
    "grp_ssri = grp_ssri.drop(['Patient','dose','sex','suicide'],axis=1)"
   ]
  },
  {
   "cell_type": "markdown",
   "metadata": {},
   "source": [
    "# comparison among all three"
   ]
  },
  {
   "cell_type": "markdown",
   "metadata": {},
   "source": [
    "We will look at the features between groups that are different"
   ]
  },
  {
   "cell_type": "code",
   "execution_count": 59,
   "metadata": {},
   "outputs": [],
   "source": [
    "cols = grp_c.columns\n",
    "def conduct_tests(group1, group2, group3):\n",
    "    results = []\n",
    "    for col in cols:\n",
    "        p_val = stats.kruskal(group1[col], group2[col],group3[col])[1]\n",
    "        if p_val < 0.05:\n",
    "            results.append([col,p_val])\n",
    "            \n",
    "    return pd.DataFrame(results)\n",
    "        \n",
    "results = conduct_tests(grp_c, grp_mdd, grp_ssri)"
   ]
  },
  {
   "cell_type": "code",
   "execution_count": 61,
   "metadata": {},
   "outputs": [],
   "source": [
    "qual_cols = results[0]"
   ]
  },
  {
   "cell_type": "code",
   "execution_count": 69,
   "metadata": {},
   "outputs": [
    {
     "data": {
      "text/plain": [
       "191"
      ]
     },
     "execution_count": 69,
     "metadata": {},
     "output_type": "execute_result"
    }
   ],
   "source": [
    "len(qual_cols)"
   ]
  },
  {
   "cell_type": "code",
   "execution_count": 98,
   "metadata": {},
   "outputs": [
    {
     "data": {
      "text/plain": [
       "0      1433S_HUMAN\n",
       "1      ACOT2_HUMAN\n",
       "2       ACTG_HUMAN\n",
       "3       ACTS_HUMAN\n",
       "4       ADT3_HUMAN\n",
       "          ...     \n",
       "186      VGF_HUMAN\n",
       "187     VPP1_HUMAN\n",
       "188    VPS29_HUMAN\n",
       "189    ZNF76_HUMAN\n",
       "190             gr\n",
       "Name: 0, Length: 191, dtype: object"
      ]
     },
     "execution_count": 98,
     "metadata": {},
     "output_type": "execute_result"
    }
   ],
   "source": [
    "qual_cols"
   ]
  },
  {
   "cell_type": "markdown",
   "metadata": {},
   "source": [
    "# run pairwise on the 190 columns - c and mdd"
   ]
  },
  {
   "cell_type": "code",
   "execution_count": 72,
   "metadata": {},
   "outputs": [],
   "source": [
    "def conduct_tests(group1, group2):\n",
    "    results = []\n",
    "    for col in qual_cols:\n",
    "        p_val = stats.kruskal(group1[col], group2[col])[1]\n",
    "        if p_val < 0.05:\n",
    "            results.append([col,p_val])\n",
    "            \n",
    "    return pd.DataFrame(results)\n",
    "\n",
    "results_c_mdd = conduct_tests(grp_c, grp_mdd)\n",
    "results_c_ssri = conduct_tests(grp_c, grp_ssri)\n",
    "results_mdd_ssri = conduct_tests(grp_mdd, grp_ssri)"
   ]
  },
  {
   "cell_type": "code",
   "execution_count": 83,
   "metadata": {},
   "outputs": [
    {
     "name": "stdout",
     "output_type": "stream",
     "text": [
      "Number of proteins having significant difference between C and MDD is: \n",
      "132\n",
      "Number of proteins having significant difference between C and MDD*SSRI is: \n",
      "184\n",
      "Number of proteins having significant difference between MDD and MDD*SSRI is: \n",
      "11\n"
     ]
    }
   ],
   "source": [
    "print(\"Number of proteins having significant difference between C and MDD is: \")\n",
    "print(results_c_mdd.shape[0])\n",
    "print(\"Number of proteins having significant difference between C and MDD*SSRI is: \")\n",
    "print(results_c_ssri.shape[0])\n",
    "print(\"Number of proteins having significant difference between MDD and MDD*SSRI is: \")\n",
    "print(results_mdd_ssri.shape[0])"
   ]
  },
  {
   "cell_type": "code",
   "execution_count": 75,
   "metadata": {},
   "outputs": [],
   "source": [
    "res_c_mdd_proteins = list(results_c_mdd[0])\n",
    "res_c_ssri_proteins = list(results_c_ssri[0])\n",
    "res_mdd_ssri_proteins = list(results_mdd_ssri[0])"
   ]
  },
  {
   "cell_type": "code",
   "execution_count": 105,
   "metadata": {},
   "outputs": [
    {
     "data": {
      "text/plain": [
       "{'GSK3B_HUMAN', 'RGS2_HUMAN', 'gr'}"
      ]
     },
     "execution_count": 105,
     "metadata": {},
     "output_type": "execute_result"
    }
   ],
   "source": [
    "set(res_c_mdd_proteins) & set(res_c_ssri_proteins) & set(res_mdd_ssri_proteins)"
   ]
  },
  {
   "cell_type": "markdown",
   "metadata": {},
   "source": [
    "# visualizing box plots of the above two proteins that differ among all 3 groups"
   ]
  },
  {
   "cell_type": "code",
   "execution_count": 108,
   "metadata": {},
   "outputs": [
    {
     "data": {
      "text/plain": [
       "<matplotlib.axes._subplots.AxesSubplot at 0x1a176eb1a88>"
      ]
     },
     "execution_count": 108,
     "metadata": {},
     "output_type": "execute_result"
    },
    {
     "data": {
      "image/png": "[encoded data removed]",
      "text/plain": [
       "<Figure size 432x288 with 1 Axes>"
      ]
     },
     "metadata": {
      "needs_background": "light"
     },
     "output_type": "display_data"
    }
   ],
   "source": [
    "sns.boxplot(x='gr',y='GSK3B_HUMAN',data=data[['GSK3B_HUMAN','gr']])"
   ]
  },
  {
   "cell_type": "code",
   "execution_count": 109,
   "metadata": {},
   "outputs": [
    {
     "data": {
      "text/plain": [
       "<matplotlib.axes._subplots.AxesSubplot at 0x1a176f41488>"
      ]
     },
     "execution_count": 109,
     "metadata": {},
     "output_type": "execute_result"
    },
    {
     "data": {
      "image/png": "[encoded data removed]",
      "text/plain": [
       "<Figure size 432x288 with 1 Axes>"
      ]
     },
     "metadata": {
      "needs_background": "light"
     },
     "output_type": "display_data"
    }
   ],
   "source": [
    "sns.boxplot(x='gr',y='RGS2_HUMAN',data=data[['RGS2_HUMAN','gr']])"
   ]
  },
  {
   "cell_type": "markdown",
   "metadata": {},
   "source": [
    "# common between c_mdd and c_ssri"
   ]
  },
  {
   "cell_type": "code",
   "execution_count": 85,
   "metadata": {
    "collapsed": true
   },
   "outputs": [
    {
     "name": "stdout",
     "output_type": "stream",
     "text": [
      "1433S_HUMAN\n",
      "ACOT2_HUMAN\n",
      "ACTS_HUMAN\n",
      "ADT3_HUMAN\n",
      "AP180_HUMAN\n",
      "AP3D1_HUMAN\n",
      "ARL3_HUMAN\n",
      "ARP2_HUMAN\n",
      "ARPC2_HUMAN\n",
      "ATD3A_HUMAN\n",
      "ATPK_HUMAN\n",
      "AUXI_HUMAN\n",
      "BDH_HUMAN\n",
      "C1QR1_HUMAN\n",
      "CADM2_HUMAN\n",
      "CADM4_HUMAN\n",
      "CAMKV_HUMAN\n",
      "CB042_HUMAN\n",
      "CBWD3_HUMAN\n",
      "CC74A_HUMAN\n",
      "CCD65_HUMAN\n",
      "CCNE2_HUMAN\n",
      "CDK13_HUMAN\n",
      "CN166_HUMAN\n",
      "COR1C_HUMAN\n",
      "CPNE8_HUMAN\n",
      "CTF8A_HUMAN\n",
      "CTL1_HUMAN\n",
      "CTNA2_HUMAN\n",
      "DC1L2_HUMAN\n",
      "DDX25_HUMAN\n",
      "DEMA_HUMAN\n",
      "DFFA_HUMAN\n",
      "DIRA1_HUMAN\n",
      "DLG4_HUMAN\n",
      "DMAP1_HUMAN\n",
      "E41L1_HUMAN\n",
      "EAA1_HUMAN\n",
      "FA49B_HUMAN\n",
      "FABP7_HUMAN\n",
      "GBF1_HUMAN\n",
      "GNA12_HUMAN\n",
      "GNAI2_HUMAN\n",
      "GNAL_HUMAN\n",
      "GPM6A_HUMAN\n",
      "GRB2_HUMAN\n",
      "GRHPR_HUMAN\n",
      "GSK3B_HUMAN\n",
      "H13_HUMAN\n",
      "H2AW_HUMAN\n",
      "H2B1J_HUMAN\n",
      "HBD_HUMAN\n",
      "HOME1_HUMAN\n",
      "HPCL1_HUMAN\n",
      "HPLN1_HUMAN\n",
      "HPT_HUMAN\n",
      "HS905_HUMAN\n",
      "HSDL2_HUMAN\n",
      "IDHC_HUMAN\n",
      "IMPA1_HUMAN\n",
      "K1H2_HUMAN\n",
      "KAP3_HUMAN\n",
      "KAPCB_HUMAN\n",
      "L2GL1_HUMAN\n",
      "LDHA_HUMAN\n",
      "MA6D1_HUMAN\n",
      "MAL2_HUMAN\n",
      "MAP4_HUMAN\n",
      "MIF_HUMAN\n",
      "ML12B_HUMAN\n",
      "MRT4_HUMAN\n",
      "MTCH2_HUMAN\n",
      "MYL6_HUMAN\n",
      "NCEH1_HUMAN\n",
      "NDUS3_HUMAN\n",
      "NECP1_HUMAN\n",
      "NP1L4_HUMAN\n",
      "NPTN_HUMAN\n",
      "ODPAT_HUMAN\n",
      "OXR1_HUMAN\n",
      "PA1B3_HUMAN\n",
      "PAXX_HUMAN\n",
      "PGK2_HUMAN\n",
      "PHLB3_HUMAN\n",
      "POTEI_HUMAN\n",
      "PP2BB_HUMAN\n",
      "PRDX6_HUMAN\n",
      "PRS8_HUMAN\n",
      "PSA7_HUMAN\n",
      "PSB2_HUMAN\n",
      "PYGL_HUMAN\n",
      "QOR_HUMAN\n",
      "RAB18_HUMAN\n",
      "RAB3C_HUMAN\n",
      "RAB8A_HUMAN\n",
      "RAB8B_HUMAN\n",
      "RALA_HUMAN\n",
      "RASK_HUMAN\n",
      "RB6I2_HUMAN\n",
      "RFC5_HUMAN\n",
      "RGS2_HUMAN\n",
      "RS16_HUMAN\n",
      "RT36_HUMAN\n",
      "RTN3_HUMAN\n",
      "RUFY3_HUMAN\n",
      "S12A5_HUMAN\n",
      "SAP_HUMAN\n",
      "SBP1_HUMAN\n",
      "SDHB_HUMAN\n",
      "SNG3_HUMAN\n",
      "SNP23_HUMAN\n",
      "SPTB1_HUMAN\n",
      "STMN1_HUMAN\n",
      "SYFA_HUMAN\n",
      "TBA4B_HUMAN\n",
      "TBB6_HUMAN\n",
      "TCPA_HUMAN\n",
      "TEKT3_HUMAN\n",
      "THTR_HUMAN\n",
      "TSNA1_HUMAN\n",
      "UCRIL_HUMAN\n",
      "VAPA_HUMAN\n",
      "VPP1_HUMAN\n",
      "ZNF76_HUMAN\n",
      "gr\n",
      "125\n"
     ]
    }
   ],
   "source": [
    "count = 0\n",
    "for val in res_c_mdd_proteins:\n",
    "    if val in res_c_ssri_proteins:\n",
    "        count = count + 1\n",
    "        print(val)\n",
    "print(count)"
   ]
  },
  {
   "cell_type": "markdown",
   "metadata": {},
   "source": [
    "# common between c_mdd and mdd_ssri"
   ]
  },
  {
   "cell_type": "code",
   "execution_count": 84,
   "metadata": {},
   "outputs": [
    {
     "name": "stdout",
     "output_type": "stream",
     "text": [
      "GSK3B_HUMAN\n",
      "RGS2_HUMAN\n",
      "VGF_HUMAN\n",
      "gr\n",
      "4\n"
     ]
    }
   ],
   "source": [
    "count2 = 0\n",
    "for val in res_c_mdd_proteins:\n",
    "    if val in res_mdd_ssri_proteins:\n",
    "        print(val)\n",
    "        count2 += 1\n",
    "print(count2)"
   ]
  },
  {
   "cell_type": "markdown",
   "metadata": {},
   "source": [
    "# common between c_ssri and mdd_ssri"
   ]
  },
  {
   "cell_type": "code",
   "execution_count": 87,
   "metadata": {},
   "outputs": [
    {
     "name": "stdout",
     "output_type": "stream",
     "text": [
      "ACTG_HUMAN\n",
      "AIFM1_HUMAN\n",
      "ANXA7_HUMAN\n",
      "ARPC3_HUMAN\n",
      "G3P_HUMAN\n",
      "GSK3B_HUMAN\n",
      "MTX1_HUMAN\n",
      "PDIA6_HUMAN\n",
      "RGS2_HUMAN\n",
      "gr\n",
      "10\n"
     ]
    }
   ],
   "source": [
    "count3 = 0\n",
    "for val in res_c_ssri_proteins:\n",
    "    if val in res_mdd_ssri_proteins:\n",
    "        print(val)\n",
    "        count3 += 1\n",
    "print(count3)"
   ]
  },
  {
   "cell_type": "markdown",
   "metadata": {},
   "source": [
    "# Visualizing GSK3B_HUMAN for C and MDD groups"
   ]
  },
  {
   "cell_type": "code",
   "execution_count": 86,
   "metadata": {},
   "outputs": [
    {
     "data": {
      "text/plain": [
       "<matplotlib.axes._subplots.AxesSubplot at 0x1a17681af88>"
      ]
     },
     "execution_count": 86,
     "metadata": {},
     "output_type": "execute_result"
    },
    {
     "data": {
      "image/png": "[encoded data removed]",
      "text/plain": [
       "<Figure size 432x288 with 1 Axes>"
      ]
     },
     "metadata": {
      "needs_background": "light"
     },
     "output_type": "display_data"
    }
   ],
   "source": [
    "sns.kdeplot(data[(data['gr']=='C')]['GSK3B_HUMAN'],label='C')\n",
    "sns.kdeplot(data[(data['gr']=='MDD')]['GSK3B_HUMAN'],label='MDD')"
   ]
  },
  {
   "cell_type": "markdown",
   "metadata": {},
   "source": [
    "# Visualizing ACTG_HUMAN, 1433S_HUMAN for C and MDD*SSRI groups"
   ]
  },
  {
   "cell_type": "code",
   "execution_count": 88,
   "metadata": {},
   "outputs": [
    {
     "data": {
      "text/plain": [
       "<matplotlib.axes._subplots.AxesSubplot at 0x1a17689c588>"
      ]
     },
     "execution_count": 88,
     "metadata": {},
     "output_type": "execute_result"
    },
    {
     "data": {
      "image/png": "[encoded data removed]",
      "text/plain": [
       "<Figure size 432x288 with 1 Axes>"
      ]
     },
     "metadata": {
      "needs_background": "light"
     },
     "output_type": "display_data"
    }
   ],
   "source": [
    "sns.kdeplot(data[(data['gr']=='C')]['ACTG_HUMAN'],label='C')\n",
    "sns.kdeplot(data[(data['gr']=='MDD*SSRI')]['ACTG_HUMAN'],label='MDD*SSRI')"
   ]
  },
  {
   "cell_type": "markdown",
   "metadata": {},
   "source": [
    "# Boxplot for ACTG_HUMAN separated by groups"
   ]
  },
  {
   "cell_type": "code",
   "execution_count": 97,
   "metadata": {},
   "outputs": [
    {
     "data": {
      "text/plain": [
       "<matplotlib.axes._subplots.AxesSubplot at 0x1a176be10c8>"
      ]
     },
     "execution_count": 97,
     "metadata": {},
     "output_type": "execute_result"
    },
    {
     "data": {
      "image/png": "[encoded data removed]",
      "text/plain": [
       "<Figure size 432x288 with 1 Axes>"
      ]
     },
     "metadata": {
      "needs_background": "light"
     },
     "output_type": "display_data"
    }
   ],
   "source": [
    "sns.boxplot(x='gr',y='ACTG_HUMAN',data=data[['ACTG_HUMAN','gr']])"
   ]
  },
  {
   "cell_type": "markdown",
   "metadata": {},
   "source": [
    "# Boxplot for 1433S_HUMAN separated by groups"
   ]
  },
  {
   "cell_type": "code",
   "execution_count": 99,
   "metadata": {},
   "outputs": [
    {
     "data": {
      "text/plain": [
       "<matplotlib.axes._subplots.AxesSubplot at 0x1a176ccbb08>"
      ]
     },
     "execution_count": 99,
     "metadata": {},
     "output_type": "execute_result"
    },
    {
     "data": {
      "image/png": "[encoded data removed]",
      "text/plain": [
       "<Figure size 432x288 with 1 Axes>"
      ]
     },
     "metadata": {
      "needs_background": "light"
     },
     "output_type": "display_data"
    }
   ],
   "source": [
    "sns.boxplot(x='gr',y='1433S_HUMAN',data=data[['1433S_HUMAN','gr']])"
   ]
  },
  {
   "cell_type": "markdown",
   "metadata": {},
   "source": [
    "# Boxplot for AIFM1_HUMAN separated by groups"
   ]
  },
  {
   "cell_type": "code",
   "execution_count": 101,
   "metadata": {},
   "outputs": [
    {
     "data": {
      "text/plain": [
       "<matplotlib.axes._subplots.AxesSubplot at 0x1a176d56e08>"
      ]
     },
     "execution_count": 101,
     "metadata": {},
     "output_type": "execute_result"
    },
    {
     "data": {
      "image/png": "[encoded data removed]",
      "text/plain": [
       "<Figure size 432x288 with 1 Axes>"
      ]
     },
     "metadata": {
      "needs_background": "light"
     },
     "output_type": "display_data"
    }
   ],
   "source": [
    "sns.boxplot(x='gr',y='AIFM1_HUMAN',data=data[['AIFM1_HUMAN','gr']])"
   ]
  },
  {
   "cell_type": "code",
   "execution_count": 90,
   "metadata": {},
   "outputs": [
    {
     "data": {
      "text/plain": [
       "<matplotlib.axes._subplots.AxesSubplot at 0x1a176954948>"
      ]
     },
     "execution_count": 90,
     "metadata": {},
     "output_type": "execute_result"
    },
    {
     "data": {
      "image/png": "[encoded data removed]",
      "text/plain": [
       "<Figure size 432x288 with 1 Axes>"
      ]
     },
     "metadata": {
      "needs_background": "light"
     },
     "output_type": "display_data"
    }
   ],
   "source": [
    "sns.kdeplot(data[(data['gr']=='C')]['1433S_HUMAN'],label='C')\n",
    "sns.kdeplot(data[(data['gr']=='MDD*SSRI')]['1433S_HUMAN'],label='MDD*SSRI')"
   ]
  },
  {
   "cell_type": "code",
   "execution_count": null,
   "metadata": {},
   "outputs": [],
   "source": []
  }
 ],
 "metadata": {
  "kernelspec": {
   "display_name": "Python 3",
   "language": "python",
   "name": "python3"
  },
  "language_info": {
   "codemirror_mode": {
    "name": "ipython",
    "version": 3
   },
   "file_extension": ".py",
   "mimetype": "text/x-python",
   "name": "python",
   "nbconvert_exporter": "python",
   "pygments_lexer": "ipython3",
   "version": "3.6.8"
  }
 },
 "nbformat": 4,
 "nbformat_minor": 2
}
