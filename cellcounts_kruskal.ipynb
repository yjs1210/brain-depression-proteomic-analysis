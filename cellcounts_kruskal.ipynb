{
 "cells": [
  {
   "cell_type": "code",
   "execution_count": 1,
   "metadata": {},
   "outputs": [],
   "source": [
    "import pandas as pd"
   ]
  },
  {
   "cell_type": "code",
   "execution_count": 2,
   "metadata": {},
   "outputs": [],
   "source": [
    "grp = pd.read_csv('kmeans_group.csv')"
   ]
  },
  {
   "cell_type": "code",
   "execution_count": 3,
   "metadata": {},
   "outputs": [],
   "source": [
    "suicide = pd.read_csv('kmeans_suicide.csv')"
   ]
  },
  {
   "cell_type": "code",
   "execution_count": 4,
   "metadata": {},
   "outputs": [],
   "source": [
    "cell = pd.read_excel('cell_count.xlsx')"
   ]
  },
  {
   "cell_type": "code",
   "execution_count": 5,
   "metadata": {
    "collapsed": true
   },
   "outputs": [
    {
     "data": {
      "text/html": [
       "<div>\n",
       "<style scoped>\n",
       "    .dataframe tbody tr th:only-of-type {\n",
       "        vertical-align: middle;\n",
       "    }\n",
       "\n",
       "    .dataframe tbody tr th {\n",
       "        vertical-align: top;\n",
       "    }\n",
       "\n",
       "    .dataframe thead th {\n",
       "        text-align: right;\n",
       "    }\n",
       "</style>\n",
       "<table border=\"1\" class=\"dataframe\">\n",
       "  <thead>\n",
       "    <tr style=\"text-align: right;\">\n",
       "      <th></th>\n",
       "      <th>Unnamed: 0</th>\n",
       "      <th>DIRA1_HUMAN</th>\n",
       "      <th>PRS8_HUMAN</th>\n",
       "      <th>CN166_HUMAN</th>\n",
       "      <th>MA2A1_HUMAN</th>\n",
       "      <th>HPT_HUMAN</th>\n",
       "      <th>HS71L_HUMAN</th>\n",
       "      <th>VGF_HUMAN</th>\n",
       "      <th>RB6I2_HUMAN</th>\n",
       "      <th>patient</th>\n",
       "      <th>group</th>\n",
       "      <th>kmeans</th>\n",
       "      <th>Unnamed: 12</th>\n",
       "      <th>Unnamed: 13</th>\n",
       "      <th>Unnamed: 14</th>\n",
       "      <th>Unnamed: 15</th>\n",
       "    </tr>\n",
       "  </thead>\n",
       "  <tbody>\n",
       "    <tr>\n",
       "      <td>0</td>\n",
       "      <td>0</td>\n",
       "      <td>12.057127</td>\n",
       "      <td>12.376041</td>\n",
       "      <td>10.169992</td>\n",
       "      <td>11.657736</td>\n",
       "      <td>12.560511</td>\n",
       "      <td>13.794041</td>\n",
       "      <td>10.120543</td>\n",
       "      <td>10.763291</td>\n",
       "      <td>113</td>\n",
       "      <td>1</td>\n",
       "      <td>2</td>\n",
       "      <td>NaN</td>\n",
       "      <td>NaN</td>\n",
       "      <td>NaN</td>\n",
       "      <td>NaN</td>\n",
       "    </tr>\n",
       "    <tr>\n",
       "      <td>1</td>\n",
       "      <td>1</td>\n",
       "      <td>11.502411</td>\n",
       "      <td>12.270754</td>\n",
       "      <td>10.083468</td>\n",
       "      <td>11.044040</td>\n",
       "      <td>12.178349</td>\n",
       "      <td>13.525363</td>\n",
       "      <td>9.997073</td>\n",
       "      <td>11.310302</td>\n",
       "      <td>118</td>\n",
       "      <td>0</td>\n",
       "      <td>0</td>\n",
       "      <td>NaN</td>\n",
       "      <td>NaN</td>\n",
       "      <td>NaN</td>\n",
       "      <td>NaN</td>\n",
       "    </tr>\n",
       "    <tr>\n",
       "      <td>2</td>\n",
       "      <td>2</td>\n",
       "      <td>12.125484</td>\n",
       "      <td>12.582711</td>\n",
       "      <td>9.903765</td>\n",
       "      <td>11.374073</td>\n",
       "      <td>12.473881</td>\n",
       "      <td>14.093406</td>\n",
       "      <td>10.253357</td>\n",
       "      <td>10.394984</td>\n",
       "      <td>178</td>\n",
       "      <td>1</td>\n",
       "      <td>1</td>\n",
       "      <td>NaN</td>\n",
       "      <td>NaN</td>\n",
       "      <td>NaN</td>\n",
       "      <td>NaN</td>\n",
       "    </tr>\n",
       "    <tr>\n",
       "      <td>3</td>\n",
       "      <td>3</td>\n",
       "      <td>11.984990</td>\n",
       "      <td>12.207590</td>\n",
       "      <td>10.075545</td>\n",
       "      <td>11.320502</td>\n",
       "      <td>12.084332</td>\n",
       "      <td>13.592409</td>\n",
       "      <td>9.657683</td>\n",
       "      <td>11.224291</td>\n",
       "      <td>190</td>\n",
       "      <td>0</td>\n",
       "      <td>0</td>\n",
       "      <td>NaN</td>\n",
       "      <td>Legend</td>\n",
       "      <td>NaN</td>\n",
       "      <td>NaN</td>\n",
       "    </tr>\n",
       "    <tr>\n",
       "      <td>4</td>\n",
       "      <td>4</td>\n",
       "      <td>11.723921</td>\n",
       "      <td>12.152663</td>\n",
       "      <td>9.931062</td>\n",
       "      <td>11.126727</td>\n",
       "      <td>12.284083</td>\n",
       "      <td>13.732836</td>\n",
       "      <td>10.526246</td>\n",
       "      <td>11.510833</td>\n",
       "      <td>210</td>\n",
       "      <td>0</td>\n",
       "      <td>0</td>\n",
       "      <td>NaN</td>\n",
       "      <td>group a</td>\n",
       "      <td>0.0</td>\n",
       "      <td>MDD*SSRI</td>\n",
       "    </tr>\n",
       "  </tbody>\n",
       "</table>\n",
       "</div>"
      ],
      "text/plain": [
       "   Unnamed: 0  DIRA1_HUMAN  PRS8_HUMAN  CN166_HUMAN  MA2A1_HUMAN  HPT_HUMAN  \\\n",
       "0           0    12.057127   12.376041    10.169992    11.657736  12.560511   \n",
       "1           1    11.502411   12.270754    10.083468    11.044040  12.178349   \n",
       "2           2    12.125484   12.582711     9.903765    11.374073  12.473881   \n",
       "3           3    11.984990   12.207590    10.075545    11.320502  12.084332   \n",
       "4           4    11.723921   12.152663     9.931062    11.126727  12.284083   \n",
       "\n",
       "   HS71L_HUMAN  VGF_HUMAN  RB6I2_HUMAN  patient  group  kmeans  Unnamed: 12  \\\n",
       "0    13.794041  10.120543    10.763291      113      1       2          NaN   \n",
       "1    13.525363   9.997073    11.310302      118      0       0          NaN   \n",
       "2    14.093406  10.253357    10.394984      178      1       1          NaN   \n",
       "3    13.592409   9.657683    11.224291      190      0       0          NaN   \n",
       "4    13.732836  10.526246    11.510833      210      0       0          NaN   \n",
       "\n",
       "  Unnamed: 13  Unnamed: 14 Unnamed: 15  \n",
       "0         NaN          NaN         NaN  \n",
       "1         NaN          NaN         NaN  \n",
       "2         NaN          NaN         NaN  \n",
       "3      Legend          NaN         NaN  \n",
       "4     group a          0.0    MDD*SSRI  "
      ]
     },
     "execution_count": 5,
     "metadata": {},
     "output_type": "execute_result"
    }
   ],
   "source": [
    "grp.head()"
   ]
  },
  {
   "cell_type": "code",
   "execution_count": 8,
   "metadata": {},
   "outputs": [],
   "source": [
    "grp = grp.drop(['Unnamed: 13','Unnamed: 14','Unnamed: 15'],axis=1)"
   ]
  },
  {
   "cell_type": "code",
   "execution_count": 9,
   "metadata": {
    "collapsed": true
   },
   "outputs": [
    {
     "data": {
      "text/html": [
       "<div>\n",
       "<style scoped>\n",
       "    .dataframe tbody tr th:only-of-type {\n",
       "        vertical-align: middle;\n",
       "    }\n",
       "\n",
       "    .dataframe tbody tr th {\n",
       "        vertical-align: top;\n",
       "    }\n",
       "\n",
       "    .dataframe thead th {\n",
       "        text-align: right;\n",
       "    }\n",
       "</style>\n",
       "<table border=\"1\" class=\"dataframe\">\n",
       "  <thead>\n",
       "    <tr style=\"text-align: right;\">\n",
       "      <th></th>\n",
       "      <th>Unnamed: 0</th>\n",
       "      <th>DIRA1_HUMAN</th>\n",
       "      <th>PRS8_HUMAN</th>\n",
       "      <th>RB6I2_HUMAN</th>\n",
       "      <th>ATD3A_HUMAN</th>\n",
       "      <th>MA2A1_HUMAN</th>\n",
       "      <th>ENPL_HUMAN</th>\n",
       "      <th>patient_id</th>\n",
       "      <th>suicide</th>\n",
       "      <th>kmeans</th>\n",
       "      <th>truth</th>\n",
       "    </tr>\n",
       "  </thead>\n",
       "  <tbody>\n",
       "    <tr>\n",
       "      <td>0</td>\n",
       "      <td>0</td>\n",
       "      <td>12.057127</td>\n",
       "      <td>12.376041</td>\n",
       "      <td>10.763291</td>\n",
       "      <td>9.779869</td>\n",
       "      <td>11.657736</td>\n",
       "      <td>13.402372</td>\n",
       "      <td>113</td>\n",
       "      <td>Non-Suic</td>\n",
       "      <td>0</td>\n",
       "      <td>0</td>\n",
       "    </tr>\n",
       "    <tr>\n",
       "      <td>1</td>\n",
       "      <td>1</td>\n",
       "      <td>11.502411</td>\n",
       "      <td>12.270754</td>\n",
       "      <td>11.310302</td>\n",
       "      <td>9.586055</td>\n",
       "      <td>11.044040</td>\n",
       "      <td>12.962433</td>\n",
       "      <td>118</td>\n",
       "      <td>Suicide</td>\n",
       "      <td>1</td>\n",
       "      <td>1</td>\n",
       "    </tr>\n",
       "    <tr>\n",
       "      <td>2</td>\n",
       "      <td>2</td>\n",
       "      <td>12.125484</td>\n",
       "      <td>12.582711</td>\n",
       "      <td>10.394984</td>\n",
       "      <td>9.803057</td>\n",
       "      <td>11.374073</td>\n",
       "      <td>13.234141</td>\n",
       "      <td>178</td>\n",
       "      <td>Non-Suic</td>\n",
       "      <td>0</td>\n",
       "      <td>0</td>\n",
       "    </tr>\n",
       "    <tr>\n",
       "      <td>3</td>\n",
       "      <td>3</td>\n",
       "      <td>11.984990</td>\n",
       "      <td>12.207590</td>\n",
       "      <td>11.224291</td>\n",
       "      <td>9.528297</td>\n",
       "      <td>11.320502</td>\n",
       "      <td>13.049346</td>\n",
       "      <td>190</td>\n",
       "      <td>Suicide</td>\n",
       "      <td>1</td>\n",
       "      <td>1</td>\n",
       "    </tr>\n",
       "    <tr>\n",
       "      <td>4</td>\n",
       "      <td>4</td>\n",
       "      <td>11.723921</td>\n",
       "      <td>12.152663</td>\n",
       "      <td>11.510833</td>\n",
       "      <td>9.837450</td>\n",
       "      <td>11.126727</td>\n",
       "      <td>13.067287</td>\n",
       "      <td>210</td>\n",
       "      <td>Suicide</td>\n",
       "      <td>1</td>\n",
       "      <td>1</td>\n",
       "    </tr>\n",
       "  </tbody>\n",
       "</table>\n",
       "</div>"
      ],
      "text/plain": [
       "   Unnamed: 0  DIRA1_HUMAN  PRS8_HUMAN  RB6I2_HUMAN  ATD3A_HUMAN  MA2A1_HUMAN  \\\n",
       "0           0    12.057127   12.376041    10.763291     9.779869    11.657736   \n",
       "1           1    11.502411   12.270754    11.310302     9.586055    11.044040   \n",
       "2           2    12.125484   12.582711    10.394984     9.803057    11.374073   \n",
       "3           3    11.984990   12.207590    11.224291     9.528297    11.320502   \n",
       "4           4    11.723921   12.152663    11.510833     9.837450    11.126727   \n",
       "\n",
       "   ENPL_HUMAN  patient_id   suicide  kmeans  truth  \n",
       "0   13.402372         113  Non-Suic       0      0  \n",
       "1   12.962433         118   Suicide       1      1  \n",
       "2   13.234141         178  Non-Suic       0      0  \n",
       "3   13.049346         190   Suicide       1      1  \n",
       "4   13.067287         210   Suicide       1      1  "
      ]
     },
     "execution_count": 9,
     "metadata": {},
     "output_type": "execute_result"
    }
   ],
   "source": [
    "suicide.head()"
   ]
  },
  {
   "cell_type": "code",
   "execution_count": 10,
   "metadata": {
    "collapsed": true
   },
   "outputs": [
    {
     "data": {
      "text/html": [
       "<div>\n",
       "<style scoped>\n",
       "    .dataframe tbody tr th:only-of-type {\n",
       "        vertical-align: middle;\n",
       "    }\n",
       "\n",
       "    .dataframe tbody tr th {\n",
       "        vertical-align: top;\n",
       "    }\n",
       "\n",
       "    .dataframe thead th {\n",
       "        text-align: right;\n",
       "    }\n",
       "</style>\n",
       "<table border=\"1\" class=\"dataframe\">\n",
       "  <thead>\n",
       "    <tr style=\"text-align: right;\">\n",
       "      <th></th>\n",
       "      <th>ID</th>\n",
       "      <th>GROUP</th>\n",
       "      <th>SEX</th>\n",
       "      <th>AGE</th>\n",
       "      <th>SUICIDE</th>\n",
       "      <th>MODE OF DEATH</th>\n",
       "      <th>TOXICOLOGY</th>\n",
       "      <th>PMI</th>\n",
       "      <th>BRAIN PH</th>\n",
       "      <th>GAS</th>\n",
       "      <th>...</th>\n",
       "      <th>DCX_AntDG</th>\n",
       "      <th>Nissl_AntGlia#</th>\n",
       "      <th>PSANCAM_AntAllCell</th>\n",
       "      <th>PSAAntBipol#</th>\n",
       "      <th>PSAAntPyram#</th>\n",
       "      <th>PSAAntImm#</th>\n",
       "      <th>VssANTDG#VesXmm³</th>\n",
       "      <th>VssANTArea_um2</th>\n",
       "      <th>VssLGHTAvgANT_um</th>\n",
       "      <th>VssANT#NodesXVes</th>\n",
       "    </tr>\n",
       "  </thead>\n",
       "  <tbody>\n",
       "    <tr>\n",
       "      <td>0</td>\n",
       "      <td>1043</td>\n",
       "      <td>Control</td>\n",
       "      <td>F</td>\n",
       "      <td>14</td>\n",
       "      <td>NonSuicide</td>\n",
       "      <td>Traffic Accident-Pedestrian (Accident)</td>\n",
       "      <td>NONE</td>\n",
       "      <td>17.0</td>\n",
       "      <td>Pending</td>\n",
       "      <td>100</td>\n",
       "      <td>...</td>\n",
       "      <td>7711.21</td>\n",
       "      <td>1294296.0</td>\n",
       "      <td>6371.0</td>\n",
       "      <td>5172.0</td>\n",
       "      <td>50.0</td>\n",
       "      <td>1149.0</td>\n",
       "      <td>14226.0</td>\n",
       "      <td>598074.1182</td>\n",
       "      <td>4944.0600</td>\n",
       "      <td>0.2919</td>\n",
       "    </tr>\n",
       "    <tr>\n",
       "      <td>1</td>\n",
       "      <td>1018</td>\n",
       "      <td>MDD</td>\n",
       "      <td>M</td>\n",
       "      <td>26</td>\n",
       "      <td>Suicide</td>\n",
       "      <td>Fall From Height (Suicide)</td>\n",
       "      <td>NONE</td>\n",
       "      <td>4.0</td>\n",
       "      <td>Pending</td>\n",
       "      <td>61</td>\n",
       "      <td>...</td>\n",
       "      <td>7510.43</td>\n",
       "      <td>1642173.0</td>\n",
       "      <td>6361.0</td>\n",
       "      <td>5172.0</td>\n",
       "      <td>40.0</td>\n",
       "      <td>1149.0</td>\n",
       "      <td>NaN</td>\n",
       "      <td>NaN</td>\n",
       "      <td>NaN</td>\n",
       "      <td>NaN</td>\n",
       "    </tr>\n",
       "    <tr>\n",
       "      <td>2</td>\n",
       "      <td>1005</td>\n",
       "      <td>MDD</td>\n",
       "      <td>F</td>\n",
       "      <td>57</td>\n",
       "      <td>NonSuicide</td>\n",
       "      <td>Hemorrhagic Pancreatitis (Natural)</td>\n",
       "      <td>NONE</td>\n",
       "      <td>9.0</td>\n",
       "      <td>6</td>\n",
       "      <td>61</td>\n",
       "      <td>...</td>\n",
       "      <td>5302.50</td>\n",
       "      <td>1326092.0</td>\n",
       "      <td>NaN</td>\n",
       "      <td>5172.0</td>\n",
       "      <td>NaN</td>\n",
       "      <td>1149.0</td>\n",
       "      <td>9455.0</td>\n",
       "      <td>330686.1127</td>\n",
       "      <td>1894.7250</td>\n",
       "      <td>0.2594</td>\n",
       "    </tr>\n",
       "    <tr>\n",
       "      <td>3</td>\n",
       "      <td>893</td>\n",
       "      <td>MDD</td>\n",
       "      <td>F</td>\n",
       "      <td>71</td>\n",
       "      <td>Suicide</td>\n",
       "      <td>Drowning (Suicide)</td>\n",
       "      <td>NONE</td>\n",
       "      <td>7.0</td>\n",
       "      <td>6.3</td>\n",
       "      <td>30</td>\n",
       "      <td>...</td>\n",
       "      <td>1662.85</td>\n",
       "      <td>998784.0</td>\n",
       "      <td>1756.0</td>\n",
       "      <td>858.0</td>\n",
       "      <td>40.0</td>\n",
       "      <td>858.0</td>\n",
       "      <td>NaN</td>\n",
       "      <td>NaN</td>\n",
       "      <td>NaN</td>\n",
       "      <td>NaN</td>\n",
       "    </tr>\n",
       "    <tr>\n",
       "      <td>4</td>\n",
       "      <td>892</td>\n",
       "      <td>Control</td>\n",
       "      <td>F</td>\n",
       "      <td>50</td>\n",
       "      <td>NonSuicide</td>\n",
       "      <td>Peritonitis (Natural)</td>\n",
       "      <td>NONE</td>\n",
       "      <td>22.0</td>\n",
       "      <td>6.1</td>\n",
       "      <td>70</td>\n",
       "      <td>...</td>\n",
       "      <td>9575.61</td>\n",
       "      <td>2793457.0</td>\n",
       "      <td>NaN</td>\n",
       "      <td>3441.0</td>\n",
       "      <td>607.0</td>\n",
       "      <td>1215.0</td>\n",
       "      <td>9293.0</td>\n",
       "      <td>266194.0318</td>\n",
       "      <td>2080.7333</td>\n",
       "      <td>0.1730</td>\n",
       "    </tr>\n",
       "  </tbody>\n",
       "</table>\n",
       "<p>5 rows × 30 columns</p>\n",
       "</div>"
      ],
      "text/plain": [
       "     ID    GROUP SEX  AGE     SUICIDE                           MODE OF DEATH  \\\n",
       "0  1043  Control   F   14  NonSuicide  Traffic Accident-Pedestrian (Accident)   \n",
       "1  1018      MDD   M   26     Suicide              Fall From Height (Suicide)   \n",
       "2  1005      MDD   F   57  NonSuicide      Hemorrhagic Pancreatitis (Natural)   \n",
       "3   893      MDD   F   71     Suicide                      Drowning (Suicide)   \n",
       "4   892  Control   F   50  NonSuicide                   Peritonitis (Natural)   \n",
       "\n",
       "  TOXICOLOGY   PMI BRAIN PH  GAS  ... DCX_AntDG Nissl_AntGlia#  \\\n",
       "0       NONE  17.0  Pending  100  ...   7711.21      1294296.0   \n",
       "1       NONE   4.0  Pending   61  ...   7510.43      1642173.0   \n",
       "2       NONE   9.0        6   61  ...   5302.50      1326092.0   \n",
       "3       NONE   7.0      6.3   30  ...   1662.85       998784.0   \n",
       "4       NONE  22.0      6.1   70  ...   9575.61      2793457.0   \n",
       "\n",
       "   PSANCAM_AntAllCell PSAAntBipol# PSAAntPyram#  PSAAntImm#  VssANTDG#VesXmm³  \\\n",
       "0              6371.0       5172.0         50.0      1149.0           14226.0   \n",
       "1              6361.0       5172.0         40.0      1149.0               NaN   \n",
       "2                 NaN       5172.0          NaN      1149.0            9455.0   \n",
       "3              1756.0        858.0         40.0       858.0               NaN   \n",
       "4                 NaN       3441.0        607.0      1215.0            9293.0   \n",
       "\n",
       "   VssANTArea_um2  VssLGHTAvgANT_um  VssANT#NodesXVes  \n",
       "0     598074.1182         4944.0600            0.2919  \n",
       "1             NaN               NaN               NaN  \n",
       "2     330686.1127         1894.7250            0.2594  \n",
       "3             NaN               NaN               NaN  \n",
       "4     266194.0318         2080.7333            0.1730  \n",
       "\n",
       "[5 rows x 30 columns]"
      ]
     },
     "execution_count": 10,
     "metadata": {},
     "output_type": "execute_result"
    }
   ],
   "source": [
    "cell.head()"
   ]
  },
  {
   "cell_type": "code",
   "execution_count": 21,
   "metadata": {},
   "outputs": [],
   "source": [
    "grp = grp.rename(columns={'patient':'patient_id'\n",
    "})"
   ]
  },
  {
   "cell_type": "code",
   "execution_count": 15,
   "metadata": {},
   "outputs": [],
   "source": [
    "demo = cell[['patient_id','SEX','AGE']]"
   ]
  },
  {
   "cell_type": "code",
   "execution_count": 18,
   "metadata": {},
   "outputs": [],
   "source": [
    "dem_suicide = pd.merge(suicide, demo, on='patient_id')"
   ]
  },
  {
   "cell_type": "code",
   "execution_count": 19,
   "metadata": {},
   "outputs": [],
   "source": [
    "dem_suicide.to_csv('dem_suicide.csv')"
   ]
  },
  {
   "cell_type": "code",
   "execution_count": 22,
   "metadata": {},
   "outputs": [],
   "source": [
    "grp_suicide = pd.merge(grp, demo, on='patient_id')\n",
    "grp_suicide.to_csv('grp_suicide.csv')"
   ]
  },
  {
   "cell_type": "code",
   "execution_count": 23,
   "metadata": {},
   "outputs": [
    {
     "name": "stdout",
     "output_type": "stream",
     "text": [
      "<class 'pandas.core.frame.DataFrame'>\n",
      "RangeIndex: 36 entries, 0 to 35\n",
      "Data columns (total 30 columns):\n",
      "patient_id                   36 non-null int64\n",
      "GROUP                        36 non-null object\n",
      "SEX                          36 non-null object\n",
      "AGE                          36 non-null int64\n",
      "SUICIDE                      36 non-null object\n",
      "MODE OF DEATH                36 non-null object\n",
      "TOXICOLOGY                   36 non-null object\n",
      "PMI                          36 non-null float64\n",
      "BRAIN PH                     36 non-null object\n",
      "GAS                          36 non-null int64\n",
      "Duration of  MDD             24 non-null object\n",
      "Age at MDD Onset             24 non-null object\n",
      "N. of Depressive Episodes    24 non-null float64\n",
      "ETHNICITY                    36 non-null object\n",
      "SMOKER                       36 non-null object\n",
      "ID.1                         36 non-null int64\n",
      "AntDGVol_mm3                 36 non-null float64\n",
      "GNAnt#                       34 non-null float64\n",
      "NestinAnt#                   36 non-null int64\n",
      "Ki67Head#                    32 non-null float64\n",
      "DCX_AntDG                    26 non-null float64\n",
      "Nissl_AntGlia#               33 non-null float64\n",
      "PSANCAM_AntAllCell           27 non-null float64\n",
      "PSAAntBipol#                 33 non-null float64\n",
      "PSAAntPyram#                 33 non-null float64\n",
      "PSAAntImm#                   32 non-null float64\n",
      "VssANTDG#VesXmm³             30 non-null float64\n",
      "VssANTArea_um2               30 non-null float64\n",
      "VssLGHTAvgANT_um             25 non-null float64\n",
      "VssANT#NodesXVes             28 non-null float64\n",
      "dtypes: float64(15), int64(5), object(10)\n",
      "memory usage: 8.6+ KB\n"
     ]
    }
   ],
   "source": [
    "cell.info()"
   ]
  },
  {
   "cell_type": "code",
   "execution_count": 35,
   "metadata": {},
   "outputs": [],
   "source": [
    "cell_suicide = cell.drop(['GROUP',\n",
    "                          'AGE',\n",
    "                          'MODE OF DEATH',\n",
    "                          'TOXICOLOGY',\n",
    "                          'PMI',\n",
    "                         'BRAIN PH',\n",
    "                         'GAS',\n",
    "                         'Duration of  MDD',\n",
    "                         'Age at MDD Onset',\n",
    "                         'N. of Depressive Episodes',\n",
    "                         'ETHNICITY',\n",
    "                         'SMOKER',\n",
    "                         'ID.1'], axis=1)"
   ]
  },
  {
   "cell_type": "code",
   "execution_count": 45,
   "metadata": {},
   "outputs": [],
   "source": [
    "cell_grp = cell.drop([\n",
    "                          'AGE',\n",
    "                          'MODE OF DEATH',\n",
    "                          'TOXICOLOGY',\n",
    "                          'PMI',\n",
    "                         'BRAIN PH',\n",
    "                         'GAS',\n",
    "                         'Duration of  MDD',\n",
    "                         'Age at MDD Onset',\n",
    "                         'N. of Depressive Episodes',\n",
    "                         'ETHNICITY',\n",
    "                         'SMOKER',\n",
    "                         'ID.1',\n",
    "                     'SEX'], axis=1)"
   ]
  },
  {
   "cell_type": "code",
   "execution_count": 36,
   "metadata": {},
   "outputs": [
    {
     "name": "stdout",
     "output_type": "stream",
     "text": [
      "<class 'pandas.core.frame.DataFrame'>\n",
      "RangeIndex: 36 entries, 0 to 35\n",
      "Data columns (total 17 columns):\n",
      "patient_id            36 non-null int64\n",
      "SEX                   36 non-null object\n",
      "SUICIDE               36 non-null object\n",
      "AntDGVol_mm3          36 non-null float64\n",
      "GNAnt#                34 non-null float64\n",
      "NestinAnt#            36 non-null int64\n",
      "Ki67Head#             32 non-null float64\n",
      "DCX_AntDG             26 non-null float64\n",
      "Nissl_AntGlia#        33 non-null float64\n",
      "PSANCAM_AntAllCell    27 non-null float64\n",
      "PSAAntBipol#          33 non-null float64\n",
      "PSAAntPyram#          33 non-null float64\n",
      "PSAAntImm#            32 non-null float64\n",
      "VssANTDG#VesXmm³      30 non-null float64\n",
      "VssANTArea_um2        30 non-null float64\n",
      "VssLGHTAvgANT_um      25 non-null float64\n",
      "VssANT#NodesXVes      28 non-null float64\n",
      "dtypes: float64(13), int64(2), object(2)\n",
      "memory usage: 4.9+ KB\n"
     ]
    }
   ],
   "source": [
    "cell_suicide.info()"
   ]
  },
  {
   "cell_type": "code",
   "execution_count": 37,
   "metadata": {},
   "outputs": [],
   "source": [
    "cell_suicide = cell_suicide.drop(['SEX'], axis=1)"
   ]
  },
  {
   "cell_type": "code",
   "execution_count": 40,
   "metadata": {},
   "outputs": [
    {
     "data": {
      "text/html": [
       "<div>\n",
       "<style scoped>\n",
       "    .dataframe tbody tr th:only-of-type {\n",
       "        vertical-align: middle;\n",
       "    }\n",
       "\n",
       "    .dataframe tbody tr th {\n",
       "        vertical-align: top;\n",
       "    }\n",
       "\n",
       "    .dataframe thead th {\n",
       "        text-align: right;\n",
       "    }\n",
       "</style>\n",
       "<table border=\"1\" class=\"dataframe\">\n",
       "  <thead>\n",
       "    <tr style=\"text-align: right;\">\n",
       "      <th></th>\n",
       "      <th>feature</th>\n",
       "      <th>pvalues</th>\n",
       "    </tr>\n",
       "  </thead>\n",
       "  <tbody>\n",
       "    <tr>\n",
       "      <td>0</td>\n",
       "      <td>AntDGVol_mm3</td>\n",
       "      <td>0.437052</td>\n",
       "    </tr>\n",
       "    <tr>\n",
       "      <td>1</td>\n",
       "      <td>GNAnt#</td>\n",
       "      <td>0.437056</td>\n",
       "    </tr>\n",
       "    <tr>\n",
       "      <td>2</td>\n",
       "      <td>NestinAnt#</td>\n",
       "      <td>0.242693</td>\n",
       "    </tr>\n",
       "    <tr>\n",
       "      <td>3</td>\n",
       "      <td>Ki67Head#</td>\n",
       "      <td>0.257842</td>\n",
       "    </tr>\n",
       "    <tr>\n",
       "      <td>4</td>\n",
       "      <td>DCX_AntDG</td>\n",
       "      <td>0.412224</td>\n",
       "    </tr>\n",
       "    <tr>\n",
       "      <td>5</td>\n",
       "      <td>Nissl_AntGlia#</td>\n",
       "      <td>0.043509</td>\n",
       "    </tr>\n",
       "    <tr>\n",
       "      <td>6</td>\n",
       "      <td>PSANCAM_AntAllCell</td>\n",
       "      <td>0.120435</td>\n",
       "    </tr>\n",
       "    <tr>\n",
       "      <td>7</td>\n",
       "      <td>PSAAntBipol#</td>\n",
       "      <td>0.294763</td>\n",
       "    </tr>\n",
       "    <tr>\n",
       "      <td>8</td>\n",
       "      <td>PSAAntPyram#</td>\n",
       "      <td>0.424379</td>\n",
       "    </tr>\n",
       "    <tr>\n",
       "      <td>9</td>\n",
       "      <td>PSAAntImm#</td>\n",
       "      <td>0.363472</td>\n",
       "    </tr>\n",
       "    <tr>\n",
       "      <td>10</td>\n",
       "      <td>VssANTDG#VesXmm³</td>\n",
       "      <td>0.393826</td>\n",
       "    </tr>\n",
       "    <tr>\n",
       "      <td>11</td>\n",
       "      <td>VssANTArea_um2</td>\n",
       "      <td>0.237875</td>\n",
       "    </tr>\n",
       "    <tr>\n",
       "      <td>12</td>\n",
       "      <td>VssLGHTAvgANT_um</td>\n",
       "      <td>0.072420</td>\n",
       "    </tr>\n",
       "    <tr>\n",
       "      <td>13</td>\n",
       "      <td>VssANT#NodesXVes</td>\n",
       "      <td>0.174919</td>\n",
       "    </tr>\n",
       "  </tbody>\n",
       "</table>\n",
       "</div>"
      ],
      "text/plain": [
       "               feature   pvalues\n",
       "0         AntDGVol_mm3  0.437052\n",
       "1               GNAnt#  0.437056\n",
       "2           NestinAnt#  0.242693\n",
       "3            Ki67Head#  0.257842\n",
       "4            DCX_AntDG  0.412224\n",
       "5       Nissl_AntGlia#  0.043509\n",
       "6   PSANCAM_AntAllCell  0.120435\n",
       "7         PSAAntBipol#  0.294763\n",
       "8         PSAAntPyram#  0.424379\n",
       "9           PSAAntImm#  0.363472\n",
       "10    VssANTDG#VesXmm³  0.393826\n",
       "11      VssANTArea_um2  0.237875\n",
       "12    VssLGHTAvgANT_um  0.072420\n",
       "13    VssANT#NodesXVes  0.174919"
      ]
     },
     "execution_count": 40,
     "metadata": {},
     "output_type": "execute_result"
    }
   ],
   "source": [
    "from scipy import stats\n",
    "\n",
    "pvalues = []\n",
    "for col in cell_suicide.columns:\n",
    "\n",
    "    if (col != 'patient_id') & (col != 'SUICIDE'):\n",
    "        p = stats.mannwhitneyu(cell_suicide[cell_suicide['SUICIDE']=='Suicide'][col],\n",
    "                           cell_suicide[cell_suicide['SUICIDE']=='NonSuicide'][col])[1]\n",
    "        \n",
    "        pvalues.append([col,p])\n",
    "\n",
    "pvalues = pd.DataFrame(pvalues)\n",
    "pvalues = pvalues.rename(columns={0:'feature',1:'pvalues'})\n",
    "pvalues"
   ]
  },
  {
   "cell_type": "code",
   "execution_count": 41,
   "metadata": {},
   "outputs": [
    {
     "data": {
      "text/html": [
       "<div>\n",
       "<style scoped>\n",
       "    .dataframe tbody tr th:only-of-type {\n",
       "        vertical-align: middle;\n",
       "    }\n",
       "\n",
       "    .dataframe tbody tr th {\n",
       "        vertical-align: top;\n",
       "    }\n",
       "\n",
       "    .dataframe thead th {\n",
       "        text-align: right;\n",
       "    }\n",
       "</style>\n",
       "<table border=\"1\" class=\"dataframe\">\n",
       "  <thead>\n",
       "    <tr style=\"text-align: right;\">\n",
       "      <th></th>\n",
       "      <th>feature</th>\n",
       "      <th>pvalues</th>\n",
       "    </tr>\n",
       "  </thead>\n",
       "  <tbody>\n",
       "    <tr>\n",
       "      <td>5</td>\n",
       "      <td>Nissl_AntGlia#</td>\n",
       "      <td>0.043509</td>\n",
       "    </tr>\n",
       "  </tbody>\n",
       "</table>\n",
       "</div>"
      ],
      "text/plain": [
       "          feature   pvalues\n",
       "5  Nissl_AntGlia#  0.043509"
      ]
     },
     "execution_count": 41,
     "metadata": {},
     "output_type": "execute_result"
    }
   ],
   "source": [
    "pvalues[pvalues['pvalues']<0.05]"
   ]
  },
  {
   "cell_type": "code",
   "execution_count": 42,
   "metadata": {},
   "outputs": [
    {
     "data": {
      "text/plain": [
       "<matplotlib.axes._subplots.AxesSubplot at 0x2b02211f7c8>"
      ]
     },
     "execution_count": 42,
     "metadata": {},
     "output_type": "execute_result"
    },
    {
     "data": {
      "image/png": "[encoded data removed]",
      "text/plain": [
       "<Figure size 432x288 with 1 Axes>"
      ]
     },
     "metadata": {
      "needs_background": "light"
     },
     "output_type": "display_data"
    }
   ],
   "source": [
    "sns.kdeplot(cell_suicide[(cell_suicide['SUICIDE']=='Suicide')]['Nissl_AntGlia#'],label='Suicide')\n",
    "sns.kdeplot(cell_suicide[(cell_suicide['SUICIDE']=='NonSuicide')]['Nissl_AntGlia#'],label='NonSuicide')"
   ]
  },
  {
   "cell_type": "code",
   "execution_count": 43,
   "metadata": {},
   "outputs": [
    {
     "data": {
      "text/plain": [
       "<matplotlib.axes._subplots.AxesSubplot at 0x2b02215e048>"
      ]
     },
     "execution_count": 43,
     "metadata": {},
     "output_type": "execute_result"
    },
    {
     "data": {
      "image/png": "[encoded data removed]",
      "text/plain": [
       "<Figure size 432x288 with 1 Axes>"
      ]
     },
     "metadata": {
      "needs_background": "light"
     },
     "output_type": "display_data"
    }
   ],
   "source": [
    "sns.kdeplot(cell_suicide[(cell_suicide['SUICIDE']=='Suicide')]['GNAnt#'],label='Suicide')\n",
    "sns.kdeplot(cell_suicide[(cell_suicide['SUICIDE']=='NonSuicide')]['GNAnt#'],label='NonSuicide')"
   ]
  },
  {
   "cell_type": "code",
   "execution_count": 50,
   "metadata": {},
   "outputs": [],
   "source": [
    "from scipy.stats import kruskal\n",
    "\n",
    "grp_c = cell_grp[cell_grp['GROUP']=='Control']\n",
    "grp_mdd = cell_grp[cell_grp['GROUP']=='MDD']\n",
    "grp_ssri = cell_grp[cell_grp['GROUP']=='MDD*ADT']"
   ]
  },
  {
   "cell_type": "code",
   "execution_count": 55,
   "metadata": {},
   "outputs": [],
   "source": [
    "cols = list(grp_c.columns)\n",
    "cols.remove('patient_id')\n",
    "cols.remove('GROUP')\n",
    "cols.remove('SUICIDE')\n",
    "def conduct_tests(group1, group2, group3):\n",
    "    results = []\n",
    "    for col in cols:\n",
    "        p_val = kruskal(group1[col], group2[col],group3[col])[1]\n",
    "        if p_val < 0.05:\n",
    "            results.append([col,p_val])\n",
    "            \n",
    "    return pd.DataFrame(results)\n",
    "        \n",
    "results = conduct_tests(grp_c, grp_mdd, grp_ssri)"
   ]
  },
  {
   "cell_type": "code",
   "execution_count": 56,
   "metadata": {},
   "outputs": [
    {
     "data": {
      "text/html": [
       "<div>\n",
       "<style scoped>\n",
       "    .dataframe tbody tr th:only-of-type {\n",
       "        vertical-align: middle;\n",
       "    }\n",
       "\n",
       "    .dataframe tbody tr th {\n",
       "        vertical-align: top;\n",
       "    }\n",
       "\n",
       "    .dataframe thead th {\n",
       "        text-align: right;\n",
       "    }\n",
       "</style>\n",
       "<table border=\"1\" class=\"dataframe\">\n",
       "  <thead>\n",
       "    <tr style=\"text-align: right;\">\n",
       "      <th></th>\n",
       "      <th>0</th>\n",
       "      <th>1</th>\n",
       "    </tr>\n",
       "  </thead>\n",
       "  <tbody>\n",
       "    <tr>\n",
       "      <td>0</td>\n",
       "      <td>NestinAnt#</td>\n",
       "      <td>0.000197</td>\n",
       "    </tr>\n",
       "  </tbody>\n",
       "</table>\n",
       "</div>"
      ],
      "text/plain": [
       "            0         1\n",
       "0  NestinAnt#  0.000197"
      ]
     },
     "execution_count": 56,
     "metadata": {},
     "output_type": "execute_result"
    }
   ],
   "source": [
    "results"
   ]
  },
  {
   "cell_type": "code",
   "execution_count": 57,
   "metadata": {},
   "outputs": [
    {
     "data": {
      "text/plain": [
       "0.0035714285714285718"
      ]
     },
     "execution_count": 57,
     "metadata": {},
     "output_type": "execute_result"
    }
   ],
   "source": [
    "0.05/14"
   ]
  },
  {
   "cell_type": "code",
   "execution_count": 58,
   "metadata": {},
   "outputs": [
    {
     "data": {
      "text/plain": [
       "0.002758"
      ]
     },
     "execution_count": 58,
     "metadata": {},
     "output_type": "execute_result"
    }
   ],
   "source": [
    "0.000197*14"
   ]
  },
  {
   "cell_type": "markdown",
   "metadata": {},
   "source": [
    "## Check if these are correlated with age in each group "
   ]
  },
  {
   "cell_type": "code",
   "execution_count": null,
   "metadata": {},
   "outputs": [],
   "source": []
  }
 ],
 "metadata": {
  "kernelspec": {
   "display_name": "Python 3",
   "language": "python",
   "name": "python3"
  },
  "language_info": {
   "codemirror_mode": {
    "name": "ipython",
    "version": 3
   },
   "file_extension": ".py",
   "mimetype": "text/x-python",
   "name": "python",
   "nbconvert_exporter": "python",
   "pygments_lexer": "ipython3",
   "version": "3.7.4"
  }
 },
 "nbformat": 4,
 "nbformat_minor": 2
}
